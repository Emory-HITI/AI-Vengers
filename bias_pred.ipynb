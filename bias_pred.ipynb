{
 "cells": [
  {
   "cell_type": "code",
   "execution_count": 1,
   "metadata": {},
   "outputs": [],
   "source": [
    "%load_ext autotime\n",
    "\n",
    "import os\n",
    "import sys\n",
    "import glob\n",
    "import math\n",
    "import h5py\n",
    "import pandas as pd \n",
    "import numpy as np \n",
    "import tensorflow as tf\n",
    "import matplotlib.pyplot as plt\n",
    "import seaborn as sns\n",
    "\n",
    "import warnings\n",
    "warnings.filterwarnings('ignore')\n",
    "\n",
    "from tqdm import tqdm, trange\n",
    "from sklearn.metrics import classification_report, roc_auc_score, roc_curve, precision_recall_curve\n",
    "from sklearn.metrics import auc, accuracy_score, recall_score, precision_score, f1_score, confusion_matrix"
   ]
  },
  {
   "cell_type": "code",
   "execution_count": 2,
   "metadata": {
    "scrolled": true
   },
   "outputs": [
    {
     "name": "stdout",
     "output_type": "stream",
     "text": [
      "time: 1.19 ms\n"
     ]
    }
   ],
   "source": [
    "# Base/Parent Class\n",
    "class Model():\n",
    "    '''\n",
    "    Class for initializing model path and data path.\n",
    "    \n",
    "    model_path: str\n",
    "    data_path: str\n",
    "    \n",
    "    Note: - The model path should contain the model and it's corresponding trained weights.\n",
    "          - The data path should contain the validation/test dataset and the \n",
    "            corresponding images path should be provided as required.\n",
    "    '''\n",
    "    def __init__(self, model_path, data_path):\n",
    "        self.model_path = model_path\n",
    "        self.data_path = data_path"
   ]
  },
  {
   "cell_type": "markdown",
   "metadata": {},
   "source": [
    "| Model Name         | Status       | Comments     |\n",
    "| :-------------     | :----------: | -----------: |\n",
    "| Digital Hand Atlas | Completed    | None         |\n",
    "| Mammogram          | Completed    | None         |\n",
    "| CheXpert           | Completed    | Inference Mismatch|\n",
    "| MIMIC-Brandon      | Completed    | None         |\n",
    "| MIMIC-PoChih       | Completed    | Inference to be validated|\n",
    "| Cervical Spine     | Completed    | None         |\n",
    "| Emory CXR          | Completed    | None         |\n",
    "| MURA               | Not Completed| None         |\n",
    "| Emory CT           | Not Completed| None         |\n",
    "| RSPECT             | Not Completed| None         |"
   ]
  },
  {
   "cell_type": "markdown",
   "metadata": {},
   "source": [
    "## To do \n",
    "\n",
    "1. Include overall AUC-ROC Scores and individual AUC-ROC Scores for every model.\n",
    "2. Add a small description on how to access the data and models.\n",
    "3. Work on the models whose status is incomplete.\n",
    "4. Check with Brandon and PoChih for the inference mismatch."
   ]
  },
  {
   "cell_type": "code",
   "execution_count": 3,
   "metadata": {
    "scrolled": false
   },
   "outputs": [
    {
     "name": "stdout",
     "output_type": "stream",
     "text": [
      "WARNING:tensorflow:SavedModel saved prior to TF 2.5 detected when loading Keras model. Please ensure that you are saving the model with model.save() or tf.keras.models.save_model(), *NOT* tf.saved_model.save(). To confirm, there should be a file named \"keras_metadata.pb\" in the SavedModel directory.\n",
      "                  precision    recall  f1-score   support\n",
      "\n",
      "African American       0.66      0.68      0.67       110\n",
      "       Caucasian       0.75      0.71      0.73       128\n",
      "        Hispanic       0.62      0.64      0.63       113\n",
      "           Asian       0.53      0.53      0.53       108\n",
      "\n",
      "        accuracy                           0.64       459\n",
      "       macro avg       0.64      0.64      0.64       459\n",
      "    weighted avg       0.64      0.64      0.64       459\n",
      "\n",
      "AxesSubplot(0.125,0.125;0.62x0.755)\n"
     ]
    },
    {
     "data": {
      "image/png": "[encoded data removed]",
      "text/plain": [
       "<Figure size 432x288 with 2 Axes>"
      ]
     },
     "metadata": {
      "needs_background": "light"
     },
     "output_type": "display_data"
    },
    {
     "name": "stdout",
     "output_type": "stream",
     "text": [
      "time: 35.5 s\n"
     ]
    }
   ],
   "source": [
    "# Digital Hand Atlas Class\n",
    "import pickle\n",
    "\n",
    "class digitalHandAtlasModel(Model):\n",
    "    def __init__(self, model_path, data_path):\n",
    "        super().__init__(model_path, data_path)\n",
    "\n",
    "    def load_data(self):\n",
    "        test_data = pickle.load(open(self.data_path, 'rb'))\n",
    "        X_test, y_test = test_data[0], test_data[1]\n",
    "        return (X_test, y_test)\n",
    "\n",
    "    def load_model(self):\n",
    "        model = tf.keras.models.load_model(filepath=self.model_path)\n",
    "        return (model)\n",
    "\n",
    "    def calculate_inference(self):\n",
    "        X_test, y_test = self.load_data()\n",
    "        model = self.load_model()\n",
    "        X_test = np.asarray(X_test)\n",
    "        result = model.predict(X_test)\n",
    "        labels = np.argmax(result, axis=1)\n",
    "        target_names = ['African American', 'Caucasian', 'Hispanic', 'Asian']\n",
    "        \n",
    "        print (classification_report(y_test, labels, target_names=target_names))\n",
    "        class_matrix = confusion_matrix(y_test, labels)\n",
    "        return (sns.heatmap(class_matrix, annot=True, fmt='d', xticklabels=target_names, cmap='Blues'))\n",
    "\n",
    "dha = digitalHandAtlasModel(model_path='./models/classification_model/', data_path='./test_data/test_data_dha.pkl')\n",
    "print (dha.calculate_inference())"
   ]
  },
  {
   "cell_type": "code",
   "execution_count": 4,
   "metadata": {
    "scrolled": false
   },
   "outputs": [
    {
     "name": "stdout",
     "output_type": "stream",
     "text": [
      "Found 17201 validated image filenames belonging to 2 classes.\n",
      "                           precision    recall  f1-score   support\n",
      "\n",
      "African American or Black       0.84      0.69      0.75      8487\n",
      "       Caucasian or White       0.74      0.87      0.80      8714\n",
      "\n",
      "                 accuracy                           0.78     17201\n",
      "                macro avg       0.79      0.78      0.78     17201\n",
      "             weighted avg       0.79      0.78      0.78     17201\n",
      "\n",
      "AxesSubplot(0.125,0.125;0.62x0.755)\n"
     ]
    },
    {
     "data": {
      "image/png": "[encoded data removed]",
      "text/plain": [
       "<Figure size 432x288 with 2 Axes>"
      ]
     },
     "metadata": {
      "needs_background": "light"
     },
     "output_type": "display_data"
    },
    {
     "name": "stdout",
     "output_type": "stream",
     "text": [
      "time: 17min 8s\n"
     ]
    }
   ],
   "source": [
    "# Mammogram Class\n",
    "import efficientnet.tfkeras as efn\n",
    "from PIL import Image, ImageFile\n",
    "ImageFile.LOAD_TRUNCATED_IMAGES = True\n",
    "\n",
    "class mammoModel(Model):\n",
    "    def __init__(self, model_path, data_path):\n",
    "        self.model_path = model_path\n",
    "        self.data_path = data_path\n",
    "\n",
    "    def load_data(self, img_height, img_width, batch_size):\n",
    "        validation_df = pd.read_csv(self.data_path)\n",
    "        validation_df['modified_png_path'] = [0]*len(validation_df)\n",
    "        for i in range(len(validation_df)):\n",
    "            validation_df['modified_png_path'][i] = validation_df['png_path'][i][20:]\n",
    "        \n",
    "        validate_gen = tf.keras.preprocessing.image.ImageDataGenerator(rescale=1./255)\n",
    "        validate_batches = validate_gen.flow_from_dataframe(validation_df,directory=None,\n",
    "                                                            x_col='modified_png_path', y_col='ETHNICITY_DESC',\n",
    "                                                            class_mode='categorical', \n",
    "                                                            target_size=(img_height, img_width), \n",
    "                                                            shuffle=False,\n",
    "                                                            batch_size=batch_size, dtype='float32')\n",
    "        val_epoch = math.ceil(len(validation_df)/batch_size)\n",
    "        return (validate_batches, val_epoch)\n",
    "\n",
    "    def load_model(self):\n",
    "        model = tf.keras.models.load_model(self.model_path)\n",
    "        return (model)\n",
    "\n",
    "    def calculate_inference(self, img_height, img_width, batch_size):\n",
    "        validate_batches, val_epoch = self.load_data(img_height=img_height, img_width=img_width, batch_size=batch_size)\n",
    "        model = self.load_model()\n",
    "\n",
    "        result = model.predict(validate_batches, val_epoch)\n",
    "        labels = np.argmax(result, axis=1)\n",
    "        target_names = ['African American or Black', \"Caucasian or White\"]\n",
    "        \n",
    "        print (classification_report(validate_batches.classes, labels, target_names=target_names))\n",
    "        class_matrix = confusion_matrix(validate_batches.classes, labels)\n",
    "        return (sns.heatmap(class_matrix, annot=True, fmt='d', xticklabels=target_names, cmap='Blues'))\n",
    "\n",
    "mma = mammoModel(model_path='./models/mammo_efficientnetB2_binary.hdf5', data_path='./test_data/mammo_test.csv')\n",
    "print (mma.calculate_inference(img_height=256, img_width=256, batch_size=32))"
   ]
  },
  {
   "cell_type": "code",
   "execution_count": 4,
   "metadata": {
    "scrolled": false
   },
   "outputs": [
    {
     "name": "stderr",
     "output_type": "stream",
     "text": [
      "100%|██████████| 38386/38386 [00:15<00:00, 2451.81it/s]\n"
     ]
    },
    {
     "name": "stdout",
     "output_type": "stream",
     "text": [
      "Found 38386 validated image filenames belonging to 3 classes.\n",
      "WARNING:tensorflow:No training configuration found in the save file, so the model was *not* compiled. Compile it manually.\n",
      "              precision    recall  f1-score   support\n",
      "\n",
      "           0       0.31      0.88      0.46      5626\n",
      "           1       0.96      0.07      0.13      2509\n",
      "           2       0.94      0.69      0.79     30251\n",
      "\n",
      "    accuracy                           0.68     38386\n",
      "   macro avg       0.74      0.55      0.46     38386\n",
      "weighted avg       0.85      0.68      0.70     38386\n",
      "\n",
      "AxesSubplot(0.125,0.125;0.62x0.755)\n"
     ]
    },
    {
     "data": {
      "image/png": "[encoded data removed]",
      "text/plain": [
       "<Figure size 432x288 with 2 Axes>"
      ]
     },
     "metadata": {
      "needs_background": "light"
     },
     "output_type": "display_data"
    },
    {
     "name": "stdout",
     "output_type": "stream",
     "text": [
      "time: 1h 13min\n"
     ]
    }
   ],
   "source": [
    "# CheXpert Class \n",
    "from tensorflow import keras\n",
    "from classification_models.tfkeras import Classifiers\n",
    "\n",
    "class chexpertModel(Model):\n",
    "    def __init__(self, model_path, data_path):\n",
    "        self.model_path = model_path\n",
    "        self.data_path = data_path\n",
    "        \n",
    "    def load_data(self, img_width, img_height, batch_size):\n",
    "        validation_df = pd.read_csv(self.data_path)\n",
    "        validation_df['modified_path'] = [0]*len(validation_df)\n",
    "        for i in trange(len(validation_df)):\n",
    "            validation_df['modified_path'][i] = '/data/DataCenter/'+validation_df['Path'][i]\n",
    "\n",
    "        resnet34, preprocess_input = Classifiers.get('resnet34')\n",
    "        validate_gen = tf.keras.preprocessing.image.ImageDataGenerator(preprocessing_function=preprocess_input)\n",
    "        validate_batches = validate_gen.flow_from_dataframe(validation_df,\n",
    "                                                            directory=None, # '/tf/notebooks/SSD_data/resize_chexpert_320x320/chexpert_data/',\n",
    "                                                            x_col='modified_path', y_col='race', \n",
    "                                                            class_mode='categorical',\n",
    "                                                            target_size=(img_height, img_width), shuffle=False,\n",
    "                                                            batch_size=batch_size, dtype='float32')\n",
    "        val_epoch = math.ceil(len(validation_df)/batch_size)\n",
    "        return (validate_batches, val_epoch)\n",
    "\n",
    "    \n",
    "    def load_model(self):\n",
    "        model = tf.keras.models.load_model(self.model_path)\n",
    "        return (model)\n",
    "    \n",
    "    def calculate_inference(self, img_width, img_height, batch_size):\n",
    "        validate_batches, val_epoch = self.load_data(img_width=img_width, img_height=img_height, \n",
    "                                                     batch_size=batch_size)\n",
    "        model = self.load_model()\n",
    "        \n",
    "        result = model.predict(validate_batches, val_epoch)\n",
    "        labels = np.argmax(result, axis=1)\n",
    "        \n",
    "        print (classification_report(validate_batches.classes, labels))\n",
    "        class_matrix = confusion_matrix(validate_batches.classes, labels)\n",
    "        return (sns.heatmap(class_matrix, annot=True, fmt='d', cmap='Blues'))\n",
    "    \n",
    "cxr = chexpertModel(model_path='./models/CHEXPERT_race_classification.hdf5', \n",
    "                    data_path='./test_data/chexpert_test_df.csv')\n",
    "print (cxr.calculate_inference(img_height=320, img_width=320, batch_size=32))"
   ]
  },
  {
   "cell_type": "code",
   "execution_count": 6,
   "metadata": {
    "scrolled": false
   },
   "outputs": [
    {
     "name": "stderr",
     "output_type": "stream",
     "text": [
      "100%|██████████| 58614/58614 [00:32<00:00, 1812.09it/s]\n"
     ]
    },
    {
     "name": "stdout",
     "output_type": "stream",
     "text": [
      "Found 58614 validated image filenames belonging to 3 classes.\n",
      "WARNING:tensorflow:No training configuration found in the save file, so the model was *not* compiled. Compile it manually.\n",
      "              precision    recall  f1-score   support\n",
      "\n",
      "           0       0.56      0.49      0.52      2220\n",
      "           1       0.96      0.52      0.68     10637\n",
      "           2       0.89      0.99      0.93     45757\n",
      "\n",
      "    accuracy                           0.88     58614\n",
      "   macro avg       0.80      0.67      0.71     58614\n",
      "weighted avg       0.89      0.88      0.87     58614\n",
      "\n",
      "AxesSubplot(0.125,0.125;0.62x0.755)\n"
     ]
    },
    {
     "data": {
      "image/png": "[encoded data removed]",
      "text/plain": [
       "<Figure size 432x288 with 2 Axes>"
      ]
     },
     "metadata": {
      "needs_background": "light"
     },
     "output_type": "display_data"
    },
    {
     "name": "stdout",
     "output_type": "stream",
     "text": [
      "time: 1h 28min 59s\n"
     ]
    }
   ],
   "source": [
    "# MIMIC Class - Brandon\n",
    "class mimicModelBrandon(Model):\n",
    "    def __init__(self, model_path, data_path):\n",
    "        self.model_path = model_path\n",
    "        self.data_path = data_path\n",
    "        \n",
    "    def load_data(self, img_width, img_height, batch_size):\n",
    "        validation_df = pd.read_csv(self.data_path)\n",
    "        validation_df['modified_path'] = [0]*len(validation_df)\n",
    "        for i in trange(len(validation_df)):\n",
    "            validation_df['modified_path'][i] = '/data/DataCenter/MIMIC-CXR/files/p'+validation_df['path'][i]\n",
    "\n",
    "        resnet34, preprocess_input = Classifiers.get('resnet34')\n",
    "        validate_gen = tf.keras.preprocessing.image.ImageDataGenerator(preprocessing_function=preprocess_input)\n",
    "        validate_batches = validate_gen.flow_from_dataframe(validation_df,\n",
    "                                                            directory= None, #'/tf/notebooks/SSD_data/resize_chexpert_320x320/chexpert_data/',\n",
    "                                                            x_col='modified_path', y_col='race', \n",
    "                                                            class_mode='categorical',\n",
    "                                                            target_size=(img_height, img_width), shuffle=False,\n",
    "                                                            batch_size=batch_size, dtype='float32')\n",
    "        val_epoch = math.ceil(len(validation_df)/batch_size)\n",
    "        return (validate_batches, val_epoch)\n",
    "\n",
    "    \n",
    "    def load_model(self):\n",
    "        model = tf.keras.models.load_model(self.model_path)\n",
    "        return (model)\n",
    "    \n",
    "    def calculate_inference(self, img_width, img_height, batch_size):\n",
    "        validate_batches, val_epoch = self.load_data(img_width=img_width, img_height=img_height, \n",
    "                                                     batch_size=batch_size)\n",
    "        model = self.load_model()\n",
    "        \n",
    "        result = model.predict(validate_batches, val_epoch)\n",
    "        labels = np.argmax(result, axis=1)\n",
    "        \n",
    "        print (classification_report(validate_batches.classes, labels))\n",
    "        class_matrix = confusion_matrix(validate_batches.classes, labels)\n",
    "        return (sns.heatmap(class_matrix, annot=True, fmt='d', cmap='Blues'))\n",
    "\n",
    "mmcb = mimicModelBrandon(model_path='./models/MIMIC_CXR_race_classification.hdf5', \n",
    "                    data_path='./test_data/mimic_test_df.csv')\n",
    "print (mmcb.calculate_inference(img_height=320, img_width=320, batch_size=32))"
   ]
  },
  {
   "cell_type": "code",
   "execution_count": 24,
   "metadata": {
    "scrolled": false
   },
   "outputs": [
    {
     "name": "stderr",
     "output_type": "stream",
     "text": [
      "100%|██████████| 2/2 [00:00<00:00, 5769.33it/s]\n"
     ]
    },
    {
     "name": "stdout",
     "output_type": "stream",
     "text": [
      "WARNING:tensorflow:SavedModel saved prior to TF 2.5 detected when loading Keras model. Please ensure that you are saving the model with model.save() or tf.keras.models.save_model(), *NOT* tf.saved_model.save(). To confirm, there should be a file named \"keras_metadata.pb\" in the SavedModel directory.\n"
     ]
    },
    {
     "name": "stderr",
     "output_type": "stream",
     "text": [
      "100%|██████████| 14714/14714 [00:00<00:00, 21509.72it/s]\n"
     ]
    },
    {
     "name": "stdout",
     "output_type": "stream",
     "text": [
      "              precision    recall  f1-score   support\n",
      "\n",
      "           0       0.83      0.99      0.90      9552\n",
      "           1       0.94      0.71      0.81      4050\n",
      "           2       0.94      0.17      0.29      1112\n",
      "\n",
      "    accuracy                           0.85     14714\n",
      "   macro avg       0.90      0.62      0.67     14714\n",
      "weighted avg       0.87      0.85      0.83     14714\n",
      "\n",
      "AxesSubplot(0.125,0.125;0.62x0.755)\n"
     ]
    },
    {
     "data": {
      "image/png": "[encoded data removed]",
      "text/plain": [
       "<Figure size 432x288 with 2 Axes>"
      ]
     },
     "metadata": {
      "needs_background": "light"
     },
     "output_type": "display_data"
    },
    {
     "name": "stdout",
     "output_type": "stream",
     "text": [
      "time: 10min 19s\n"
     ]
    }
   ],
   "source": [
    "# MIMIC Class - PoChih\n",
    "from classification_models.tfkeras import Classifiers\n",
    "import cv2 as cv\n",
    "import skimage.transform as st\n",
    "\n",
    "class mimicModelPoChih(Model):\n",
    "    def __init__(self, model_path, data_path):\n",
    "        self.model_path = model_path\n",
    "        self.data_path = data_path\n",
    "        \n",
    "    def load_data(self):\n",
    "        X_test = []\n",
    "        y_test = []\n",
    "        \n",
    "        filename = os.listdir(self.data_path)\n",
    "        for i in trange(len(filename)):\n",
    "            filename[i] = self.data_path+filename[i]\n",
    "        \n",
    "        raw_dataset = tf.data.TFRecordDataset(filename)\n",
    "        for raw_record in raw_dataset:\n",
    "            sub_y = []\n",
    "\n",
    "            example = tf.train.Example()\n",
    "            example.ParseFromString(raw_record.numpy())\n",
    "\n",
    "            ethnicity = example.features.feature['ethnicity'].int64_list.value[0]   \n",
    "            id = example.features.feature['subject_id'].int64_list.value[0]\n",
    "            \n",
    "            if (tf.math.equal(ethnicity, 0)):\n",
    "                label = tf.constant([1, 0, 0])\n",
    "            elif (tf.math.equal(ethnicity, 1)):\n",
    "                label = tf.constant([0, 1, 0])\n",
    "            elif (tf.math.equal(ethnicity, 4)):\n",
    "                label = tf.constant([0, 0, 1])\n",
    "            else:\n",
    "                continue\n",
    "\n",
    "            nparr = np.fromstring(example.features.feature['jpg_bytes'].bytes_list.value[0], np.uint8)\n",
    "            img_np = cv.imdecode(nparr, cv.IMREAD_GRAYSCALE)\n",
    "            X_test.append(tf.reshape(st.resize(img_np, (256, 256)), [256, 256, 1]))\n",
    "            y_test.append(label)\n",
    "\n",
    "        return np.array(X_test), np.array(y_test)\n",
    "\n",
    "    def load_model(self):\n",
    "        model = tf.keras.models.load_model(self.model_path)\n",
    "        return (model)\n",
    "    \n",
    "    def calculate_inference(self, img_width, img_height, batch_size):\n",
    "        modified_y_test = []\n",
    "        X_test, y_test = self.load_data()\n",
    "        model = self.load_model()\n",
    "        \n",
    "        result = model.predict(X_test)\n",
    "        labels = np.argmax(result, axis=1)\n",
    "        \n",
    "        for i in trange(len(y_test)):\n",
    "            if (np.array_equal([1, 0, 0], y_test[i])):\n",
    "                modified_y_test.append(0)\n",
    "            if (np.array_equal([0, 1, 0], y_test[i])):\n",
    "                modified_y_test.append(1)\n",
    "            if (np.array_equal([0, 0, 1], y_test[i])):\n",
    "                modified_y_test.append(2)\n",
    "        \n",
    "        print (classification_report(modified_y_test, labels))\n",
    "        class_matrix = confusion_matrix(modified_y_test, labels)\n",
    "        return (sns.heatmap(class_matrix, annot=True, fmt='d', cmap='Blues'))\n",
    "\n",
    "mmcp = mimicModelPoChih(model_path='./models/Dnet_race_WBA/', \n",
    "                    data_path='./test_data/test_mimic_pochih/')\n",
    "print (mmcp.calculate_inference(img_height=256, img_width=256, batch_size=32))"
   ]
  },
  {
   "cell_type": "code",
   "execution_count": 20,
   "metadata": {},
   "outputs": [
    {
     "name": "stderr",
     "output_type": "stream",
     "text": [
      "100%|██████████| 945/945 [00:00<00:00, 7149.60it/s]\n"
     ]
    },
    {
     "name": "stdout",
     "output_type": "stream",
     "text": [
      "Found 945 validated image filenames belonging to 2 classes.\n",
      "WARNING:tensorflow:No training configuration found in the save file, so the model was *not* compiled. Compile it manually.\n",
      "              precision    recall  f1-score   support\n",
      "\n",
      "           0       0.82      0.68      0.74       286\n",
      "           1       0.87      0.93      0.90       659\n",
      "\n",
      "    accuracy                           0.86       945\n",
      "   macro avg       0.85      0.81      0.82       945\n",
      "weighted avg       0.86      0.86      0.85       945\n",
      "\n",
      "AxesSubplot(0.125,0.125;0.62x0.755)\n"
     ]
    },
    {
     "data": {
      "image/png": "[encoded data removed]",
      "text/plain": [
       "<Figure size 432x288 with 2 Axes>"
      ]
     },
     "metadata": {
      "needs_background": "light"
     },
     "output_type": "display_data"
    },
    {
     "name": "stdout",
     "output_type": "stream",
     "text": [
      "time: 1min 16s\n"
     ]
    }
   ],
   "source": [
    "# Cervical Spine Class\n",
    "class cervicalSpineModel(Model):\n",
    "    def __init__(self, model_path, data_path):\n",
    "        self.model_path = model_path\n",
    "        self.data_path = data_path\n",
    "        \n",
    "    def load_data(self, img_width, img_height, batch_size):\n",
    "        validation_df = pd.read_csv(self.data_path)\n",
    "        validation_df = validation_df[validation_df.Race.isin(['African American  or Black', 'Caucasian or White'])]\n",
    "        validation_df['modified_path'] = [0]*len(validation_df)\n",
    "        for i in trange(len(validation_df)):\n",
    "            validation_df['modified_path'][i] = validation_df['Image'][i][2:]\n",
    "            \n",
    "        resnet34, preprocess_input = Classifiers.get('resnet34')\n",
    "        \n",
    "        validate_gen = tf.keras.preprocessing.image.ImageDataGenerator(preprocessing_function=preprocess_input)\n",
    "        validate_batches = validate_gen.flow_from_dataframe(validation_df,\n",
    "                                                            directory= None, #'/tf/notebooks/SSD_data/resize_chexpert_320x320/chexpert_data/',\n",
    "                                                            x_col='modified_path', y_col='Race', \n",
    "                                                            class_mode='categorical',\n",
    "                                                            target_size=(img_height, img_width), shuffle=False,\n",
    "                                                            batch_size=batch_size, dtype='float32')\n",
    "        val_epoch = math.ceil(len(validation_df)/batch_size)\n",
    "        return (validate_batches, val_epoch)\n",
    "\n",
    "    \n",
    "    def load_model(self):\n",
    "        model = tf.keras.models.load_model(self.model_path)\n",
    "        return (model)\n",
    "    \n",
    "    def calculate_inference(self, img_width, img_height, batch_size):\n",
    "        validate_batches, val_epoch = self.load_data(img_width=img_width, img_height=img_height, \n",
    "                                                     batch_size=batch_size)\n",
    "        model = self.load_model()\n",
    "        \n",
    "        result = model.predict(validate_batches, val_epoch)\n",
    "        labels = np.argmax(result, axis=1)\n",
    "        \n",
    "        print (classification_report(validate_batches.classes, labels))\n",
    "        class_matrix = confusion_matrix(validate_batches.classes, labels)\n",
    "        return (sns.heatmap(class_matrix, annot=True, fmt='d', cmap='Blues'))\n",
    "\n",
    "cspine = cervicalSpineModel(model_path='./models/EMORY_C-Spine_race_classification.hdf5', \n",
    "                    data_path='./test_data/emory_c-spine_lateral_dataset_test.csv')\n",
    "print (cspine.calculate_inference(img_height=320, img_width=320, batch_size=64))"
   ]
  },
  {
   "cell_type": "code",
   "execution_count": 22,
   "metadata": {},
   "outputs": [
    {
     "name": "stdout",
     "output_type": "stream",
     "text": [
      "Found 11832 validated image filenames belonging to 3 classes.\n",
      "WARNING:tensorflow:No training configuration found in the save file, so the model was *not* compiled. Compile it manually.\n",
      "              precision    recall  f1-score   support\n",
      "\n",
      "           0       0.76      0.63      0.69       484\n",
      "           1       0.98      0.97      0.97      6067\n",
      "           2       0.94      0.96      0.95      5281\n",
      "\n",
      "    accuracy                           0.95     11832\n",
      "   macro avg       0.89      0.85      0.87     11832\n",
      "weighted avg       0.95      0.95      0.95     11832\n",
      "\n",
      "AxesSubplot(0.125,0.125;0.62x0.755)\n"
     ]
    },
    {
     "data": {
      "image/png": "[encoded data removed]",
      "text/plain": [
       "<Figure size 432x288 with 2 Axes>"
      ]
     },
     "metadata": {
      "needs_background": "light"
     },
     "output_type": "display_data"
    },
    {
     "name": "stdout",
     "output_type": "stream",
     "text": [
      "time: 17min 39s\n"
     ]
    }
   ],
   "source": [
    "# Emory CXR Class\n",
    "class emoryCXR(Model):\n",
    "    def __init__(self, model_path, data_path):\n",
    "        self.model_path = model_path\n",
    "        self.data_path = data_path\n",
    "        \n",
    "    def load_data(self, img_width, img_height, batch_size):\n",
    "        validation_df = pd.read_csv(self.data_path)\n",
    "        validation_df = validation_df[validation_df.Race.isin(['ASIAN','BLACK/AFRICAN AMERICAN','WHITE'])]\n",
    "        validation_df = validation_df[~validation_df.hiti_path.str.contains('406e0996e5f1cf082487d7d096574d10b46c0c52710222a4884db1cc|dd97e997cc2a4166dc6e192cb62e29553aa28f4671d98c9577e32cfd|6224290209c45bb2b3e07b3b3a27778d1d10f7953567b3c59158e099')]\n",
    "            \n",
    "        resnet34, preprocess_input = Classifiers.get('resnet34')\n",
    "        \n",
    "        validate_gen = tf.keras.preprocessing.image.ImageDataGenerator(preprocessing_function=preprocess_input)\n",
    "        validate_batches = validate_gen.flow_from_dataframe(validation_df,\n",
    "                                                            directory= None, #'/tf/notebooks/SSD_data/resize_chexpert_320x320/chexpert_data/',\n",
    "                                                            x_col='hiti_path', y_col='Race', \n",
    "                                                            class_mode='categorical',\n",
    "                                                            target_size=(img_height, img_width), shuffle=False,\n",
    "                                                            batch_size=batch_size, dtype='float32')\n",
    "        val_epoch = math.ceil(len(validation_df)/batch_size)\n",
    "        return (validate_batches, val_epoch)\n",
    "\n",
    "    \n",
    "    def load_model(self):\n",
    "        model = tf.keras.models.load_model(self.model_path)\n",
    "        return (model)\n",
    "    \n",
    "    def calculate_inference(self, img_width, img_height, batch_size):\n",
    "        validate_batches, val_epoch = self.load_data(img_width=img_width, img_height=img_height, \n",
    "                                                     batch_size=batch_size)\n",
    "        model = self.load_model()\n",
    "        \n",
    "        result = model.predict(validate_batches, val_epoch)\n",
    "        labels = np.argmax(result, axis=1)\n",
    "        \n",
    "        print (classification_report(validate_batches.classes, labels))\n",
    "        class_matrix = confusion_matrix(validate_batches.classes, labels)\n",
    "        return (sns.heatmap(class_matrix, annot=True, fmt='d', cmap='Blues'))\n",
    "\n",
    "ecxr = emoryCXR(model_path='./models/EMORY_CXR_race_classification.hdf5', \n",
    "                    data_path='./test_data/Emory_CXR_test_censored.csv')\n",
    "print (ecxr.calculate_inference(img_height=320, img_width=320, batch_size=64))"
   ]
  },
  {
   "cell_type": "code",
   "execution_count": null,
   "metadata": {},
   "outputs": [],
   "source": []
  }
 ],
 "metadata": {
  "kernelspec": {
   "display_name": "Python 3",
   "language": "python",
   "name": "python3"
  },
  "language_info": {
   "codemirror_mode": {
    "name": "ipython",
    "version": 3
   },
   "file_extension": ".py",
   "mimetype": "text/x-python",
   "name": "python",
   "nbconvert_exporter": "python",
   "pygments_lexer": "ipython3",
   "version": "3.7.3"
  }
 },
 "nbformat": 4,
 "nbformat_minor": 4
}
