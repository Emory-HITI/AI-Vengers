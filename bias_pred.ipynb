{
 "cells": [
  {
   "cell_type": "code",
   "execution_count": 1,
   "metadata": {},
   "outputs": [],
   "source": [
    "%load_ext autotime\n",
    "\n",
    "import os\n",
    "import sys\n",
    "import glob\n",
    "import math\n",
    "import h5py\n",
    "import pandas as pd \n",
    "import numpy as np \n",
    "import tensorflow as tf\n",
    "import matplotlib.pyplot as plt\n",
    "import seaborn as sns\n",
    "\n",
    "import warnings\n",
    "warnings.filterwarnings('ignore')\n",
    "\n",
    "from tqdm import tqdm, trange\n",
    "from sklearn.metrics import classification_report, roc_auc_score, roc_curve, precision_recall_curve\n",
    "from sklearn.metrics import auc, accuracy_score, recall_score, precision_score, f1_score, confusion_matrix"
   ]
  },
  {
   "cell_type": "markdown",
   "metadata": {},
   "source": [
    "## Data and Model Description\n",
    "\n",
    "- All the models in the list were trained in HITI Server - Emory University. Training and validation data remains in the university server.\n",
    "- For convience, the validation data is provided in the current folder (Bias Prediction). But one should have access to the images for running the inferences.\n",
    "- Though the models were trained in the server. The models and their weights were saved and can be re-used in any machine with tf>=2.0 and tf<=2.5.\n",
    "- Both validation data and the saved model are provided to run the inferences independently."
   ]
  },
  {
   "cell_type": "code",
   "execution_count": 2,
   "metadata": {
    "scrolled": true
   },
   "outputs": [
    {
     "name": "stdout",
     "output_type": "stream",
     "text": [
      "time: 1.64 ms\n"
     ]
    }
   ],
   "source": [
    "# Base/Parent Class\n",
    "class Model():\n",
    "    '''\n",
    "    Class for initializing model path and data path.\n",
    "    \n",
    "    model_path: str\n",
    "    data_path: str\n",
    "    \n",
    "    Note: - The model path should contain the model and it's corresponding trained weights.\n",
    "          - The data path should contain the validation/test dataset and the \n",
    "            corresponding images path should be provided as required.\n",
    "    '''\n",
    "    def __init__(self, model_path, data_path):\n",
    "        self.model_path = model_path\n",
    "        self.data_path = data_path"
   ]
  },
  {
   "cell_type": "markdown",
   "metadata": {},
   "source": [
    "| Model Name         | Status       | Comments     |\n",
    "| :-------------     | :----------: | -----------: |\n",
    "| Digital Hand Atlas | Completed    | None         |\n",
    "| Mammogram          | Completed    | None         |\n",
    "| CheXpert           | Completed    | Inference Mismatch|\n",
    "| MIMIC-Brandon      | Completed    | None         |\n",
    "| MIMIC-PoChih       | Completed    | None         |\n",
    "| Emory CXR - PoChih (DenseNet) | Not Completed    | None         |\n",
    "| Cervical Spine     | Completed    | None         |\n",
    "| Emory CXR - ResNet | Completed    | None         |\n",
    "| Emory CXR - EfficientNet | Completed    | None         |\n",
    "| MURA               | Not Completed| None         |\n",
    "| Emory CT           | Not Completed| None         |\n",
    "| RSPECT             | Not Completed| None         |"
   ]
  },
  {
   "cell_type": "markdown",
   "metadata": {},
   "source": [
    "## To do \n",
    "\n",
    "1. Work on the models whose status is incomplete.\n",
    "2. Check with Brandon for the inference mismatch."
   ]
  },
  {
   "cell_type": "code",
   "execution_count": 3,
   "metadata": {
    "scrolled": false
   },
   "outputs": [
    {
     "name": "stdout",
     "output_type": "stream",
     "text": [
      "WARNING:tensorflow:SavedModel saved prior to TF 2.5 detected when loading Keras model. Please ensure that you are saving the model with model.save() or tf.keras.models.save_model(), *NOT* tf.saved_model.save(). To confirm, there should be a file named \"keras_metadata.pb\" in the SavedModel directory.\n",
      "Classwise ROC AUC \n",
      "\n",
      "Class - Asian ROC-AUC- 0.84\n",
      "Class - African-American ROC-AUC- 0.91\n",
      "Class - Caucasian ROC-AUC- 0.88\n",
      "Class - Hispanic ROC-AUC- 0.77\n",
      "                  precision    recall  f1-score   support\n",
      "\n",
      "           Asian       0.56      0.67      0.61        66\n",
      "African-American       0.73      0.69      0.71        68\n",
      "       Caucasian       0.65      0.65      0.65        68\n",
      "        Hispanic       0.48      0.42      0.45        76\n",
      "\n",
      "        accuracy                           0.60       278\n",
      "       macro avg       0.60      0.61      0.60       278\n",
      "    weighted avg       0.60      0.60      0.60       278\n",
      "\n",
      "AxesSubplot(0.125,0.125;0.62x0.755)\n"
     ]
    },
    {
     "data": {
      "image/png": "[encoded data removed]",
      "text/plain": [
       "<Figure size 432x288 with 2 Axes>"
      ]
     },
     "metadata": {
      "needs_background": "light"
     },
     "output_type": "display_data"
    },
    {
     "name": "stdout",
     "output_type": "stream",
     "text": [
      "time: 1min 15s\n"
     ]
    }
   ],
   "source": [
    "# Digital Hand Atlas Class\n",
    "import pickle\n",
    "\n",
    "class Digital_Hand_Atlas_ResNet50(Model):\n",
    "    def __init__(self, model_path, data_path):\n",
    "        super().__init__(model_path, data_path)\n",
    "\n",
    "    def load_data(self):\n",
    "        test_data = pickle.load(open(self.data_path, 'rb'))\n",
    "        X_test, y_test = test_data[0], test_data[1]\n",
    "        return (X_test, y_test)\n",
    "\n",
    "    def load_model(self):\n",
    "        model = tf.keras.models.load_model(filepath=self.model_path)\n",
    "        return (model)\n",
    "\n",
    "    def calculate_inference(self):\n",
    "        X_test, y_test = self.load_data()\n",
    "        model = self.load_model()\n",
    "        X_test = np.asarray(X_test)\n",
    "        result = model.predict(X_test)\n",
    "        labels = np.argmax(result, axis=1)\n",
    "        target_names = ['Asian', 'African-American', 'Caucasian', 'Hispanic']\n",
    "        \n",
    "        print ('Classwise ROC AUC \\n')\n",
    "        for p in list(set(labels)):\n",
    "            fpr, tpr, thresholds = roc_curve(y_test, model.predict(X_test)[:,p], pos_label = p)\n",
    "            auroc = round(auc(fpr, tpr), 2)\n",
    "            print ('Class - {} ROC-AUC- {}'.format(target_names[p], auroc))\n",
    "        \n",
    "        print (classification_report(y_test, labels, target_names=target_names))\n",
    "        class_matrix = confusion_matrix(y_test, labels)\n",
    "        return (sns.heatmap(class_matrix, annot=True, fmt='d', xticklabels=target_names, cmap='Blues'))\n",
    "\n",
    "dha = Digital_Hand_Atlas_ResNet50(model_path='./models/classification_model/', data_path='./test_data/test_data_dha.pkl')\n",
    "print (dha.calculate_inference())"
   ]
  },
  {
   "cell_type": "code",
   "execution_count": 4,
   "metadata": {
    "scrolled": false
   },
   "outputs": [
    {
     "name": "stdout",
     "output_type": "stream",
     "text": [
      "Found 17201 validated image filenames belonging to 2 classes.\n",
      "Classwise ROC AUC \n",
      "\n",
      "Class - 0 ROC-AUC- 0.88\n",
      "Class - 1 ROC-AUC- 0.88\n",
      "                           precision    recall  f1-score   support\n",
      "\n",
      "African American or Black       0.84      0.69      0.75      8487\n",
      "       Caucasian or White       0.74      0.87      0.80      8714\n",
      "\n",
      "                 accuracy                           0.78     17201\n",
      "                macro avg       0.79      0.78      0.78     17201\n",
      "             weighted avg       0.79      0.78      0.78     17201\n",
      "\n",
      "AxesSubplot(0.125,0.125;0.62x0.755)\n"
     ]
    },
    {
     "data": {
      "image/png": "[encoded data removed]",
      "text/plain": [
       "<Figure size 432x288 with 2 Axes>"
      ]
     },
     "metadata": {
      "needs_background": "light"
     },
     "output_type": "display_data"
    },
    {
     "name": "stdout",
     "output_type": "stream",
     "text": [
      "time: 17min 1s\n"
     ]
    }
   ],
   "source": [
    "# Mammogram Class\n",
    "import efficientnet.tfkeras as efn\n",
    "from PIL import Image, ImageFile\n",
    "ImageFile.LOAD_TRUNCATED_IMAGES = True\n",
    "\n",
    "class Mammogram_EfficientNet(Model):\n",
    "    def __init__(self, model_path, data_path):\n",
    "        self.model_path = model_path\n",
    "        self.data_path = data_path\n",
    "\n",
    "    def load_data(self, img_height, img_width, batch_size):\n",
    "        validation_df = pd.read_csv(self.data_path)\n",
    "        validation_df['modified_png_path'] = [0]*len(validation_df)\n",
    "        for i in range(len(validation_df)):\n",
    "            validation_df['modified_png_path'][i] = validation_df['png_path'][i][20:]\n",
    "        \n",
    "        validate_gen = tf.keras.preprocessing.image.ImageDataGenerator(rescale=1./255)\n",
    "        validate_batches = validate_gen.flow_from_dataframe(validation_df,directory=None,\n",
    "                                                            x_col='modified_png_path', y_col='ETHNICITY_DESC',\n",
    "                                                            class_mode='categorical', \n",
    "                                                            target_size=(img_height, img_width), \n",
    "                                                            shuffle=False,\n",
    "                                                            batch_size=batch_size, dtype='float32')\n",
    "        val_epoch = math.ceil(len(validation_df)/batch_size)\n",
    "        return (validate_batches, val_epoch)\n",
    "\n",
    "    def load_model(self):\n",
    "        model = tf.keras.models.load_model(self.model_path)\n",
    "        return (model)\n",
    "\n",
    "    def calculate_inference(self, img_height, img_width, batch_size):\n",
    "        validate_batches, val_epoch = self.load_data(img_height=img_height, \n",
    "                                                     img_width=img_width, batch_size=batch_size)\n",
    "        model = self.load_model()\n",
    "\n",
    "        result = model.predict(validate_batches, val_epoch)\n",
    "        labels = np.argmax(result, axis=1)\n",
    "        target_names = ['African American or Black', \"Caucasian or White\"]\n",
    "        \n",
    "        print ('Classwise ROC AUC \\n')\n",
    "        for p in list(set(labels)):\n",
    "            fpr, tpr, thresholds = roc_curve(validate_batches.classes, result[:,p], pos_label = p)\n",
    "            auroc = round(auc(fpr, tpr), 2)\n",
    "            print ('Class - {} ROC-AUC- {}'.format(p, auroc))\n",
    "            \n",
    "        print (classification_report(validate_batches.classes, labels, target_names=target_names))\n",
    "        class_matrix = confusion_matrix(validate_batches.classes, labels)\n",
    "        return (sns.heatmap(class_matrix, annot=True, fmt='d', xticklabels=target_names, cmap='Blues'))\n",
    "\n",
    "mma = Mammogram_EfficientNet(model_path='./models/mammo_efficientnetB2_binary.hdf5', \n",
    "                             data_path='./test_data/mammo_test.csv')\n",
    "print (mma.calculate_inference(img_height=256, img_width=256, batch_size=32))"
   ]
  },
  {
   "cell_type": "code",
   "execution_count": 6,
   "metadata": {
    "scrolled": false
   },
   "outputs": [
    {
     "name": "stderr",
     "output_type": "stream",
     "text": [
      "100%|██████████| 38386/38386 [00:09<00:00, 4010.78it/s]\n"
     ]
    },
    {
     "name": "stdout",
     "output_type": "stream",
     "text": [
      "Found 38386 validated image filenames belonging to 3 classes.\n",
      "WARNING:tensorflow:Mixed precision compatibility check (mixed_float16): WARNING\n",
      "The dtype policy mixed_float16 may run slowly because this machine does not have a GPU. Only Nvidia GPUs with compute capability of at least 7.0 run quickly with mixed_float16.\n",
      "If you will use compatible GPU(s) not attached to this host, e.g. by running a multi-worker model, you can ignore this warning. This message will only be logged once\n",
      "WARNING:tensorflow:From /home/jupyter-anbhimi/.local/lib/python3.7/site-packages/tensorflow/python/training/experimental/loss_scale.py:208: DynamicLossScale.__init__ (from tensorflow.python.training.experimental.loss_scale) is deprecated and will be removed in a future version.\n",
      "Instructions for updating:\n",
      "Use tf.keras.mixed_precision.LossScaleOptimizer instead. LossScaleOptimizer now has all the functionality of DynamicLossScale\n",
      "Classwise ROC AUC \n",
      "\n",
      "Class - 0 ROC-AUC - 0.78\n",
      "Class - 1 ROC-AUC - 0.6\n",
      "Class - 2 ROC-AUC - 0.75\n",
      "              precision    recall  f1-score   support\n",
      "\n",
      "           0       0.74      0.60      0.67      5626\n",
      "           1       0.94      0.20      0.33      2509\n",
      "           2       0.88      0.97      0.93     30251\n",
      "\n",
      "    accuracy                           0.87     38386\n",
      "   macro avg       0.86      0.59      0.64     38386\n",
      "weighted avg       0.87      0.87      0.85     38386\n",
      "\n",
      "AxesSubplot(0.125,0.125;0.62x0.755)\n"
     ]
    },
    {
     "data": {
      "image/png": "[encoded data removed]",
      "text/plain": [
       "<Figure size 432x288 with 2 Axes>"
      ]
     },
     "metadata": {
      "needs_background": "light"
     },
     "output_type": "display_data"
    },
    {
     "name": "stdout",
     "output_type": "stream",
     "text": [
      "time: 58min 9s\n"
     ]
    }
   ],
   "source": [
    "# CheXpert Class \n",
    "from tensorflow import keras\n",
    "from classification_models.tfkeras import Classifiers\n",
    "\n",
    "class CheXpert_B_ResNet34(Model):\n",
    "    def __init__(self, model_path, data_path):\n",
    "        self.model_path = model_path\n",
    "        self.data_path = data_path\n",
    "        \n",
    "    def load_data(self, img_width, img_height, batch_size):\n",
    "        validation_df = pd.read_csv(self.data_path)\n",
    "        validation_df['modified_path'] = [0]*len(validation_df)\n",
    "        for i in trange(len(validation_df)):\n",
    "            validation_df['modified_path'][i] = '/data/DataCenter/'+validation_df['Path'][i]\n",
    "\n",
    "        resnet34, preprocess_input = Classifiers.get('resnet34')\n",
    "        validate_gen = tf.keras.preprocessing.image.ImageDataGenerator(preprocessing_function=preprocess_input)\n",
    "        validate_batches = validate_gen.flow_from_dataframe(validation_df,\n",
    "                                                            directory=None,\n",
    "                                                            x_col='modified_path', y_col='race', \n",
    "                                                            class_mode='categorical',\n",
    "                                                            target_size=(img_height, img_width), shuffle=False,\n",
    "                                                            batch_size=batch_size, dtype='float32')\n",
    "        val_epoch = math.ceil(len(validation_df)/batch_size)\n",
    "        return (validate_batches, val_epoch)\n",
    "\n",
    "    \n",
    "    def load_model(self):\n",
    "        model = tf.keras.models.load_model(self.model_path)\n",
    "        return (model)\n",
    "    \n",
    "    def calculate_inference(self, img_width, img_height, batch_size):\n",
    "        validate_batches, val_epoch = self.load_data(img_width=img_width, img_height=img_height, \n",
    "                                                     batch_size=batch_size)\n",
    "        model = self.load_model()\n",
    "        \n",
    "        result = model.predict(validate_batches, val_epoch)\n",
    "        labels = np.argmax(result, axis=1)\n",
    "        \n",
    "        classes_cat = tf.keras.utils.to_categorical(validate_batches.classes)\n",
    "        labels_cat = tf.keras.utils.to_categorical(labels)\n",
    "        \n",
    "        print ('Classwise ROC AUC \\n')\n",
    "        for i in range(len(list(set(labels)))):\n",
    "            _classes = classes_cat[:,i]\n",
    "            _labels = labels_cat[:,i]\n",
    "            print ('Class - {} ROC-AUC - {}'.format(i, round(roc_auc_score(_classes, _labels), 2)))\n",
    "        \n",
    "        print (classification_report(validate_batches.classes, labels))\n",
    "        class_matrix = confusion_matrix(validate_batches.classes, labels)\n",
    "        return (sns.heatmap(class_matrix, annot=True, fmt='d', cmap='Blues'))\n",
    "    \n",
    "cxr = CheXpert_B_ResNet34(model_path='./models/CHEXPERT_race_classification_ver_b.hdf5', \n",
    "                          data_path='./test_data/chexpert_test_df.csv')\n",
    "print (cxr.calculate_inference(img_height=320, img_width=320, batch_size=256))"
   ]
  },
  {
   "cell_type": "code",
   "execution_count": 6,
   "metadata": {
    "scrolled": false
   },
   "outputs": [
    {
     "name": "stderr",
     "output_type": "stream",
     "text": [
      "100%|██████████| 58614/58614 [00:32<00:00, 1780.25it/s]\n"
     ]
    },
    {
     "name": "stdout",
     "output_type": "stream",
     "text": [
      "Found 58614 validated image filenames belonging to 3 classes.\n",
      "WARNING:tensorflow:No training configuration found in the save file, so the model was *not* compiled. Compile it manually.\n",
      "Classwise ROC AUC \n",
      "\n",
      "Class - 0 ROC-AUC- 0.93\n",
      "Class - 1 ROC-AUC- 0.95\n",
      "Class - 2 ROC-AUC- 0.94\n",
      "              precision    recall  f1-score   support\n",
      "\n",
      "           0       0.56      0.49      0.52      2220\n",
      "           1       0.96      0.52      0.68     10637\n",
      "           2       0.89      0.99      0.93     45757\n",
      "\n",
      "    accuracy                           0.88     58614\n",
      "   macro avg       0.80      0.67      0.71     58614\n",
      "weighted avg       0.89      0.88      0.87     58614\n",
      "\n",
      "AxesSubplot(0.125,0.125;0.62x0.755)\n"
     ]
    },
    {
     "data": {
      "image/png": "[encoded data removed]",
      "text/plain": [
       "<Figure size 432x288 with 2 Axes>"
      ]
     },
     "metadata": {
      "needs_background": "light"
     },
     "output_type": "display_data"
    },
    {
     "name": "stdout",
     "output_type": "stream",
     "text": [
      "time: 1h 47min 22s\n"
     ]
    }
   ],
   "source": [
    "# MIMIC Class - Brandon\n",
    "class MIMIC_B_ResNet34(Model):\n",
    "    def __init__(self, model_path, data_path):\n",
    "        self.model_path = model_path\n",
    "        self.data_path = data_path\n",
    "        \n",
    "    def load_data(self, img_width, img_height, batch_size):\n",
    "        validation_df = pd.read_csv(self.data_path)\n",
    "        validation_df['modified_path'] = [0]*len(validation_df)\n",
    "        for i in trange(len(validation_df)):\n",
    "            validation_df['modified_path'][i] = '/data/DataCenter/MIMIC-CXR/files/p'+validation_df['path'][i]\n",
    "\n",
    "        resnet34, preprocess_input = Classifiers.get('resnet34')\n",
    "        validate_gen = tf.keras.preprocessing.image.ImageDataGenerator(preprocessing_function=preprocess_input)\n",
    "        validate_batches = validate_gen.flow_from_dataframe(validation_df,\n",
    "                                                            directory= None, #'/tf/notebooks/SSD_data/resize_chexpert_320x320/chexpert_data/',\n",
    "                                                            x_col='modified_path', y_col='race', \n",
    "                                                            class_mode='categorical',\n",
    "                                                            target_size=(img_height, img_width), shuffle=False,\n",
    "                                                            batch_size=batch_size, dtype='float32')\n",
    "        val_epoch = math.ceil(len(validation_df)/batch_size)\n",
    "        return (validate_batches, val_epoch)\n",
    "\n",
    "    \n",
    "    def load_model(self):\n",
    "        model = tf.keras.models.load_model(self.model_path)\n",
    "        return (model)\n",
    "    \n",
    "    def calculate_inference(self, img_width, img_height, batch_size):\n",
    "        validate_batches, val_epoch = self.load_data(img_width=img_width, img_height=img_height, \n",
    "                                                     batch_size=batch_size)\n",
    "        model = self.load_model()\n",
    "        \n",
    "        result = model.predict(validate_batches, val_epoch)\n",
    "        labels = np.argmax(result, axis=1)\n",
    "        \n",
    "        print ('Classwise ROC AUC \\n')\n",
    "        for p in list(set(labels)):\n",
    "            fpr, tpr, thresholds = roc_curve(validate_batches.classes, result[:,p], pos_label = p)\n",
    "            auroc = round(auc(fpr, tpr), 2)\n",
    "            print ('Class - {} ROC-AUC- {}'.format(p, auroc))\n",
    "        \n",
    "        print (classification_report(validate_batches.classes, labels))\n",
    "        class_matrix = confusion_matrix(validate_batches.classes, labels)\n",
    "        return (sns.heatmap(class_matrix, annot=True, fmt='d', cmap='Blues'))\n",
    "\n",
    "mmcb = MIMIC_B_ResNet34(model_path='./models/MIMIC_CXR_race_classification.hdf5', \n",
    "                        data_path='./test_data/mimic_test_df.csv')\n",
    "print (mmcb.calculate_inference(img_height=320, img_width=320, batch_size=32))"
   ]
  },
  {
   "cell_type": "code",
   "execution_count": 7,
   "metadata": {
    "scrolled": false
   },
   "outputs": [
    {
     "name": "stderr",
     "output_type": "stream",
     "text": [
      "100%|██████████| 2/2 [00:00<00:00, 6700.17it/s]\n"
     ]
    },
    {
     "name": "stdout",
     "output_type": "stream",
     "text": [
      "WARNING:tensorflow:SavedModel saved prior to TF 2.5 detected when loading Keras model. Please ensure that you are saving the model with model.save() or tf.keras.models.save_model(), *NOT* tf.saved_model.save(). To confirm, there should be a file named \"keras_metadata.pb\" in the SavedModel directory.\n"
     ]
    },
    {
     "name": "stderr",
     "output_type": "stream",
     "text": [
      "100%|██████████| 14714/14714 [00:00<00:00, 22822.54it/s]\n"
     ]
    },
    {
     "name": "stdout",
     "output_type": "stream",
     "text": [
      "Classwise ROC AUC \n",
      "\n",
      "Class - 0 ROC-AUC- 0.94\n",
      "Class - 1 ROC-AUC- 0.95\n",
      "Class - 2 ROC-AUC- 0.84\n",
      "              precision    recall  f1-score   support\n",
      "\n",
      "           0       0.83      0.99      0.90      9552\n",
      "           1       0.94      0.71      0.81      4050\n",
      "           2       0.94      0.17      0.29      1112\n",
      "\n",
      "    accuracy                           0.85     14714\n",
      "   macro avg       0.90      0.62      0.67     14714\n",
      "weighted avg       0.87      0.85      0.83     14714\n",
      "\n",
      "AxesSubplot(0.125,0.125;0.62x0.755)\n"
     ]
    },
    {
     "data": {
      "image/png": "[encoded data removed]",
      "text/plain": [
       "<Figure size 432x288 with 2 Axes>"
      ]
     },
     "metadata": {
      "needs_background": "light"
     },
     "output_type": "display_data"
    },
    {
     "name": "stdout",
     "output_type": "stream",
     "text": [
      "time: 11min 38s\n"
     ]
    }
   ],
   "source": [
    "# MIMIC Class - PoChih\n",
    "from classification_models.tfkeras import Classifiers\n",
    "import cv2 as cv\n",
    "import skimage.transform as st\n",
    "\n",
    "class MIMIC_P_DenseNet121(Model):\n",
    "    def __init__(self, model_path, data_path):\n",
    "        self.model_path = model_path\n",
    "        self.data_path = data_path\n",
    "        \n",
    "    def load_data(self):\n",
    "        X_test = []\n",
    "        y_test = []\n",
    "        \n",
    "        filename = os.listdir(self.data_path)\n",
    "        for i in trange(len(filename)):\n",
    "            filename[i] = self.data_path+filename[i]\n",
    "        \n",
    "        raw_dataset = tf.data.TFRecordDataset(filename)\n",
    "        for raw_record in raw_dataset:\n",
    "            sub_y = []\n",
    "\n",
    "            example = tf.train.Example()\n",
    "            example.ParseFromString(raw_record.numpy())\n",
    "\n",
    "            ethnicity = example.features.feature['ethnicity'].int64_list.value[0]   \n",
    "            id = example.features.feature['subject_id'].int64_list.value[0]\n",
    "            \n",
    "            if (tf.math.equal(ethnicity, 0)):\n",
    "                label = tf.constant([1, 0, 0])\n",
    "            elif (tf.math.equal(ethnicity, 1)):\n",
    "                label = tf.constant([0, 1, 0])\n",
    "            elif (tf.math.equal(ethnicity, 4)):\n",
    "                label = tf.constant([0, 0, 1])\n",
    "            else:\n",
    "                continue\n",
    "\n",
    "            nparr = np.fromstring(example.features.feature['jpg_bytes'].bytes_list.value[0], np.uint8)\n",
    "            img_np = cv.imdecode(nparr, cv.IMREAD_GRAYSCALE)\n",
    "            X_test.append(tf.reshape(st.resize(img_np, (256, 256)), [256, 256, 1]))\n",
    "            y_test.append(label)\n",
    "\n",
    "        return np.array(X_test), np.array(y_test)\n",
    "\n",
    "    def load_model(self):\n",
    "        model = tf.keras.models.load_model(self.model_path)\n",
    "        return (model)\n",
    "    \n",
    "    def calculate_inference(self, img_width, img_height, batch_size):\n",
    "        modified_y_test = []\n",
    "        X_test, y_test = self.load_data()\n",
    "        model = self.load_model()\n",
    "        \n",
    "        result = model.predict(X_test)\n",
    "        labels = np.argmax(result, axis=1)\n",
    "        \n",
    "        for i in trange(len(y_test)):\n",
    "            if (np.array_equal([1, 0, 0], y_test[i])):\n",
    "                modified_y_test.append(0)\n",
    "            if (np.array_equal([0, 1, 0], y_test[i])):\n",
    "                modified_y_test.append(1)\n",
    "            if (np.array_equal([0, 0, 1], y_test[i])):\n",
    "                modified_y_test.append(2)\n",
    "        \n",
    "        print ('Classwise ROC AUC \\n')\n",
    "        for p in list(set(labels)):\n",
    "            fpr, tpr, thresholds = roc_curve(modified_y_test, result[:,p], pos_label = p)\n",
    "            auroc = round(auc(fpr, tpr), 2)\n",
    "            print ('Class - {} ROC-AUC- {}'.format(p, auroc))\n",
    "        \n",
    "        print (classification_report(modified_y_test, labels))\n",
    "        class_matrix = confusion_matrix(modified_y_test, labels)\n",
    "        return (sns.heatmap(class_matrix, annot=True, fmt='d', cmap='Blues'))\n",
    "\n",
    "mmcp = MIMIC_P_DenseNet121(model_path='./models/Dnet_race_WBA/', \n",
    "                           data_path='./test_data/test_mimic_pochih/')\n",
    "print (mmcp.calculate_inference(img_height=256, img_width=256, batch_size=32))"
   ]
  },
  {
   "cell_type": "code",
   "execution_count": 18,
   "metadata": {},
   "outputs": [
    {
     "name": "stdout",
     "output_type": "stream",
     "text": [
      "Found 11832 validated image filenames belonging to 3 classes.\n"
     ]
    },
    {
     "ename": "ValueError",
     "evalue": "Unknown activation function: swish_activation. Please ensure this object is passed to the `custom_objects` argument. See https://www.tensorflow.org/guide/keras/save_and_serialize#registering_the_custom_object for details.",
     "output_type": "error",
     "traceback": [
      "\u001b[0;31m---------------------------------------------------------------------------\u001b[0m",
      "\u001b[0;31mValueError\u001b[0m                                Traceback (most recent call last)",
      "\u001b[0;32m<ipython-input-18-dd47b34a8271>\u001b[0m in \u001b[0;36m<module>\u001b[0;34m\u001b[0m\n\u001b[1;32m     94\u001b[0m ecxr_dense = Emory_CXR_P_DenseNet121(model_path='/home/judy/Collaboratory/pochih/Emory_DNet.h5', \n\u001b[1;32m     95\u001b[0m                                      data_path='/data/correa/test_censored.csv')\n\u001b[0;32m---> 96\u001b[0;31m \u001b[0mprint\u001b[0m \u001b[0;34m(\u001b[0m\u001b[0mecxr_dense\u001b[0m\u001b[0;34m.\u001b[0m\u001b[0mcalculate_inference\u001b[0m\u001b[0;34m(\u001b[0m\u001b[0mimg_height\u001b[0m\u001b[0;34m=\u001b[0m\u001b[0;36m256\u001b[0m\u001b[0;34m,\u001b[0m \u001b[0mimg_width\u001b[0m\u001b[0;34m=\u001b[0m\u001b[0;36m256\u001b[0m\u001b[0;34m,\u001b[0m \u001b[0mbatch_size\u001b[0m\u001b[0;34m=\u001b[0m\u001b[0;36m32\u001b[0m\u001b[0;34m)\u001b[0m\u001b[0;34m)\u001b[0m\u001b[0;34m\u001b[0m\u001b[0;34m\u001b[0m\u001b[0m\n\u001b[0m",
      "\u001b[0;32m<ipython-input-18-dd47b34a8271>\u001b[0m in \u001b[0;36mcalculate_inference\u001b[0;34m(self, img_width, img_height, batch_size)\u001b[0m\n\u001b[1;32m     75\u001b[0m         \u001b[0mcustom_objects\u001b[0m \u001b[0;34m=\u001b[0m \u001b[0;34m{\u001b[0m\u001b[0;34m\"CustomLayer\"\u001b[0m\u001b[0;34m:\u001b[0m \u001b[0mCustomLayer\u001b[0m\u001b[0;34m,\u001b[0m \u001b[0;34m\"custom_activation\"\u001b[0m\u001b[0;34m:\u001b[0m \u001b[0mswish_activation\u001b[0m\u001b[0;34m}\u001b[0m\u001b[0;34m\u001b[0m\u001b[0;34m\u001b[0m\u001b[0m\n\u001b[1;32m     76\u001b[0m         \u001b[0;32mwith\u001b[0m \u001b[0mtensorflow\u001b[0m\u001b[0;34m.\u001b[0m\u001b[0mkeras\u001b[0m\u001b[0;34m.\u001b[0m\u001b[0mutils\u001b[0m\u001b[0;34m.\u001b[0m\u001b[0mcustom_object_scope\u001b[0m\u001b[0;34m(\u001b[0m\u001b[0mcustom_objects\u001b[0m\u001b[0;34m)\u001b[0m\u001b[0;34m:\u001b[0m\u001b[0;34m\u001b[0m\u001b[0;34m\u001b[0m\u001b[0m\n\u001b[0;32m---> 77\u001b[0;31m             \u001b[0mmodel\u001b[0m \u001b[0;34m=\u001b[0m \u001b[0mModel\u001b[0m\u001b[0;34m.\u001b[0m\u001b[0mfrom_config\u001b[0m\u001b[0;34m(\u001b[0m\u001b[0mconfig\u001b[0m\u001b[0;34m)\u001b[0m\u001b[0;34m\u001b[0m\u001b[0;34m\u001b[0m\u001b[0m\n\u001b[0m\u001b[1;32m     78\u001b[0m \u001b[0;34m\u001b[0m\u001b[0m\n\u001b[1;32m     79\u001b[0m         \u001b[0mmodel\u001b[0m \u001b[0;34m=\u001b[0m \u001b[0mself\u001b[0m\u001b[0;34m.\u001b[0m\u001b[0mload_model\u001b[0m\u001b[0;34m(\u001b[0m\u001b[0;34m)\u001b[0m\u001b[0;34m\u001b[0m\u001b[0;34m\u001b[0m\u001b[0m\n",
      "\u001b[0;32m~/.local/lib/python3.7/site-packages/tensorflow/python/keras/engine/training.py\u001b[0m in \u001b[0;36mfrom_config\u001b[0;34m(cls, config, custom_objects)\u001b[0m\n\u001b[1;32m   2355\u001b[0m     \u001b[0;32mwith\u001b[0m \u001b[0mgeneric_utils\u001b[0m\u001b[0;34m.\u001b[0m\u001b[0mSharedObjectLoadingScope\u001b[0m\u001b[0;34m(\u001b[0m\u001b[0;34m)\u001b[0m\u001b[0;34m:\u001b[0m\u001b[0;34m\u001b[0m\u001b[0;34m\u001b[0m\u001b[0m\n\u001b[1;32m   2356\u001b[0m       input_tensors, output_tensors, created_layers = (\n\u001b[0;32m-> 2357\u001b[0;31m           functional.reconstruct_from_config(config, custom_objects))\n\u001b[0m\u001b[1;32m   2358\u001b[0m       \u001b[0;31m# Initialize a model belonging to `cls`, which can be user-defined or\u001b[0m\u001b[0;34m\u001b[0m\u001b[0;34m\u001b[0m\u001b[0;34m\u001b[0m\u001b[0m\n\u001b[1;32m   2359\u001b[0m       \u001b[0;31m# `Functional`.\u001b[0m\u001b[0;34m\u001b[0m\u001b[0;34m\u001b[0m\u001b[0;34m\u001b[0m\u001b[0m\n",
      "\u001b[0;32m~/.local/lib/python3.7/site-packages/tensorflow/python/keras/engine/functional.py\u001b[0m in \u001b[0;36mreconstruct_from_config\u001b[0;34m(config, custom_objects, created_layers)\u001b[0m\n\u001b[1;32m   1277\u001b[0m   \u001b[0;31m# First, we create all layers and enqueue nodes to be processed\u001b[0m\u001b[0;34m\u001b[0m\u001b[0;34m\u001b[0m\u001b[0;34m\u001b[0m\u001b[0m\n\u001b[1;32m   1278\u001b[0m   \u001b[0;32mfor\u001b[0m \u001b[0mlayer_data\u001b[0m \u001b[0;32min\u001b[0m \u001b[0mconfig\u001b[0m\u001b[0;34m[\u001b[0m\u001b[0;34m'layers'\u001b[0m\u001b[0;34m]\u001b[0m\u001b[0;34m:\u001b[0m\u001b[0;34m\u001b[0m\u001b[0;34m\u001b[0m\u001b[0m\n\u001b[0;32m-> 1279\u001b[0;31m     \u001b[0mprocess_layer\u001b[0m\u001b[0;34m(\u001b[0m\u001b[0mlayer_data\u001b[0m\u001b[0;34m)\u001b[0m\u001b[0;34m\u001b[0m\u001b[0;34m\u001b[0m\u001b[0m\n\u001b[0m\u001b[1;32m   1280\u001b[0m   \u001b[0;31m# Then we process nodes in order of layer depth.\u001b[0m\u001b[0;34m\u001b[0m\u001b[0;34m\u001b[0m\u001b[0;34m\u001b[0m\u001b[0m\n\u001b[1;32m   1281\u001b[0m   \u001b[0;31m# Nodes that cannot yet be processed (if the inbound node\u001b[0m\u001b[0;34m\u001b[0m\u001b[0;34m\u001b[0m\u001b[0;34m\u001b[0m\u001b[0m\n",
      "\u001b[0;32m~/.local/lib/python3.7/site-packages/tensorflow/python/keras/engine/functional.py\u001b[0m in \u001b[0;36mprocess_layer\u001b[0;34m(layer_data)\u001b[0m\n\u001b[1;32m   1259\u001b[0m       \u001b[0;32mfrom\u001b[0m \u001b[0mtensorflow\u001b[0m\u001b[0;34m.\u001b[0m\u001b[0mpython\u001b[0m\u001b[0;34m.\u001b[0m\u001b[0mkeras\u001b[0m\u001b[0;34m.\u001b[0m\u001b[0mlayers\u001b[0m \u001b[0;32mimport\u001b[0m \u001b[0mdeserialize\u001b[0m \u001b[0;32mas\u001b[0m \u001b[0mdeserialize_layer\u001b[0m  \u001b[0;31m# pylint: disable=g-import-not-at-top\u001b[0m\u001b[0;34m\u001b[0m\u001b[0;34m\u001b[0m\u001b[0m\n\u001b[1;32m   1260\u001b[0m \u001b[0;34m\u001b[0m\u001b[0m\n\u001b[0;32m-> 1261\u001b[0;31m       \u001b[0mlayer\u001b[0m \u001b[0;34m=\u001b[0m \u001b[0mdeserialize_layer\u001b[0m\u001b[0;34m(\u001b[0m\u001b[0mlayer_data\u001b[0m\u001b[0;34m,\u001b[0m \u001b[0mcustom_objects\u001b[0m\u001b[0;34m=\u001b[0m\u001b[0mcustom_objects\u001b[0m\u001b[0;34m)\u001b[0m\u001b[0;34m\u001b[0m\u001b[0;34m\u001b[0m\u001b[0m\n\u001b[0m\u001b[1;32m   1262\u001b[0m       \u001b[0mcreated_layers\u001b[0m\u001b[0;34m[\u001b[0m\u001b[0mlayer_name\u001b[0m\u001b[0;34m]\u001b[0m \u001b[0;34m=\u001b[0m \u001b[0mlayer\u001b[0m\u001b[0;34m\u001b[0m\u001b[0;34m\u001b[0m\u001b[0m\n\u001b[1;32m   1263\u001b[0m \u001b[0;34m\u001b[0m\u001b[0m\n",
      "\u001b[0;32m~/.local/lib/python3.7/site-packages/tensorflow/python/keras/layers/serialization.py\u001b[0m in \u001b[0;36mdeserialize\u001b[0;34m(config, custom_objects)\u001b[0m\n\u001b[1;32m    161\u001b[0m       \u001b[0mmodule_objects\u001b[0m\u001b[0;34m=\u001b[0m\u001b[0mLOCAL\u001b[0m\u001b[0;34m.\u001b[0m\u001b[0mALL_OBJECTS\u001b[0m\u001b[0;34m,\u001b[0m\u001b[0;34m\u001b[0m\u001b[0;34m\u001b[0m\u001b[0m\n\u001b[1;32m    162\u001b[0m       \u001b[0mcustom_objects\u001b[0m\u001b[0;34m=\u001b[0m\u001b[0mcustom_objects\u001b[0m\u001b[0;34m,\u001b[0m\u001b[0;34m\u001b[0m\u001b[0;34m\u001b[0m\u001b[0m\n\u001b[0;32m--> 163\u001b[0;31m       printable_module_name='layer')\n\u001b[0m",
      "\u001b[0;32m~/.local/lib/python3.7/site-packages/tensorflow/python/keras/utils/generic_utils.py\u001b[0m in \u001b[0;36mdeserialize_keras_object\u001b[0;34m(identifier, module_objects, custom_objects, printable_module_name)\u001b[0m\n\u001b[1;32m    673\u001b[0m       \u001b[0;32melse\u001b[0m\u001b[0;34m:\u001b[0m\u001b[0;34m\u001b[0m\u001b[0;34m\u001b[0m\u001b[0m\n\u001b[1;32m    674\u001b[0m         \u001b[0;32mwith\u001b[0m \u001b[0mCustomObjectScope\u001b[0m\u001b[0;34m(\u001b[0m\u001b[0mcustom_objects\u001b[0m\u001b[0;34m)\u001b[0m\u001b[0;34m:\u001b[0m\u001b[0;34m\u001b[0m\u001b[0;34m\u001b[0m\u001b[0m\n\u001b[0;32m--> 675\u001b[0;31m           \u001b[0mdeserialized_obj\u001b[0m \u001b[0;34m=\u001b[0m \u001b[0mcls\u001b[0m\u001b[0;34m.\u001b[0m\u001b[0mfrom_config\u001b[0m\u001b[0;34m(\u001b[0m\u001b[0mcls_config\u001b[0m\u001b[0;34m)\u001b[0m\u001b[0;34m\u001b[0m\u001b[0;34m\u001b[0m\u001b[0m\n\u001b[0m\u001b[1;32m    676\u001b[0m     \u001b[0;32melse\u001b[0m\u001b[0;34m:\u001b[0m\u001b[0;34m\u001b[0m\u001b[0;34m\u001b[0m\u001b[0m\n\u001b[1;32m    677\u001b[0m       \u001b[0;31m# Then `cls` may be a function returning a class.\u001b[0m\u001b[0;34m\u001b[0m\u001b[0;34m\u001b[0m\u001b[0;34m\u001b[0m\u001b[0m\n",
      "\u001b[0;32m~/.local/lib/python3.7/site-packages/tensorflow/python/keras/engine/base_layer.py\u001b[0m in \u001b[0;36mfrom_config\u001b[0;34m(cls, config)\u001b[0m\n\u001b[1;32m    738\u001b[0m         \u001b[0mA\u001b[0m \u001b[0mlayer\u001b[0m \u001b[0minstance\u001b[0m\u001b[0;34m.\u001b[0m\u001b[0;34m\u001b[0m\u001b[0;34m\u001b[0m\u001b[0m\n\u001b[1;32m    739\u001b[0m     \"\"\"\n\u001b[0;32m--> 740\u001b[0;31m     \u001b[0;32mreturn\u001b[0m \u001b[0mcls\u001b[0m\u001b[0;34m(\u001b[0m\u001b[0;34m**\u001b[0m\u001b[0mconfig\u001b[0m\u001b[0;34m)\u001b[0m\u001b[0;34m\u001b[0m\u001b[0;34m\u001b[0m\u001b[0m\n\u001b[0m\u001b[1;32m    741\u001b[0m \u001b[0;34m\u001b[0m\u001b[0m\n\u001b[1;32m    742\u001b[0m   \u001b[0;32mdef\u001b[0m \u001b[0mcompute_output_shape\u001b[0m\u001b[0;34m(\u001b[0m\u001b[0mself\u001b[0m\u001b[0;34m,\u001b[0m \u001b[0minput_shape\u001b[0m\u001b[0;34m)\u001b[0m\u001b[0;34m:\u001b[0m\u001b[0;34m\u001b[0m\u001b[0;34m\u001b[0m\u001b[0m\n",
      "\u001b[0;32m~/.local/lib/python3.7/site-packages/tensorflow/python/keras/layers/core.py\u001b[0m in \u001b[0;36m__init__\u001b[0;34m(self, activation, **kwargs)\u001b[0m\n\u001b[1;32m    435\u001b[0m     \u001b[0msuper\u001b[0m\u001b[0;34m(\u001b[0m\u001b[0mActivation\u001b[0m\u001b[0;34m,\u001b[0m \u001b[0mself\u001b[0m\u001b[0;34m)\u001b[0m\u001b[0;34m.\u001b[0m\u001b[0m__init__\u001b[0m\u001b[0;34m(\u001b[0m\u001b[0;34m**\u001b[0m\u001b[0mkwargs\u001b[0m\u001b[0;34m)\u001b[0m\u001b[0;34m\u001b[0m\u001b[0;34m\u001b[0m\u001b[0m\n\u001b[1;32m    436\u001b[0m     \u001b[0mself\u001b[0m\u001b[0;34m.\u001b[0m\u001b[0msupports_masking\u001b[0m \u001b[0;34m=\u001b[0m \u001b[0;32mTrue\u001b[0m\u001b[0;34m\u001b[0m\u001b[0;34m\u001b[0m\u001b[0m\n\u001b[0;32m--> 437\u001b[0;31m     \u001b[0mself\u001b[0m\u001b[0;34m.\u001b[0m\u001b[0mactivation\u001b[0m \u001b[0;34m=\u001b[0m \u001b[0mactivations\u001b[0m\u001b[0;34m.\u001b[0m\u001b[0mget\u001b[0m\u001b[0;34m(\u001b[0m\u001b[0mactivation\u001b[0m\u001b[0;34m)\u001b[0m\u001b[0;34m\u001b[0m\u001b[0;34m\u001b[0m\u001b[0m\n\u001b[0m\u001b[1;32m    438\u001b[0m \u001b[0;34m\u001b[0m\u001b[0m\n\u001b[1;32m    439\u001b[0m   \u001b[0;32mdef\u001b[0m \u001b[0mcall\u001b[0m\u001b[0;34m(\u001b[0m\u001b[0mself\u001b[0m\u001b[0;34m,\u001b[0m \u001b[0minputs\u001b[0m\u001b[0;34m)\u001b[0m\u001b[0;34m:\u001b[0m\u001b[0;34m\u001b[0m\u001b[0;34m\u001b[0m\u001b[0m\n",
      "\u001b[0;32m~/.local/lib/python3.7/site-packages/tensorflow/python/util/dispatch.py\u001b[0m in \u001b[0;36mwrapper\u001b[0;34m(*args, **kwargs)\u001b[0m\n\u001b[1;32m    204\u001b[0m     \u001b[0;34m\"\"\"Call target, and fall back on dispatchers if there is a TypeError.\"\"\"\u001b[0m\u001b[0;34m\u001b[0m\u001b[0;34m\u001b[0m\u001b[0m\n\u001b[1;32m    205\u001b[0m     \u001b[0;32mtry\u001b[0m\u001b[0;34m:\u001b[0m\u001b[0;34m\u001b[0m\u001b[0;34m\u001b[0m\u001b[0m\n\u001b[0;32m--> 206\u001b[0;31m       \u001b[0;32mreturn\u001b[0m \u001b[0mtarget\u001b[0m\u001b[0;34m(\u001b[0m\u001b[0;34m*\u001b[0m\u001b[0margs\u001b[0m\u001b[0;34m,\u001b[0m \u001b[0;34m**\u001b[0m\u001b[0mkwargs\u001b[0m\u001b[0;34m)\u001b[0m\u001b[0;34m\u001b[0m\u001b[0;34m\u001b[0m\u001b[0m\n\u001b[0m\u001b[1;32m    207\u001b[0m     \u001b[0;32mexcept\u001b[0m \u001b[0;34m(\u001b[0m\u001b[0mTypeError\u001b[0m\u001b[0;34m,\u001b[0m \u001b[0mValueError\u001b[0m\u001b[0;34m)\u001b[0m\u001b[0;34m:\u001b[0m\u001b[0;34m\u001b[0m\u001b[0;34m\u001b[0m\u001b[0m\n\u001b[1;32m    208\u001b[0m       \u001b[0;31m# Note: convert_to_eager_tensor currently raises a ValueError, not a\u001b[0m\u001b[0;34m\u001b[0m\u001b[0;34m\u001b[0m\u001b[0;34m\u001b[0m\u001b[0m\n",
      "\u001b[0;32m~/.local/lib/python3.7/site-packages/tensorflow/python/keras/activations.py\u001b[0m in \u001b[0;36mget\u001b[0;34m(identifier)\u001b[0m\n\u001b[1;32m    585\u001b[0m   \u001b[0;32mif\u001b[0m \u001b[0misinstance\u001b[0m\u001b[0;34m(\u001b[0m\u001b[0midentifier\u001b[0m\u001b[0;34m,\u001b[0m \u001b[0mstr\u001b[0m\u001b[0;34m)\u001b[0m\u001b[0;34m:\u001b[0m\u001b[0;34m\u001b[0m\u001b[0;34m\u001b[0m\u001b[0m\n\u001b[1;32m    586\u001b[0m     \u001b[0midentifier\u001b[0m \u001b[0;34m=\u001b[0m \u001b[0mstr\u001b[0m\u001b[0;34m(\u001b[0m\u001b[0midentifier\u001b[0m\u001b[0;34m)\u001b[0m\u001b[0;34m\u001b[0m\u001b[0;34m\u001b[0m\u001b[0m\n\u001b[0;32m--> 587\u001b[0;31m     \u001b[0;32mreturn\u001b[0m \u001b[0mdeserialize\u001b[0m\u001b[0;34m(\u001b[0m\u001b[0midentifier\u001b[0m\u001b[0;34m)\u001b[0m\u001b[0;34m\u001b[0m\u001b[0;34m\u001b[0m\u001b[0m\n\u001b[0m\u001b[1;32m    588\u001b[0m   \u001b[0;32melif\u001b[0m \u001b[0misinstance\u001b[0m\u001b[0;34m(\u001b[0m\u001b[0midentifier\u001b[0m\u001b[0;34m,\u001b[0m \u001b[0mdict\u001b[0m\u001b[0;34m)\u001b[0m\u001b[0;34m:\u001b[0m\u001b[0;34m\u001b[0m\u001b[0;34m\u001b[0m\u001b[0m\n\u001b[1;32m    589\u001b[0m     \u001b[0;32mreturn\u001b[0m \u001b[0mdeserialize\u001b[0m\u001b[0;34m(\u001b[0m\u001b[0midentifier\u001b[0m\u001b[0;34m)\u001b[0m\u001b[0;34m\u001b[0m\u001b[0;34m\u001b[0m\u001b[0m\n",
      "\u001b[0;32m~/.local/lib/python3.7/site-packages/tensorflow/python/util/dispatch.py\u001b[0m in \u001b[0;36mwrapper\u001b[0;34m(*args, **kwargs)\u001b[0m\n\u001b[1;32m    204\u001b[0m     \u001b[0;34m\"\"\"Call target, and fall back on dispatchers if there is a TypeError.\"\"\"\u001b[0m\u001b[0;34m\u001b[0m\u001b[0;34m\u001b[0m\u001b[0m\n\u001b[1;32m    205\u001b[0m     \u001b[0;32mtry\u001b[0m\u001b[0;34m:\u001b[0m\u001b[0;34m\u001b[0m\u001b[0;34m\u001b[0m\u001b[0m\n\u001b[0;32m--> 206\u001b[0;31m       \u001b[0;32mreturn\u001b[0m \u001b[0mtarget\u001b[0m\u001b[0;34m(\u001b[0m\u001b[0;34m*\u001b[0m\u001b[0margs\u001b[0m\u001b[0;34m,\u001b[0m \u001b[0;34m**\u001b[0m\u001b[0mkwargs\u001b[0m\u001b[0;34m)\u001b[0m\u001b[0;34m\u001b[0m\u001b[0;34m\u001b[0m\u001b[0m\n\u001b[0m\u001b[1;32m    207\u001b[0m     \u001b[0;32mexcept\u001b[0m \u001b[0;34m(\u001b[0m\u001b[0mTypeError\u001b[0m\u001b[0;34m,\u001b[0m \u001b[0mValueError\u001b[0m\u001b[0;34m)\u001b[0m\u001b[0;34m:\u001b[0m\u001b[0;34m\u001b[0m\u001b[0;34m\u001b[0m\u001b[0m\n\u001b[1;32m    208\u001b[0m       \u001b[0;31m# Note: convert_to_eager_tensor currently raises a ValueError, not a\u001b[0m\u001b[0;34m\u001b[0m\u001b[0;34m\u001b[0m\u001b[0;34m\u001b[0m\u001b[0m\n",
      "\u001b[0;32m~/.local/lib/python3.7/site-packages/tensorflow/python/keras/activations.py\u001b[0m in \u001b[0;36mdeserialize\u001b[0;34m(name, custom_objects)\u001b[0m\n\u001b[1;32m    548\u001b[0m       \u001b[0mmodule_objects\u001b[0m\u001b[0;34m=\u001b[0m\u001b[0mglobs\u001b[0m\u001b[0;34m,\u001b[0m\u001b[0;34m\u001b[0m\u001b[0;34m\u001b[0m\u001b[0m\n\u001b[1;32m    549\u001b[0m       \u001b[0mcustom_objects\u001b[0m\u001b[0;34m=\u001b[0m\u001b[0mcustom_objects\u001b[0m\u001b[0;34m,\u001b[0m\u001b[0;34m\u001b[0m\u001b[0;34m\u001b[0m\u001b[0m\n\u001b[0;32m--> 550\u001b[0;31m       printable_module_name='activation function')\n\u001b[0m\u001b[1;32m    551\u001b[0m \u001b[0;34m\u001b[0m\u001b[0m\n\u001b[1;32m    552\u001b[0m \u001b[0;34m\u001b[0m\u001b[0m\n",
      "\u001b[0;32m~/.local/lib/python3.7/site-packages/tensorflow/python/keras/utils/generic_utils.py\u001b[0m in \u001b[0;36mdeserialize_keras_object\u001b[0;34m(identifier, module_objects, custom_objects, printable_module_name)\u001b[0m\n\u001b[1;32m    701\u001b[0m             \u001b[0;34m'https://www.tensorflow.org/guide/keras/save_and_serialize'\u001b[0m\u001b[0;34m\u001b[0m\u001b[0;34m\u001b[0m\u001b[0m\n\u001b[1;32m    702\u001b[0m             \u001b[0;34m'#registering_the_custom_object for details.'\u001b[0m\u001b[0;34m\u001b[0m\u001b[0;34m\u001b[0m\u001b[0m\n\u001b[0;32m--> 703\u001b[0;31m             .format(printable_module_name, object_name))\n\u001b[0m\u001b[1;32m    704\u001b[0m \u001b[0;34m\u001b[0m\u001b[0m\n\u001b[1;32m    705\u001b[0m     \u001b[0;31m# Classes passed by name are instantiated with no args, functions are\u001b[0m\u001b[0;34m\u001b[0m\u001b[0;34m\u001b[0m\u001b[0;34m\u001b[0m\u001b[0m\n",
      "\u001b[0;31mValueError\u001b[0m: Unknown activation function: swish_activation. Please ensure this object is passed to the `custom_objects` argument. See https://www.tensorflow.org/guide/keras/save_and_serialize#registering_the_custom_object for details."
     ]
    },
    {
     "name": "stdout",
     "output_type": "stream",
     "text": [
      "time: 268 ms\n"
     ]
    }
   ],
   "source": [
    "# Emory CXR Class - PoChih - Incomplete\n",
    "import tensorflow\n",
    "from tensorflow.keras import backend as K\n",
    "from tensorflow.keras.layers import Activation, Layer, Input\n",
    "from tensorflow.keras.models import Model\n",
    "from PIL import ImageFile\n",
    "from tensorflow.keras.utils import custom_object_scope\n",
    "\n",
    "class CustomLayer(Layer):\n",
    "    def __init__(self, units=32, **kwargs):\n",
    "        super(CustomLayer, self).__init__(**kwargs)\n",
    "        self.units = units\n",
    "\n",
    "    def build(self, input_shape):\n",
    "        self.w = self.add_weight(\n",
    "            shape=(input_shape[-1], self.units),\n",
    "            initializer=\"random_normal\",\n",
    "            trainable=True,\n",
    "        )\n",
    "        self.b = self.add_weight(\n",
    "            shape=(self.units,), initializer=\"random_normal\", trainable=True\n",
    "        )\n",
    "\n",
    "    def call(self, inputs):\n",
    "        return tf.matmul(inputs, self.w) + self.b\n",
    "\n",
    "    def get_config(self):\n",
    "        config = super(CustomLayer, self).get_config()\n",
    "        config.update({\"units\": self.units})\n",
    "        return config\n",
    "\n",
    "\n",
    "class Emory_CXR_P_DenseNet121(Model):\n",
    "    def __init__(self, model_path, data_path):\n",
    "        self.model_path = model_path\n",
    "        self.data_path = data_path\n",
    "        \n",
    "    def swish_activation(x):\n",
    "        return (K.sigmoid(x) * x)\n",
    "        \n",
    "    def load_data(self, img_width, img_height, batch_size):\n",
    "        ImageFile.LOAD_TRUNCATED_IMAGES = True\n",
    "        validation_df = pd.read_csv(self.data_path)\n",
    "        validation_df.drop(validation_df.loc[validation_df['Race'] == 'Not Recorded'].index, inplace=True)\n",
    "        validation_df.drop(validation_df.loc[validation_df['Race'] == 'HISPANIC/LATINO'].index, inplace=True)\n",
    "        validation_df.drop(validation_df.loc[validation_df['Race'] == 'NATIVE'].index, inplace=True)\n",
    "        validation_df.drop(validation_df.loc[validation_df['Race'] == 'OTHER'].index, inplace=True)\n",
    "        \n",
    "        validate_gen = tf.keras.preprocessing.image.ImageDataGenerator()\n",
    "        validate_batches = validate_gen.flow_from_dataframe(validation_df,\n",
    "                                                            directory= None, \n",
    "                                                            x_col='hiti_path', y_col='Race', \n",
    "                                                            class_mode='categorical',\n",
    "                                                            color_mode='grayscale',\n",
    "                                                            target_size=(img_height, img_width), shuffle=False,\n",
    "                                                            batch_size=batch_size, rescale=1/255, \n",
    "                                                            dtype='float32')\n",
    "        val_epoch = math.ceil(len(validation_df)/batch_size)\n",
    "        return (validate_batches, val_epoch)\n",
    "\n",
    "    def load_model(self):\n",
    "        model = tf.keras.models.load_model(self.model_path)\n",
    "        return (model)\n",
    "    \n",
    "    def calculate_inference(self, img_width, img_height, batch_size):\n",
    "        validate_batches, val_epoch = self.load_data(img_width=img_width, img_height=img_height, \n",
    "                                                     batch_size=batch_size)\n",
    "        \n",
    "        inputs = Input((32,))\n",
    "        x = CustomLayer(32)(inputs)\n",
    "        outputs = Activation(swish_activation)(x)\n",
    "        model = Model(inputs, outputs)\n",
    "\n",
    "        config = model.get_config()\n",
    "        custom_objects = {\"CustomLayer\": CustomLayer, \"custom_activation\": swish_activation}\n",
    "        with tensorflow.keras.utils.custom_object_scope(custom_objects):\n",
    "            model = Model.from_config(config)\n",
    "\n",
    "        model = self.load_model()\n",
    "        \n",
    "        result = model.predict(validate_batches, val_epoch)\n",
    "        labels = np.argmax(result, axis=1)\n",
    "        \n",
    "        print ('Classwise ROC AUC \\n')\n",
    "        for p in list(set(labels)):\n",
    "            fpr, tpr, thresholds = roc_curve(validate_batches.classes, result[:,p], pos_label = p)\n",
    "            auroc = round(auc(fpr, tpr), 2)\n",
    "            print ('Class - {} ROC-AUC- {}'.format(p, auroc))\n",
    "        \n",
    "        print (classification_report(validate_batches.classes, labels))\n",
    "        class_matrix = confusion_matrix(validate_batches.classes, labels)\n",
    "        return (sns.heatmap(class_matrix, annot=True, fmt='d', cmap='Blues'))\n",
    "\n",
    "ecxr_dense = Emory_CXR_P_DenseNet121(model_path='/home/judy/Collaboratory/pochih/Emory_DNet.h5', \n",
    "                                     data_path='/data/correa/test_censored.csv')\n",
    "print (ecxr_dense.calculate_inference(img_height=256, img_width=256, batch_size=32))"
   ]
  },
  {
   "cell_type": "code",
   "execution_count": 10,
   "metadata": {},
   "outputs": [
    {
     "name": "stdout",
     "output_type": "stream",
     "text": [
      "Found 11832 validated image filenames belonging to 3 classes.\n",
      "Classwise ROC AUC \n",
      "\n",
      "Class - 0 ROC-AUC- 0.9\n",
      "Class - 1 ROC-AUC- 0.98\n",
      "Class - 2 ROC-AUC- 0.97\n",
      "              precision    recall  f1-score   support\n",
      "\n",
      "           0       0.83      0.07      0.13       484\n",
      "           1       0.95      0.93      0.94      6067\n",
      "           2       0.86      0.95      0.90      5281\n",
      "\n",
      "    accuracy                           0.90     11832\n",
      "   macro avg       0.88      0.65      0.66     11832\n",
      "weighted avg       0.90      0.90      0.89     11832\n",
      "\n",
      "AxesSubplot(0.125,0.125;0.62x0.755)\n"
     ]
    },
    {
     "data": {
      "image/png": "[encoded data removed]",
      "text/plain": [
       "<Figure size 432x288 with 2 Axes>"
      ]
     },
     "metadata": {
      "needs_background": "light"
     },
     "output_type": "display_data"
    },
    {
     "name": "stdout",
     "output_type": "stream",
     "text": [
      "time: 11min 51s\n"
     ]
    }
   ],
   "source": [
    "from PIL import ImageFile\n",
    "\n",
    "# Emory CXR EfficientNet Class\n",
    "class Emory_CXR_C_EfficientNet(Model):\n",
    "    def __init__(self, model_path, data_path):\n",
    "        self.model_path = model_path\n",
    "        self.data_path = data_path\n",
    "        \n",
    "    def load_data(self, img_width, img_height, batch_size):\n",
    "        ImageFile.LOAD_TRUNCATED_IMAGES = True\n",
    "        validation_df = pd.read_csv(self.data_path)\n",
    "        validation_df = validation_df[validation_df.Race.isin(['ASIAN','BLACK/AFRICAN AMERICAN','WHITE'])]\n",
    "        validation_df = validation_df[~validation_df.hiti_path.str.contains('406e0996e5f1cf082487d7d096574d10b46c0c52710222a4884db1cc|dd97e997cc2a4166dc6e192cb62e29553aa28f4671d98c9577e32cfd|6224290209c45bb2b3e07b3b3a27778d1d10f7953567b3c59158e099')]\n",
    "        \n",
    "        validate_gen = tf.keras.preprocessing.image.ImageDataGenerator()\n",
    "        validate_batches = validate_gen.flow_from_dataframe(validation_df,\n",
    "                                                            directory= None, \n",
    "                                                            x_col='hiti_path', y_col='Race', \n",
    "                                                            class_mode='categorical',\n",
    "                                                            target_size=(img_height, img_width), shuffle=False,\n",
    "                                                            batch_size=batch_size, dtype='float32')\n",
    "        val_epoch = math.ceil(len(validation_df)/batch_size)\n",
    "        return (validate_batches, val_epoch)\n",
    "\n",
    "    \n",
    "    def load_model(self):\n",
    "        model = tf.keras.models.load_model(self.model_path)\n",
    "        return (model)\n",
    "    \n",
    "    def calculate_inference(self, img_width, img_height, batch_size):\n",
    "        validate_batches, val_epoch = self.load_data(img_width=img_width, img_height=img_height, \n",
    "                                                     batch_size=batch_size)\n",
    "        model = self.load_model()\n",
    "        \n",
    "        result = model.predict(validate_batches, val_epoch)\n",
    "        labels = np.argmax(result, axis=1)\n",
    "        \n",
    "        print ('Classwise ROC AUC \\n')\n",
    "        for p in list(set(labels)):\n",
    "            fpr, tpr, thresholds = roc_curve(validate_batches.classes, result[:,p], pos_label = p)\n",
    "            auroc = round(auc(fpr, tpr), 2)\n",
    "            print ('Class - {} ROC-AUC- {}'.format(p, auroc))\n",
    "        \n",
    "        print (classification_report(validate_batches.classes, labels))\n",
    "        class_matrix = confusion_matrix(validate_batches.classes, labels)\n",
    "        return (sns.heatmap(class_matrix, annot=True, fmt='d', cmap='Blues'))\n",
    "\n",
    "ecxr_eff = Emory_CXR_C_EfficientNet(model_path='./models/Emory_CXR/Three_classes/EfficientNet/Emory_CXR_three_classes_EfficientNet.h5', \n",
    "                          data_path='./test_data/Emory_CXR_test_censored.csv')\n",
    "print (ecxr_eff.calculate_inference(img_height=320, img_width=320, batch_size=64))"
   ]
  },
  {
   "cell_type": "code",
   "execution_count": 20,
   "metadata": {},
   "outputs": [
    {
     "name": "stdout",
     "output_type": "stream",
     "text": [
      "Found 11832 validated image filenames belonging to 3 classes.\n",
      "Classwise ROC AUC \n",
      "\n",
      "Class - 0 ROC-AUC- 0.97\n",
      "Class - 1 ROC-AUC- 0.99\n",
      "Class - 2 ROC-AUC- 0.99\n",
      "              precision    recall  f1-score   support\n",
      "\n",
      "           0       0.76      0.63      0.69       484\n",
      "           1       0.98      0.97      0.97      6067\n",
      "           2       0.94      0.96      0.95      5281\n",
      "\n",
      "    accuracy                           0.95     11832\n",
      "   macro avg       0.89      0.85      0.87     11832\n",
      "weighted avg       0.95      0.95      0.95     11832\n",
      "\n",
      "AxesSubplot(0.125,0.125;0.62x0.755)\n"
     ]
    },
    {
     "data": {
      "image/png": "[encoded data removed]",
      "text/plain": [
       "<Figure size 432x288 with 2 Axes>"
      ]
     },
     "metadata": {
      "needs_background": "light"
     },
     "output_type": "display_data"
    },
    {
     "name": "stdout",
     "output_type": "stream",
     "text": [
      "time: 11min 18s\n"
     ]
    }
   ],
   "source": [
    "from PIL import ImageFile\n",
    "from classification_models.tfkeras import Classifiers\n",
    "\n",
    "# Emory CXR EfficientNet Class\n",
    "class Emory_CXR_B_ResNet(Model):\n",
    "    def __init__(self, model_path, data_path):\n",
    "        self.model_path = model_path\n",
    "        self.data_path = data_path\n",
    "        \n",
    "    def load_data(self, img_width, img_height, batch_size):\n",
    "        ImageFile.LOAD_TRUNCATED_IMAGES = True\n",
    "        validation_df = pd.read_csv(self.data_path)\n",
    "        validation_df = validation_df[validation_df.Race.isin(['ASIAN','BLACK/AFRICAN AMERICAN','WHITE'])]\n",
    "#         validation_df = validation_df[~validation_df.hiti_path.str.contains('406e0996e5f1cf082487d7d096574d10b46c0c52710222a4884db1cc|dd97e997cc2a4166dc6e192cb62e29553aa28f4671d98c9577e32cfd|6224290209c45bb2b3e07b3b3a27778d1d10f7953567b3c59158e099')]\n",
    "        \n",
    "        resnet34, preprocess_input = Classifiers.get('resnet34')\n",
    "        validate_gen = tf.keras.preprocessing.image.ImageDataGenerator(preprocessing_function=preprocess_input)\n",
    "        validate_batches = validate_gen.flow_from_dataframe(validation_df,\n",
    "                                                            directory= None, \n",
    "                                                            x_col='hiti_path', y_col='Race', \n",
    "                                                            class_mode='categorical',\n",
    "                                                            target_size=(img_height, img_width), shuffle=False,\n",
    "                                                            batch_size=batch_size, dtype='float32')\n",
    "        val_epoch = math.ceil(len(validation_df)/batch_size)\n",
    "        return (validate_batches, val_epoch)\n",
    "\n",
    "    \n",
    "    def load_model(self):\n",
    "        model = tf.keras.models.load_model(self.model_path)\n",
    "        return (model)\n",
    "    \n",
    "    def calculate_inference(self, img_width, img_height, batch_size):\n",
    "        validate_batches, val_epoch = self.load_data(img_width=img_width, img_height=img_height, \n",
    "                                                     batch_size=batch_size)\n",
    "        model = self.load_model()\n",
    "        \n",
    "        result = model.predict(validate_batches, val_epoch)\n",
    "        labels = np.argmax(result, axis=1)\n",
    "        \n",
    "        print ('Classwise ROC AUC \\n')\n",
    "        for p in list(set(labels)):\n",
    "            fpr, tpr, thresholds = roc_curve(validate_batches.classes, result[:,p], pos_label = p)\n",
    "            auroc = round(auc(fpr, tpr), 2)\n",
    "            print ('Class - {} ROC-AUC- {}'.format(p, auroc))\n",
    "        \n",
    "        print (classification_report(validate_batches.classes, labels))\n",
    "        class_matrix = confusion_matrix(validate_batches.classes, labels)\n",
    "        return (sns.heatmap(class_matrix, annot=True, fmt='d', cmap='Blues'))\n",
    "\n",
    "ecxr_resnet = Emory_CXR_B_ResNet(model_path='./models/Emory_CXR_resnet34_320x320_3-race_detection.hdf5', \n",
    "                          data_path='./test_data/Emory_CXR_test_censored.csv')\n",
    "print (ecxr_resnet.calculate_inference(img_height=320, img_width=320, batch_size=64))"
   ]
  },
  {
   "cell_type": "code",
   "execution_count": 8,
   "metadata": {},
   "outputs": [
    {
     "name": "stderr",
     "output_type": "stream",
     "text": [
      "100%|██████████| 945/945 [00:00<00:00, 9860.95it/s]\n"
     ]
    },
    {
     "name": "stdout",
     "output_type": "stream",
     "text": [
      "Found 945 validated image filenames belonging to 2 classes.\n",
      "WARNING:tensorflow:No training configuration found in the save file, so the model was *not* compiled. Compile it manually.\n",
      "Classwise ROC AUC \n",
      "\n",
      "Class - 0 ROC-AUC- 0.92\n",
      "Class - 1 ROC-AUC- 0.92\n",
      "              precision    recall  f1-score   support\n",
      "\n",
      "           0       0.82      0.68      0.74       286\n",
      "           1       0.87      0.93      0.90       659\n",
      "\n",
      "    accuracy                           0.86       945\n",
      "   macro avg       0.85      0.81      0.82       945\n",
      "weighted avg       0.86      0.86      0.85       945\n",
      "\n",
      "AxesSubplot(0.125,0.125;0.62x0.755)\n"
     ]
    },
    {
     "data": {
      "image/png": "[encoded data removed]",
      "text/plain": [
       "<Figure size 432x288 with 2 Axes>"
      ]
     },
     "metadata": {
      "needs_background": "light"
     },
     "output_type": "display_data"
    },
    {
     "name": "stdout",
     "output_type": "stream",
     "text": [
      "time: 1min 21s\n"
     ]
    }
   ],
   "source": [
    "# Cervical Spine Class\n",
    "class C_Spine_ResNet34(Model):\n",
    "    def __init__(self, model_path, data_path):\n",
    "        self.model_path = model_path\n",
    "        self.data_path = data_path\n",
    "        \n",
    "    def load_data(self, img_width, img_height, batch_size):\n",
    "        validation_df = pd.read_csv(self.data_path)\n",
    "        validation_df = validation_df[validation_df.Race.isin(['African American  or Black', 'Caucasian or White'])]\n",
    "        validation_df['modified_path'] = [0]*len(validation_df)\n",
    "        for i in trange(len(validation_df)):\n",
    "            validation_df['modified_path'][i] = validation_df['Image'][i][2:]\n",
    "            \n",
    "        resnet34, preprocess_input = Classifiers.get('resnet34')\n",
    "        \n",
    "        validate_gen = tf.keras.preprocessing.image.ImageDataGenerator(preprocessing_function=preprocess_input)\n",
    "        validate_batches = validate_gen.flow_from_dataframe(validation_df,\n",
    "                                                            directory= None, #'/tf/notebooks/SSD_data/resize_chexpert_320x320/chexpert_data/',\n",
    "                                                            x_col='modified_path', y_col='Race', \n",
    "                                                            class_mode='categorical',\n",
    "                                                            target_size=(img_height, img_width), shuffle=False,\n",
    "                                                            batch_size=batch_size, dtype='float32')\n",
    "        val_epoch = math.ceil(len(validation_df)/batch_size)\n",
    "        return (validate_batches, val_epoch)\n",
    "\n",
    "    \n",
    "    def load_model(self):\n",
    "        model = tf.keras.models.load_model(self.model_path)\n",
    "        return (model)\n",
    "    \n",
    "    def calculate_inference(self, img_width, img_height, batch_size):\n",
    "        validate_batches, val_epoch = self.load_data(img_width=img_width, img_height=img_height, \n",
    "                                                     batch_size=batch_size)\n",
    "        model = self.load_model()\n",
    "        \n",
    "        result = model.predict(validate_batches, val_epoch)\n",
    "        labels = np.argmax(result, axis=1)\n",
    "        \n",
    "        print ('Classwise ROC AUC \\n')\n",
    "        for p in list(set(labels)):\n",
    "            fpr, tpr, thresholds = roc_curve(validate_batches.classes, result[:,p], pos_label = p)\n",
    "            auroc = round(auc(fpr, tpr), 2)\n",
    "            print ('Class - {} ROC-AUC- {}'.format(p, auroc))\n",
    "        \n",
    "        print (classification_report(validate_batches.classes, labels))\n",
    "        class_matrix = confusion_matrix(validate_batches.classes, labels)\n",
    "        return (sns.heatmap(class_matrix, annot=True, fmt='d', cmap='Blues'))\n",
    "\n",
    "cspine = C_Spine_ResNet34(model_path='./models/EMORY_C-Spine_race_classification.hdf5', \n",
    "                          data_path='./test_data/emory_c-spine_lateral_dataset_test.csv')\n",
    "print (cspine.calculate_inference(img_height=320, img_width=320, batch_size=64))"
   ]
  },
  {
   "cell_type": "code",
   "execution_count": 10,
   "metadata": {},
   "outputs": [
    {
     "name": "stdout",
     "output_type": "stream",
     "text": [
      "Found 11832 validated image filenames belonging to 3 classes.\n",
      "WARNING:tensorflow:No training configuration found in the save file, so the model was *not* compiled. Compile it manually.\n",
      "Classwise ROC AUC \n",
      "\n",
      "Class - 0 ROC-AUC- 0.97\n",
      "Class - 1 ROC-AUC- 0.99\n",
      "Class - 2 ROC-AUC- 0.99\n",
      "              precision    recall  f1-score   support\n",
      "\n",
      "           0       0.76      0.63      0.69       484\n",
      "           1       0.98      0.97      0.97      6067\n",
      "           2       0.94      0.96      0.95      5281\n",
      "\n",
      "    accuracy                           0.95     11832\n",
      "   macro avg       0.89      0.85      0.87     11832\n",
      "weighted avg       0.95      0.95      0.95     11832\n",
      "\n",
      "AxesSubplot(0.125,0.125;0.62x0.755)\n"
     ]
    },
    {
     "data": {
      "image/png": "[encoded data removed]",
      "text/plain": [
       "<Figure size 432x288 with 2 Axes>"
      ]
     },
     "metadata": {
      "needs_background": "light"
     },
     "output_type": "display_data"
    },
    {
     "name": "stdout",
     "output_type": "stream",
     "text": [
      "time: 19min 10s\n"
     ]
    }
   ],
   "source": [
    "# Emory CXR Class\n",
    "class Emory_CXR_ResNet34(Model):\n",
    "    def __init__(self, model_path, data_path):\n",
    "        self.model_path = model_path\n",
    "        self.data_path = data_path\n",
    "        \n",
    "    def load_data(self, img_width, img_height, batch_size):\n",
    "        validation_df = pd.read_csv(self.data_path)\n",
    "        validation_df = validation_df[validation_df.Race.isin(['ASIAN','BLACK/AFRICAN AMERICAN','WHITE'])]\n",
    "        validation_df = validation_df[~validation_df.hiti_path.str.contains('406e0996e5f1cf082487d7d096574d10b46c0c52710222a4884db1cc|dd97e997cc2a4166dc6e192cb62e29553aa28f4671d98c9577e32cfd|6224290209c45bb2b3e07b3b3a27778d1d10f7953567b3c59158e099')]\n",
    "            \n",
    "        resnet34, preprocess_input = Classifiers.get('resnet34')\n",
    "        \n",
    "        validate_gen = tf.keras.preprocessing.image.ImageDataGenerator(preprocessing_function=preprocess_input)\n",
    "        validate_batches = validate_gen.flow_from_dataframe(validation_df,\n",
    "                                                            directory= None, #'/tf/notebooks/SSD_data/resize_chexpert_320x320/chexpert_data/',\n",
    "                                                            x_col='hiti_path', y_col='Race', \n",
    "                                                            class_mode='categorical',\n",
    "                                                            target_size=(img_height, img_width), shuffle=False,\n",
    "                                                            batch_size=batch_size, dtype='float32')\n",
    "        val_epoch = math.ceil(len(validation_df)/batch_size)\n",
    "        return (validate_batches, val_epoch)\n",
    "\n",
    "    \n",
    "    def load_model(self):\n",
    "        model = tf.keras.models.load_model(self.model_path)\n",
    "        return (model)\n",
    "    \n",
    "    def calculate_inference(self, img_width, img_height, batch_size):\n",
    "        validate_batches, val_epoch = self.load_data(img_width=img_width, img_height=img_height, \n",
    "                                                     batch_size=batch_size)\n",
    "        model = self.load_model()\n",
    "        \n",
    "        result = model.predict(validate_batches, val_epoch)\n",
    "        labels = np.argmax(result, axis=1)\n",
    "        \n",
    "        print ('Classwise ROC AUC \\n')\n",
    "        for p in list(set(labels)):\n",
    "            fpr, tpr, thresholds = roc_curve(validate_batches.classes, result[:,p], pos_label = p)\n",
    "            auroc = round(auc(fpr, tpr), 2)\n",
    "            print ('Class - {} ROC-AUC- {}'.format(p, auroc))\n",
    "        \n",
    "        print (classification_report(validate_batches.classes, labels))\n",
    "        class_matrix = confusion_matrix(validate_batches.classes, labels)\n",
    "        return (sns.heatmap(class_matrix, annot=True, fmt='d', cmap='Blues'))\n",
    "\n",
    "ecxr = Emory_CXR_ResNet34(model_path='./models/EMORY_CXR_race_classification.hdf5', \n",
    "                          data_path='./test_data/Emory_CXR_test_censored.csv')\n",
    "print (ecxr.calculate_inference(img_height=320, img_width=320, batch_size=64))"
   ]
  },
  {
   "cell_type": "code",
   "execution_count": null,
   "metadata": {},
   "outputs": [],
   "source": []
  }
 ],
 "metadata": {
  "kernelspec": {
   "display_name": "Python 3",
   "language": "python",
   "name": "python3"
  },
  "language_info": {
   "codemirror_mode": {
    "name": "ipython",
    "version": 3
   },
   "file_extension": ".py",
   "mimetype": "text/x-python",
   "name": "python",
   "nbconvert_exporter": "python",
   "pygments_lexer": "ipython3",
   "version": "3.7.3"
  }
 },
 "nbformat": 4,
 "nbformat_minor": 4
}
