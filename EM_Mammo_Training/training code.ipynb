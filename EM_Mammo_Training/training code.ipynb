{
 "cells": [
  {
   "cell_type": "markdown",
   "metadata": {},
   "source": [
    "# Dependencies"
   ]
  },
  {
   "cell_type": "code",
   "execution_count": 1,
   "metadata": {},
   "outputs": [],
   "source": [
    "from datetime import datetime\n",
    "import random\n",
    "import numpy as np\n",
    "import pandas as pd\n",
    "import efficientnet.tfkeras as efn\n",
    "import matplotlib.pyplot as plt\n",
    "from sklearn.metrics import confusion_matrix, roc_auc_score, roc_curve, precision_recall_curve, matthews_corrcoef, auc, accuracy_score, classification_report, recall_score, precision_score, f1_score\n",
    "import seaborn as sns\n",
    "from sklearn.model_selection import train_test_split\n",
    "import tensorflow as tf\n",
    "from tqdm import tqdm\n",
    "from tensorflow.keras.optimizers import Adam\n",
    "from tensorflow.keras import layers\n",
    "from tensorflow.keras.layers import concatenate, add, GlobalAveragePooling2D, BatchNormalization, Input, Dense\n",
    "from tensorflow.keras.models import Model\n",
    "from tensorflow.keras import initializers\n",
    "from tensorflow.keras.callbacks import EarlyStopping, LearningRateScheduler, ReduceLROnPlateau, ModelCheckpoint\n",
    "from tensorflow.keras.preprocessing.image import ImageDataGenerator\n",
    "from tensorflow.keras.models import load_model\n",
    "from PIL import Image, ImageFile\n",
    "ImageFile.LOAD_TRUNCATED_IMAGES = True"
   ]
  },
  {
   "cell_type": "markdown",
   "metadata": {},
   "source": [
    "# Data Cleaning"
   ]
  },
  {
   "cell_type": "code",
   "execution_count": 4,
   "metadata": {},
   "outputs": [
    {
     "data": {
      "text/plain": [
       "(91820, 8)"
      ]
     },
     "execution_count": 4,
     "metadata": {},
     "output_type": "execute_result"
    }
   ],
   "source": [
    "data.shape"
   ]
  },
  {
   "cell_type": "code",
   "execution_count": 5,
   "metadata": {},
   "outputs": [],
   "source": [
    "data = data[(data[\"ETHNICITY_DESC\"] == \"African American  or Black\") | (data[\"ETHNICITY_DESC\"] == \"Caucasian or White\")]\n",
    "tissden_5 = data[data[\"tissden\"] == 5.0].index\n",
    "data = data.drop(tissden_5, axis=0)"
   ]
  },
  {
   "cell_type": "code",
   "execution_count": 6,
   "metadata": {},
   "outputs": [
    {
     "data": {
      "text/plain": [
       "(86312, 8)"
      ]
     },
     "execution_count": 6,
     "metadata": {},
     "output_type": "execute_result"
    }
   ],
   "source": [
    "data.shape"
   ]
  },
  {
   "cell_type": "code",
   "execution_count": 7,
   "metadata": {},
   "outputs": [],
   "source": [
    "patients = data.drop_duplicates(subset=\"empi_anon\")"
   ]
  },
  {
   "cell_type": "code",
   "execution_count": 8,
   "metadata": {},
   "outputs": [
    {
     "data": {
      "text/plain": [
       "African American  or Black    13848\n",
       "Caucasian or White            13183\n",
       "Name: ETHNICITY_DESC, dtype: int64"
      ]
     },
     "execution_count": 8,
     "metadata": {},
     "output_type": "execute_result"
    }
   ],
   "source": [
    "patients[\"ETHNICITY_DESC\"].value_counts()"
   ]
  },
  {
   "cell_type": "code",
   "execution_count": 9,
   "metadata": {},
   "outputs": [
    {
     "data": {
      "text/plain": [
       "African American  or Black    43507\n",
       "Caucasian or White            42805\n",
       "Name: ETHNICITY_DESC, dtype: int64"
      ]
     },
     "execution_count": 9,
     "metadata": {},
     "output_type": "execute_result"
    }
   ],
   "source": [
    "data[\"ETHNICITY_DESC\"].value_counts()"
   ]
  },
  {
   "cell_type": "code",
   "execution_count": 10,
   "metadata": {},
   "outputs": [
    {
     "data": {
      "text/plain": [
       "Female    86084\n",
       "Male        228\n",
       "Name: GENDER_DESC, dtype: int64"
      ]
     },
     "execution_count": 10,
     "metadata": {},
     "output_type": "execute_result"
    }
   ],
   "source": [
    "data[\"GENDER_DESC\"].value_counts()"
   ]
  },
  {
   "cell_type": "code",
   "execution_count": null,
   "metadata": {},
   "outputs": [],
   "source": [
    "#Insert path to data csv here where image path is under the column png_path and the race label is under the column ETHNICITY_DESC\n",
    "data_path = \"\"\n",
    "data = pd.read_csv(data_path)"
   ]
  },
  {
   "cell_type": "markdown",
   "metadata": {},
   "source": [
    "# Exploratory Data Analysis"
   ]
  },
  {
   "cell_type": "code",
   "execution_count": 11,
   "metadata": {},
   "outputs": [
    {
     "data": {
      "text/plain": [
       "(array([43507.,     0.,     0.,     0.,     0.,     0.,     0.,     0.,\n",
       "            0., 42805.]),\n",
       " array([0. , 0.1, 0.2, 0.3, 0.4, 0.5, 0.6, 0.7, 0.8, 0.9, 1. ]),\n",
       " <BarContainer object of 10 artists>)"
      ]
     },
     "execution_count": 11,
     "metadata": {},
     "output_type": "execute_result"
    },
    {
     "data": {
      "image/png": "[encoded data removed]",
      "text/plain": [
       "<Figure size 432x288 with 1 Axes>"
      ]
     },
     "metadata": {
      "needs_background": "light"
     },
     "output_type": "display_data"
    }
   ],
   "source": [
    "plt.hist(data[\"ETHNICITY_DESC\"])"
   ]
  },
  {
   "cell_type": "code",
   "execution_count": 12,
   "metadata": {},
   "outputs": [
    {
     "data": {
      "text/html": [
       "<div>\n",
       "<style scoped>\n",
       "    .dataframe tbody tr th:only-of-type {\n",
       "        vertical-align: middle;\n",
       "    }\n",
       "\n",
       "    .dataframe tbody tr th {\n",
       "        vertical-align: top;\n",
       "    }\n",
       "\n",
       "    .dataframe thead th {\n",
       "        text-align: right;\n",
       "    }\n",
       "</style>\n",
       "<table border=\"1\" class=\"dataframe\">\n",
       "  <thead>\n",
       "    <tr style=\"text-align: right;\">\n",
       "      <th></th>\n",
       "      <th>acc_anon</th>\n",
       "      <th>ETHNICITY_DESC</th>\n",
       "      <th>tissden</th>\n",
       "      <th>GENDER_DESC</th>\n",
       "      <th>age_at_study</th>\n",
       "      <th>png_path</th>\n",
       "      <th>empi_anon</th>\n",
       "      <th>StudyID</th>\n",
       "    </tr>\n",
       "  </thead>\n",
       "  <tbody>\n",
       "    <tr>\n",
       "      <th>0</th>\n",
       "      <td>5398957042576578</td>\n",
       "      <td>African American  or Black</td>\n",
       "      <td>1.0</td>\n",
       "      <td>Female</td>\n",
       "      <td>66.306632</td>\n",
       "      <td>/home/jupyter-zaiman/data/mammo/png_kheiron/co...</td>\n",
       "      <td>77670546</td>\n",
       "      <td>MG Screening Dig</td>\n",
       "    </tr>\n",
       "    <tr>\n",
       "      <th>6</th>\n",
       "      <td>2758514113950519</td>\n",
       "      <td>Caucasian or White</td>\n",
       "      <td>2.0</td>\n",
       "      <td>Female</td>\n",
       "      <td>79.719638</td>\n",
       "      <td>/home/jupyter-zaiman/data/mammo/png_kheiron/co...</td>\n",
       "      <td>90697978</td>\n",
       "      <td>MG Screening Dig</td>\n",
       "    </tr>\n",
       "    <tr>\n",
       "      <th>11</th>\n",
       "      <td>6928226311930500</td>\n",
       "      <td>Caucasian or White</td>\n",
       "      <td>2.0</td>\n",
       "      <td>Female</td>\n",
       "      <td>68.299828</td>\n",
       "      <td>/home/jupyter-zaiman/data/mammo/png_kheiron/co...</td>\n",
       "      <td>32811576</td>\n",
       "      <td>MG Screening Dig</td>\n",
       "    </tr>\n",
       "    <tr>\n",
       "      <th>16</th>\n",
       "      <td>1546724535446938</td>\n",
       "      <td>African American  or Black</td>\n",
       "      <td>3.0</td>\n",
       "      <td>Female</td>\n",
       "      <td>69.301902</td>\n",
       "      <td>/home/jupyter-zaiman/data/mammo/png_kheiron/co...</td>\n",
       "      <td>74534019</td>\n",
       "      <td>MG Screening Dig</td>\n",
       "    </tr>\n",
       "    <tr>\n",
       "      <th>24</th>\n",
       "      <td>9192518631958436</td>\n",
       "      <td>Caucasian or White</td>\n",
       "      <td>2.0</td>\n",
       "      <td>Female</td>\n",
       "      <td>76.393081</td>\n",
       "      <td>/home/jupyter-zaiman/data/mammo/png_kheiron/co...</td>\n",
       "      <td>49367954</td>\n",
       "      <td>MG Screening Dig</td>\n",
       "    </tr>\n",
       "  </tbody>\n",
       "</table>\n",
       "</div>"
      ],
      "text/plain": [
       "            acc_anon              ETHNICITY_DESC  tissden GENDER_DESC  \\\n",
       "0   5398957042576578  African American  or Black      1.0      Female   \n",
       "6   2758514113950519          Caucasian or White      2.0      Female   \n",
       "11  6928226311930500          Caucasian or White      2.0      Female   \n",
       "16  1546724535446938  African American  or Black      3.0      Female   \n",
       "24  9192518631958436          Caucasian or White      2.0      Female   \n",
       "\n",
       "    age_at_study                                           png_path  \\\n",
       "0      66.306632  /home/jupyter-zaiman/data/mammo/png_kheiron/co...   \n",
       "6      79.719638  /home/jupyter-zaiman/data/mammo/png_kheiron/co...   \n",
       "11     68.299828  /home/jupyter-zaiman/data/mammo/png_kheiron/co...   \n",
       "16     69.301902  /home/jupyter-zaiman/data/mammo/png_kheiron/co...   \n",
       "24     76.393081  /home/jupyter-zaiman/data/mammo/png_kheiron/co...   \n",
       "\n",
       "    empi_anon           StudyID  \n",
       "0    77670546  MG Screening Dig  \n",
       "6    90697978  MG Screening Dig  \n",
       "11   32811576  MG Screening Dig  \n",
       "16   74534019  MG Screening Dig  \n",
       "24   49367954  MG Screening Dig  "
      ]
     },
     "execution_count": 12,
     "metadata": {},
     "output_type": "execute_result"
    }
   ],
   "source": [
    "data.head()"
   ]
  },
  {
   "cell_type": "markdown",
   "metadata": {},
   "source": [
    "# Batch Generation"
   ]
  },
  {
   "cell_type": "code",
   "execution_count": 13,
   "metadata": {},
   "outputs": [],
   "source": [
    "HEIGHT, WIDTH = 256, 256\n",
    "lr = 1e-3\n",
    "BATCH_SIZE = 32\n",
    "EPOCHS = 3\n",
    "TEST_BATCH = 32"
   ]
  },
  {
   "cell_type": "code",
   "execution_count": 14,
   "metadata": {},
   "outputs": [],
   "source": [
    "random.seed(42)\n",
    "unique_empi = set()\n",
    "for empi in data[\"empi_anon\"]:\n",
    "    unique_empi.add(empi)\n",
    "train_empi = random.sample(list(unique_empi), int(len(unique_empi)*0.6))\n",
    "valid_empi = []\n",
    "for empi in unique_empi:\n",
    "    if empi not in set(train_empi):\n",
    "        valid_empi.append(empi)\n",
    "test_empi = random.sample(valid_empi, int(len(valid_empi)*0.5))\n",
    "valid_actual_empi = []\n",
    "for empi in valid_empi:\n",
    "    if empi not in set(test_empi):\n",
    "        valid_actual_empi.append(empi)\n",
    "train = data[data[\"empi_anon\"].isin(train_empi)]\n",
    "valid = data[data[\"empi_anon\"].isin(valid_actual_empi)]\n",
    "test = data[data[\"empi_anon\"].isin(test_empi)]"
   ]
  },
  {
   "cell_type": "code",
   "execution_count": 15,
   "metadata": {},
   "outputs": [],
   "source": [
    "train.to_csv(\"mammo_train.csv\")\n",
    "valid.to_csv(\"mammo_valid.csv\")\n",
    "test.to_csv(\"mammo_test.csv\")"
   ]
  },
  {
   "cell_type": "code",
   "execution_count": 18,
   "metadata": {},
   "outputs": [],
   "source": [
    "train_gen = ImageDataGenerator(\n",
    "            rotation_range=15,\n",
    "            fill_mode='constant',\n",
    "            zoom_range=0.1,\n",
    "            horizontal_flip=True,\n",
    "            rescale = 1./255\n",
    ")\n",
    "\n",
    "validate_gen = ImageDataGenerator(rescale = 1./255)"
   ]
  },
  {
   "cell_type": "code",
   "execution_count": 19,
   "metadata": {},
   "outputs": [
    {
     "name": "stdout",
     "output_type": "stream",
     "text": [
      "Found 51749 validated image filenames belonging to 2 classes.\n",
      "Found 17362 validated image filenames belonging to 2 classes.\n",
      "Found 17201 validated image filenames belonging to 2 classes.\n"
     ]
    }
   ],
   "source": [
    "train_batches = train_gen.flow_from_dataframe(train, \n",
    "                                              directory=None, \n",
    "                                              x_col=\"png_path\", y_col=\"ETHNICITY_DESC\", \n",
    "                                              class_mode=\"categorical\",\n",
    "                                              target_size=(HEIGHT, WIDTH),\n",
    "                                              shuffle=True,\n",
    "                                              seed=1,\n",
    "                                              batch_size=BATCH_SIZE, \n",
    "                                              dtype='float32')\n",
    "\n",
    "validate_batches = validate_gen.flow_from_dataframe(valid, \n",
    "                                                    directory=None, \n",
    "                                                    x_col=\"png_path\", \n",
    "                                                    y_col=\"ETHNICITY_DESC\", \n",
    "                                                    class_mode=\"categorical\",\n",
    "                                                    target_size=(HEIGHT, WIDTH),\n",
    "                                                    shuffle=False,\n",
    "                                                    batch_size=TEST_BATCH, \n",
    "                                                    dtype='float32')\n",
    "test_batches = validate_gen.flow_from_dataframe(test, \n",
    "                                                    directory=None, \n",
    "                                                    x_col=\"png_path\", \n",
    "                                                    y_col=\"ETHNICITY_DESC\", \n",
    "                                                    class_mode=\"categorical\",\n",
    "                                                    target_size=(HEIGHT, WIDTH),\n",
    "                                                    shuffle=False,\n",
    "                                                    batch_size=TEST_BATCH, \n",
    "                                                    dtype='float32')"
   ]
  },
  {
   "cell_type": "markdown",
   "metadata": {},
   "source": [
    "# Training"
   ]
  },
  {
   "cell_type": "code",
   "execution_count": null,
   "metadata": {},
   "outputs": [],
   "source": [
    "train_epoch = math.ceil(len(train) / BATCH_SIZE)\n",
    "val_epoch = math.ceil(len(valid) / TEST_BATCH)"
   ]
  },
  {
   "cell_type": "code",
   "execution_count": null,
   "metadata": {},
   "outputs": [],
   "source": [
    "input_a = Input(shape=(HEIGHT, WIDTH, 3))\n",
    "base_model = efn.EfficientNetB2(input_tensor=input_a, include_top=False, input_shape=(HEIGHT,WIDTH,3), weights='noisy-student')\n",
    "x = GlobalAveragePooling2D()(base_model.output)\n",
    "x = layers.Dense(2, name='dense_logits')(x)\n",
    "output = layers.Activation('softmax', dtype='float32', name='predictions')(x)\n",
    "model = Model(inputs=input_a, outputs=output)"
   ]
  },
  {
   "cell_type": "code",
   "execution_count": null,
   "metadata": {},
   "outputs": [],
   "source": [
    "model.summary()"
   ]
  },
  {
   "cell_type": "code",
   "execution_count": null,
   "metadata": {},
   "outputs": [],
   "source": [
    "model.compile(optimizer=Adam(lr),\n",
    "                    loss=tf.losses.CategoricalCrossentropy(),\n",
    "                    metrics=[\n",
    "                        tf.keras.metrics.AUC(curve='ROC', name='ROC-AUC'),\n",
    "                        tf.keras.metrics.AUC(curve='PR', name='PR-AUC')])"
   ]
  },
  {
   "cell_type": "code",
   "execution_count": null,
   "metadata": {},
   "outputs": [],
   "source": [
    "arc_name = \"Emory_Mammo\" + str(HEIGHT) + \"x\" + str(WIDTH) + \"resnet50-race\""
   ]
  },
  {
   "cell_type": "code",
   "execution_count": null,
   "metadata": {},
   "outputs": [],
   "source": [
    "var_date = datetime.now().strftime(\"%Y%m%d-%H%M%S\")\n",
    "reduce_lr = ReduceLROnPlateau(monitor='val_loss', mode='min', factor=0.1,\n",
    "                              patience=2, min_lr=1e-6, verbose=1)\n",
    "ES = EarlyStopping(monitor='val_loss', mode='min', patience=4, restore_best_weights=True)\n",
    "checkloss = ModelCheckpoint(\"mammo_efficientnetB2_binary.hdf5\", monitor='val_loss', mode='min', verbose=1, save_best_only=True, save_weights_only=False)"
   ]
  },
  {
   "cell_type": "code",
   "execution_count": null,
   "metadata": {
    "scrolled": true
   },
   "outputs": [],
   "source": [
    "\n",
    "with tf.device(\"/device:GPU:2\"):\n",
    "    history = model.fit(train_batches,\n",
    "              validation_data=validate_batches,\n",
    "              epochs=100,\n",
    "              steps_per_epoch=int(train_epoch),\n",
    "              validation_steps=int(val_epoch),\n",
    "              shuffle=True,\n",
    "              callbacks=[reduce_lr, checkloss, ES]\n",
    "    )"
   ]
  }
 ],
 "metadata": {
  "kernelspec": {
   "display_name": "tf-gpu-cuda8",
   "language": "python",
   "name": "tf-gpu-cuda8"
  },
  "language_info": {
   "codemirror_mode": {
    "name": "ipython",
    "version": 3
   },
   "file_extension": ".py",
   "mimetype": "text/x-python",
   "name": "python",
   "nbconvert_exporter": "python",
   "pygments_lexer": "ipython3",
   "version": "3.7.10"
  }
 },
 "nbformat": 4,
 "nbformat_minor": 4
}
