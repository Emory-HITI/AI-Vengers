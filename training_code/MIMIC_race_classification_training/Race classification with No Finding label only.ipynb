{
 "cells": [
  {
   "cell_type": "code",
   "execution_count": 1,
   "id": "spiritual-empty",
   "metadata": {},
   "outputs": [
    {
     "name": "stdout",
     "output_type": "stream",
     "text": [
      "2.4.0\n"
     ]
    }
   ],
   "source": [
    "import pandas as pd\n",
    "import numpy as np\n",
    "import os\n",
    "import tensorflow as tf\n",
    "import cv2 as cv\n",
    "import warnings\n",
    "from tensorflow.keras import layers, models\n",
    "from tensorflow.keras import backend as K\n",
    "import itertools\n",
    "import skimage.transform as st\n",
    "from enum import Enum\n",
    "from sklearn.metrics import roc_curve, auc, classification_report, roc_auc_score\n",
    "import matplotlib.pyplot as plt\n",
    "import seaborn as sns\n",
    "\n",
    "print(tf.__version__)\n",
    "warnings.filterwarnings(\"ignore\")\n",
    "\n",
    "gpus = tf.config.list_physical_devices(device_type='GPU')\n",
    "tf.config.set_visible_devices(devices=gpus[0], device_type='GPU')"
   ]
  },
  {
   "cell_type": "code",
   "execution_count": 2,
   "id": "express-freeze",
   "metadata": {},
   "outputs": [],
   "source": [
    "seed = 2021\n",
    "os.environ['PYTHONHASHSEED']=str(seed)\n",
    "tf.random.set_seed(seed)\n",
    "np.random.seed(seed)"
   ]
  },
  {
   "cell_type": "markdown",
   "id": "excellent-likelihood",
   "metadata": {},
   "source": [
    "# Dnet"
   ]
  },
  {
   "cell_type": "code",
   "execution_count": 12,
   "id": "earned-eclipse",
   "metadata": {},
   "outputs": [],
   "source": [
    "def get_data(data_split='test', test_type='NULL', target='NULL'):\n",
    "    X_test = []\n",
    "    y_test = []\n",
    "    \n",
    "    if (data_split == 'train'):\n",
    "        filename = 'Data/mimic_train.tfrecords'\n",
    "    elif(data_split == 'val'):\n",
    "        filename = 'Data/mimic_val.tfrecords'\n",
    "    else:\n",
    "        filename = 'Data/mimic_test.tfrecords'\n",
    "        \n",
    "    raw_dataset = tf.data.TFRecordDataset(filename)\n",
    "    for raw_record in raw_dataset:\n",
    "        sub_y = []\n",
    "\n",
    "        example = tf.train.Example()\n",
    "        example.ParseFromString(raw_record.numpy())\n",
    "                \n",
    "        ethnicity = example.features.feature['race'].int64_list.value[0]\n",
    "        No_finding = example.features.feature['No Finding'].int64_list.value[0]\n",
    "                        \n",
    "        if (No_finding == 0):\n",
    "            continue\n",
    "            \n",
    "        if (ethnicity == 0):\n",
    "            label = tf.constant([1, 0, 0])\n",
    "        elif (ethnicity == 1):\n",
    "            label = tf.constant([0, 1, 0])\n",
    "        elif (ethnicity == 4):\n",
    "            label = tf.constant([0, 0, 1])\n",
    "        else:\n",
    "            continue\n",
    "\n",
    "#         nparr = np.fromstring(example.features.feature['jpg_bytes'].bytes_list.value[0], np.uint8)\n",
    "#         img_np = cv.imdecode(nparr, cv.IMREAD_GRAYSCALE)\n",
    "\n",
    "#         X_test.append(st.resize(img_np, (224, 224)))\n",
    "        \n",
    "        y_test.append(label)\n",
    "                        \n",
    "    return np.array(X_test), np.array(y_test)"
   ]
  },
  {
   "cell_type": "code",
   "execution_count": 21,
   "id": "charming-casino",
   "metadata": {},
   "outputs": [
    {
     "name": "stdout",
     "output_type": "stream",
     "text": [
      "25633\n",
      "8353\n",
      "1321\n"
     ]
    },
    {
     "data": {
      "text/plain": [
       "35307"
      ]
     },
     "execution_count": 21,
     "metadata": {},
     "output_type": "execute_result"
    }
   ],
   "source": [
    "X, y = get_data(data_split='train')\n",
    "count = 0\n",
    "for i in range(3):\n",
    "    count += y[:, i].sum()\n",
    "    print(y[:, i].sum())\n",
    "count"
   ]
  },
  {
   "cell_type": "code",
   "execution_count": 6,
   "id": "therapeutic-newark",
   "metadata": {},
   "outputs": [],
   "source": [
    "INPUT_SHAPE = (224, 224, 1)\n",
    "BATCH_SIZE = 128\n",
    "\n",
    "init = tf.keras.initializers.RandomNormal(mean=0.0, stddev=0.02)\n",
    "\n",
    "def define_model():\n",
    "    \n",
    "    input = tf.keras.layers.Input(shape=INPUT_SHAPE)\n",
    "    \n",
    "    x = tf.keras.layers.Conv2DTranspose(3, (3, 3), strides=1, padding='same', kernel_initializer=init, use_bias=False)(input)\n",
    "    \n",
    "    base_model = tf.keras.applications.densenet.DenseNet121(\n",
    "            include_top=False, weights='imagenet', input_shape=(224, 224, 3), pooling='max')(x)\n",
    "         \n",
    "    pred_layer = tf.keras.layers.Dense(3, activation='sigmoid')(base_model)\n",
    " \n",
    "    model = tf.keras.Model(inputs=input, outputs=pred_layer)    \n",
    "  \n",
    "    return model"
   ]
  },
  {
   "cell_type": "code",
   "execution_count": 13,
   "id": "racial-calculator",
   "metadata": {},
   "outputs": [],
   "source": [
    "X_train, y_train = get_data(data_split='train')\n",
    "X_val, y_val = get_data(data_split='val')"
   ]
  },
  {
   "cell_type": "code",
   "execution_count": 32,
   "id": "consecutive-distribution",
   "metadata": {},
   "outputs": [
    {
     "name": "stdout",
     "output_type": "stream",
     "text": [
      "Model: \"model_4\"\n",
      "_________________________________________________________________\n",
      "Layer (type)                 Output Shape              Param #   \n",
      "=================================================================\n",
      "input_9 (InputLayer)         [(None, 224, 224, 1)]     0         \n",
      "_________________________________________________________________\n",
      "conv2d_transpose_4 (Conv2DTr (None, 224, 224, 3)       27        \n",
      "_________________________________________________________________\n",
      "densenet121 (Functional)     (None, 1024)              7037504   \n",
      "_________________________________________________________________\n",
      "dense_4 (Dense)              (None, 3)                 3075      \n",
      "=================================================================\n",
      "Total params: 7,040,606\n",
      "Trainable params: 6,956,958\n",
      "Non-trainable params: 83,648\n",
      "_________________________________________________________________\n",
      "None\n"
     ]
    }
   ],
   "source": [
    "model = define_model()\n",
    "\n",
    "def scheduler(epoch, lr):\n",
    "    if epoch % 2 == 0:\n",
    "        return lr * tf.math.exp(-0.05)\n",
    "    else:\n",
    "        return lr\n",
    "\n",
    "callback = [tf.keras.callbacks.LearningRateScheduler(scheduler)]\n",
    "\n",
    "print(model.summary())"
   ]
  },
  {
   "cell_type": "code",
   "execution_count": 33,
   "id": "printable-triumph",
   "metadata": {
    "scrolled": true
   },
   "outputs": [
    {
     "name": "stdout",
     "output_type": "stream",
     "text": [
      "Epoch 1/5\n",
      "276/276 [==============================] - 112s 377ms/step - loss: 0.8925 - auc: 0.8772 - val_loss: 0.8148 - val_auc: 0.8286\n",
      "Epoch 2/5\n",
      "276/276 [==============================] - 103s 373ms/step - loss: 0.2818 - auc: 0.9635 - val_loss: 0.5186 - val_auc: 0.9145\n",
      "Epoch 3/5\n",
      "276/276 [==============================] - 103s 373ms/step - loss: 0.1912 - auc: 0.9773 - val_loss: 0.3757 - val_auc: 0.9329\n",
      "Epoch 4/5\n",
      "276/276 [==============================] - 104s 378ms/step - loss: 0.1394 - auc: 0.9827 - val_loss: 0.3753 - val_auc: 0.9520\n",
      "Epoch 5/5\n",
      "276/276 [==============================] - 103s 374ms/step - loss: 0.1225 - auc: 0.9855 - val_loss: 1.6092 - val_auc: 0.7258\n"
     ]
    },
    {
     "data": {
      "text/plain": [
       "<tensorflow.python.keras.callbacks.History at 0x7f50c1c40d90>"
      ]
     },
     "execution_count": 33,
     "metadata": {},
     "output_type": "execute_result"
    }
   ],
   "source": [
    "model.compile(loss=tf.keras.losses.CategoricalCrossentropy(from_logits=True),\n",
    "                 optimizer=tf.keras.optimizers.Adam(learning_rate=1e-3), metrics='AUC')\n",
    "\n",
    "model.fit(X_train, y_train, epochs=5, shuffle=True, callbacks=callback, validation_data=(X_val, y_val), batch_size=BATCH_SIZE)"
   ]
  },
  {
   "cell_type": "code",
   "execution_count": 15,
   "id": "limited-metallic",
   "metadata": {},
   "outputs": [],
   "source": [
    "def plot_confusion_matrix(cm,\n",
    "                          target_names,\n",
    "                          title='Confusion matrix',\n",
    "                          cmap=None,\n",
    "                          normalize=True):\n",
    "    \"\"\"\n",
    "    given a sklearn confusion matrix (cm), make a nice plot\n",
    " \n",
    "    Arguments\n",
    "    ---------\n",
    "    cm:           confusion matrix from sklearn.metrics.confusion_matrix\n",
    " \n",
    "    target_names: given classification classes such as [0, 1, 2]\n",
    "                  the class names, for example: ['high', 'medium', 'low']\n",
    " \n",
    "    title:        the text to display at the top of the matrix\n",
    " \n",
    "    cmap:         the gradient of the values displayed from matplotlib.pyplot.cm\n",
    "                  see http://matplotlib.org/examples/color/colormaps_reference.html\n",
    "                  plt.get_cmap('jet') or plt.cm.Blues\n",
    " \n",
    "    normalize:    If False, plot the raw numbers\n",
    "                  If True, plot the proportions\n",
    " \n",
    "    Usage\n",
    "    -----\n",
    "    plot_confusion_matrix(cm           = cm,                  # confusion matrix created by\n",
    "                                                              # sklearn.metrics.confusion_matrix\n",
    "                          normalize    = True,                # show proportions\n",
    "                          target_names = y_labels_vals,       # list of names of the classes\n",
    "                          title        = best_estimator_name) # title of graph\n",
    " \n",
    "    Citiation\n",
    "    ---------\n",
    "    http://scikit-learn.org/stable/auto_examples/model_selection/plot_confusion_matrix.html\n",
    " \n",
    "    \"\"\"\n",
    " \n",
    "    accuracy = np.trace(cm) / float(np.sum(cm))\n",
    "    misclass = 1 - accuracy\n",
    " \n",
    "    if cmap is None:\n",
    "        cmap = plt.get_cmap('Blues')\n",
    " \n",
    "    plt.figure(figsize=(8, 6))\n",
    "    plt.imshow(cm, interpolation='nearest', cmap=cmap)\n",
    "    plt.title(title)\n",
    "    plt.colorbar()\n",
    " \n",
    "    if target_names is not None:\n",
    "        tick_marks = np.arange(len(target_names))\n",
    "        plt.xticks(tick_marks, target_names, rotation=45)\n",
    "        plt.yticks(tick_marks, target_names)\n",
    " \n",
    "    if normalize:\n",
    "        cm = cm.astype('float') / cm.sum(axis=1)[:, np.newaxis]\n",
    " \n",
    " \n",
    "    thresh = cm.max() / 1.5 if normalize else cm.max() / 2\n",
    "    for i, j in itertools.product(range(cm.shape[0]), range(cm.shape[1])):\n",
    "        if normalize:\n",
    "            plt.text(j, i, \"{:0.4f}\".format(cm[i, j]),\n",
    "                     horizontalalignment=\"center\",\n",
    "                     color=\"white\" if cm[i, j] > thresh else \"black\")\n",
    "        else:\n",
    "            plt.text(j, i, \"{:,}\".format(cm[i, j]),\n",
    "                     horizontalalignment=\"center\",\n",
    "                     color=\"white\" if cm[i, j] > thresh else \"black\")\n",
    " \n",
    "    \n",
    "    plt.tight_layout()\n",
    "    plt.ylabel('True label')\n",
    "    plt.xlabel('Predicted label\\naccuracy={:0.4f}; misclass={:0.4f}'.format(accuracy, misclass))\n",
    "    \n",
    "    plt.show()\n",
    "    \n",
    "def plot_roc(y_test, preds, title, label):\n",
    "    fig = plt.figure(figsize=(8,6))\n",
    "\n",
    "    num = len(label)\n",
    "    for i in range(num):\n",
    "        fpr, tpr, _ = roc_curve(y_test[:, i], preds[:, i])\n",
    "        roc_auc = auc(fpr, tpr)\n",
    "        # plot the roc curve for the model\n",
    "        plt.plot(fpr, tpr, linestyle='solid', label='{} AUC={:.3f}'.format(label[i], roc_auc))\n",
    "\n",
    "    plt.xlabel('False Positive Rate')\n",
    "    plt.ylabel('True Positive Rate')\n",
    "    plt.title(title)\n",
    "    plt.legend(loc=\"lower right\")\n",
    "    plt.plot([0,1], [0,1], color='orange', linestyle='--')\n",
    "    \n",
    "    plt.savefig('Dnet_race_wba_auc.svg')\n",
    "    \n",
    "    plt.show()"
   ]
  },
  {
   "cell_type": "code",
   "execution_count": 24,
   "id": "hourly-threat",
   "metadata": {},
   "outputs": [],
   "source": [
    "def test(y_preds, y_test):\n",
    "    \n",
    "    n_bootstraps = 1000\n",
    "    rng_seed = 2021  # control reproducibility\n",
    "    bootstrapped_scores = []\n",
    "\n",
    "    rng = np.random.RandomState(rng_seed)\n",
    "    for i in range(n_bootstraps):\n",
    "        # bootstrap by sampling with replacement on the prediction indices\n",
    "        indices = rng.randint(0, len(y_preds), len(y_preds))\n",
    "        if len(np.unique(y_test[indices])) < 2:\n",
    "            # We need at least one positive and one negative sample for ROC AUC\n",
    "            # to be defined: reject the sample\n",
    "            continue\n",
    "\n",
    "        score = roc_auc_score(y_test[indices], y_preds[indices])\n",
    "        bootstrapped_scores.append(score)\n",
    "        \n",
    "    plt.hist(bootstrapped_scores, bins=100)\n",
    "    plt.title('Histogram of the bootstrapped ROC AUC scores')\n",
    "    plt.show()\n",
    "    \n",
    "    auc_score = np.array(bootstrapped_scores)\n",
    "    \n",
    "    mean_score = auc_score.mean()\n",
    "    std_dev = auc_score.std()\n",
    "    std_error = std_dev / np.math.sqrt(1)\n",
    "    ci =  2.262 * std_error\n",
    "    lower_bound = mean_score - ci\n",
    "    upper_bound = mean_score + ci\n",
    "\n",
    "    print(\"Sample auc mean: {:0.2f}\". format(mean_score))\n",
    "    print(\"Samole auc std: {:0.2f}\".format(std_dev))\n",
    "    print(\"Sample auc CI: {:0.2f}\". format(ci))\n",
    "    print(\"Confidence interval for the score: [{:0.2f} - {:0.2f}]\".format(\n",
    "        lower_bound, upper_bound))"
   ]
  },
  {
   "cell_type": "code",
   "execution_count": 25,
   "id": "documented-caribbean",
   "metadata": {},
   "outputs": [],
   "source": [
    "Labels_race = ['WHITE', 'AFRICAN AMERICAN', 'ASIA']\n",
    "\n",
    "def plot(y_preds, y_test):\n",
    "\n",
    "    plot_roc(y_test, y_preds, 'ROC', Labels_race)\n",
    "\n",
    "    cm_race = [0 for i in range(len(Labels_race))]\n",
    "    for i in range(len(Labels_race)):\n",
    "        cm_race[i] = [0 for j in range(len(Labels_race))]\n",
    "\n",
    "    preds = tf.one_hot(tf.argmax(y_preds, axis=1), len(Labels_race))\n",
    "    for i in range(len(y_test)):\n",
    "        cm_race[np.argmax(preds[i])][np.argmax(y_test[i])] += 1\n",
    "\n",
    "    plot_confusion_matrix(np.array(cm_race).transpose(), \n",
    "                          normalize = False,\n",
    "                          target_names = Labels_race,\n",
    "                          title = 'CM')"
   ]
  },
  {
   "cell_type": "code",
   "execution_count": 34,
   "id": "finnish-cradle",
   "metadata": {},
   "outputs": [
    {
     "data": {
      "image/png": "[encoded data removed]",
      "text/plain": [
       "<Figure size 432x288 with 1 Axes>"
      ]
     },
     "metadata": {
      "needs_background": "light"
     },
     "output_type": "display_data"
    },
    {
     "name": "stdout",
     "output_type": "stream",
     "text": [
      "Sample auc mean: 0.90\n",
      "Samole auc std: 0.00\n",
      "Sample auc CI: 0.01\n",
      "Confidence interval for the score: [0.90 - 0.91]\n"
     ]
    },
    {
     "data": {
      "image/png": "[encoded data removed]",
      "text/plain": [
       "<Figure size 576x432 with 1 Axes>"
      ]
     },
     "metadata": {
      "needs_background": "light"
     },
     "output_type": "display_data"
    },
    {
     "data": {
      "image/png": "[encoded data removed]",
      "text/plain": [
       "<Figure size 576x432 with 2 Axes>"
      ]
     },
     "metadata": {
      "needs_background": "light"
     },
     "output_type": "display_data"
    }
   ],
   "source": [
    "# model = tf.keras.models.load_model('saved_model/Dnet_race_No_finding')\n",
    "\n",
    "# X_test, y_test = get_data()\n",
    "\n",
    "y_preds = model.predict(X_test)\n",
    "test(y_preds, y_test)\n",
    "plot(y_preds, y_test)"
   ]
  },
  {
   "cell_type": "code",
   "execution_count": 35,
   "id": "ideal-glory",
   "metadata": {},
   "outputs": [
    {
     "name": "stdout",
     "output_type": "stream",
     "text": [
      "INFO:tensorflow:Assets written to: saved_model/Dnet121_No_finding/assets\n"
     ]
    }
   ],
   "source": [
    "model.save('saved_model/Dnet121_No_finding')"
   ]
  }
 ],
 "metadata": {
  "kernelspec": {
   "display_name": "Python 3",
   "language": "python",
   "name": "python3"
  },
  "language_info": {
   "codemirror_mode": {
    "name": "ipython",
    "version": 3
   },
   "file_extension": ".py",
   "mimetype": "text/x-python",
   "name": "python",
   "nbconvert_exporter": "python",
   "pygments_lexer": "ipython3",
   "version": "3.7.10"
  }
 },
 "nbformat": 4,
 "nbformat_minor": 5
}
