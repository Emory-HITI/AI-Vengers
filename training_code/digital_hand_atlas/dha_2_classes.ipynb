{
 "cells": [
  {
   "cell_type": "markdown",
   "metadata": {},
   "source": [
    "## Processing"
   ]
  },
  {
   "cell_type": "code",
   "execution_count": 1,
   "metadata": {},
   "outputs": [
    {
     "data": {
      "text/html": [
       "<div>\n",
       "<style scoped>\n",
       "    .dataframe tbody tr th:only-of-type {\n",
       "        vertical-align: middle;\n",
       "    }\n",
       "\n",
       "    .dataframe tbody tr th {\n",
       "        vertical-align: top;\n",
       "    }\n",
       "\n",
       "    .dataframe thead th {\n",
       "        text-align: right;\n",
       "    }\n",
       "</style>\n",
       "<table border=\"1\" class=\"dataframe\">\n",
       "  <thead>\n",
       "    <tr style=\"text-align: right;\">\n",
       "      <th></th>\n",
       "      <th>filename</th>\n",
       "      <th>race</th>\n",
       "      <th>gender</th>\n",
       "    </tr>\n",
       "  </thead>\n",
       "  <tbody>\n",
       "    <tr>\n",
       "      <th>0</th>\n",
       "      <td>5599.jpg</td>\n",
       "      <td>0</td>\n",
       "      <td>F</td>\n",
       "    </tr>\n",
       "    <tr>\n",
       "      <th>1</th>\n",
       "      <td>5004.jpg</td>\n",
       "      <td>0</td>\n",
       "      <td>F</td>\n",
       "    </tr>\n",
       "    <tr>\n",
       "      <th>2</th>\n",
       "      <td>5024.jpg</td>\n",
       "      <td>0</td>\n",
       "      <td>F</td>\n",
       "    </tr>\n",
       "    <tr>\n",
       "      <th>3</th>\n",
       "      <td>6114.jpg</td>\n",
       "      <td>0</td>\n",
       "      <td>F</td>\n",
       "    </tr>\n",
       "    <tr>\n",
       "      <th>4</th>\n",
       "      <td>6127.jpg</td>\n",
       "      <td>0</td>\n",
       "      <td>F</td>\n",
       "    </tr>\n",
       "  </tbody>\n",
       "</table>\n",
       "</div>"
      ],
      "text/plain": [
       "   filename race gender\n",
       "0  5599.jpg    0      F\n",
       "1  5004.jpg    0      F\n",
       "2  5024.jpg    0      F\n",
       "3  6114.jpg    0      F\n",
       "4  6127.jpg    0      F"
      ]
     },
     "execution_count": 1,
     "metadata": {},
     "output_type": "execute_result"
    }
   ],
   "source": [
    "import glob\n",
    "import tensorflow as tf\n",
    "import pandas as pd\n",
    "import numpy as np\n",
    "from sklearn.model_selection import train_test_split\n",
    "\n",
    "img_height = 320\n",
    "img_width = 320\n",
    "batch_size = 8\n",
    "\n",
    "train_data_dir = \"./DHA/IMAGES\"\n",
    "\n",
    "data = []\n",
    "labels = []\n",
    "\n",
    "metadata_df = pd.read_csv('metadata.csv')\n",
    "metadata_df['race'] = pd.Categorical(pd.factorize(metadata_df.race)[0])\n",
    "metadata_df.head()"
   ]
  },
  {
   "cell_type": "code",
   "execution_count": 2,
   "metadata": {},
   "outputs": [],
   "source": [
    "metadata_df['race'] = metadata_df['race'].replace(0, 'Asian')\n",
    "metadata_df['race'] = metadata_df['race'].replace(1, 'Black')\n",
    "metadata_df['race'] = metadata_df['race'].replace(2, 'Caucasian')\n",
    "metadata_df['race'] = metadata_df['race'].replace(3, 'Hispanic')"
   ]
  },
  {
   "cell_type": "code",
   "execution_count": 3,
   "metadata": {},
   "outputs": [],
   "source": [
    "metadata_df = metadata_df[(metadata_df['race'] == 'Black') |\n",
    "                          ((metadata_df['race'] == 'Caucasian'))]"
   ]
  },
  {
   "cell_type": "code",
   "execution_count": 4,
   "metadata": {},
   "outputs": [
    {
     "data": {
      "text/plain": [
       "Black        358\n",
       "Caucasian    333\n",
       "Name: race, dtype: int64"
      ]
     },
     "execution_count": 4,
     "metadata": {},
     "output_type": "execute_result"
    }
   ],
   "source": [
    "num_classes = len(metadata_df['race'].value_counts().index)\n",
    "metadata_df['race'].value_counts()"
   ]
  },
  {
   "cell_type": "code",
   "execution_count": 5,
   "metadata": {},
   "outputs": [
    {
     "data": {
      "text/plain": [
       "array(['Black', 'Caucasian'], dtype=object)"
      ]
     },
     "execution_count": 5,
     "metadata": {},
     "output_type": "execute_result"
    }
   ],
   "source": [
    "from sklearn.preprocessing import LabelEncoder\n",
    "\n",
    "le = LabelEncoder()\n",
    "metadata_df['race'] = le.fit_transform(metadata_df['race'])\n",
    "le.classes_"
   ]
  },
  {
   "cell_type": "code",
   "execution_count": 6,
   "metadata": {
    "scrolled": false
   },
   "outputs": [
    {
     "data": {
      "text/plain": [
       "M    351\n",
       "F    340\n",
       "Name: gender, dtype: int64"
      ]
     },
     "execution_count": 6,
     "metadata": {},
     "output_type": "execute_result"
    }
   ],
   "source": [
    "metadata_df['gender'].value_counts()"
   ]
  },
  {
   "cell_type": "code",
   "execution_count": 7,
   "metadata": {},
   "outputs": [],
   "source": [
    "for i in metadata_df['filename']:\n",
    "    key  = i\n",
    "    label = metadata_df.loc[metadata_df['filename'] == key].iloc[0]['race']\n",
    "    labels.append(label)\n",
    "    filepath = './DHA/IMAGES/'+i\n",
    "    image=tf.keras.preprocessing.image.load_img(filepath, color_mode='rgb', target_size= (img_height,img_width))\n",
    "    image=np.array(image)\n",
    "    data.append(image)\n",
    "    \n",
    "X_train, X_test, y_train, y_test = train_test_split(data, labels, test_size=0.20, random_state=42) \n",
    "X_train, X_val, y_train, y_val = train_test_split(X_train, y_train, test_size=0.125, random_state=42)"
   ]
  },
  {
   "cell_type": "code",
   "execution_count": 8,
   "metadata": {},
   "outputs": [],
   "source": [
    "import pickle\n",
    "\n",
    "test_data = (X_test, y_test)\n",
    "pickle.dump(test_data, open('test_data_dha_2_classes.pkl', 'wb'))"
   ]
  },
  {
   "cell_type": "code",
   "execution_count": 9,
   "metadata": {},
   "outputs": [],
   "source": [
    "X_train = np.asarray(X_train)\n",
    "X_test = np.asarray(X_test)\n",
    "y_train = np.asarray(y_train)\n",
    "y_test = np.asarray(y_test)\n",
    "X_val = np.asarray(X_val)\n",
    "y_val = np.asarray(y_val)"
   ]
  },
  {
   "cell_type": "code",
   "execution_count": 10,
   "metadata": {},
   "outputs": [
    {
     "data": {
      "text/plain": [
       "<Figure size 640x480 with 1 Axes>"
      ]
     },
     "metadata": {},
     "output_type": "display_data"
    },
    {
     "data": {
      "text/plain": [
       "1"
      ]
     },
     "metadata": {},
     "output_type": "display_data"
    }
   ],
   "source": [
    "from matplotlib import pyplot as plt\n",
    "plt.imshow(X_train[10], interpolation='nearest')\n",
    "plt.show()\n",
    "display(y_train[10])"
   ]
  },
  {
   "cell_type": "markdown",
   "metadata": {},
   "source": [
    "## Model creation"
   ]
  },
  {
   "cell_type": "code",
   "execution_count": 11,
   "metadata": {},
   "outputs": [],
   "source": [
    "from tensorflow.keras.preprocessing.image import ImageDataGenerator\n",
    "from tensorflow.keras.models import Sequential\n",
    "from tensorflow.keras.layers import Conv2D, MaxPool2D\n",
    "from tensorflow.keras.layers import Activation, Dropout, Flatten, Dense, concatenate, add, GlobalAveragePooling2D, BatchNormalization, Input\n",
    "from tensorflow.keras import backend as K\n",
    "from tensorflow.keras.optimizers import Adam\n",
    "from tensorflow.keras import layers\n",
    "from tensorflow.keras.models import Model\n",
    "from tensorflow.keras.callbacks import EarlyStopping, LearningRateScheduler, ReduceLROnPlateau, ModelCheckpoint\n",
    "from tensorflow.keras import optimizers\n",
    "from tensorflow.keras.applications.densenet import DenseNet121\n",
    "from classification_models.tfkeras import Classifiers\n",
    "from tensorflow.keras.models import load_model\n",
    "\n",
    "resnet34, preprocess_input = Classifiers.get('resnet50')\n",
    "\n",
    "if K.image_data_format() == 'channels_first':\n",
    "    input_shape = (3, img_width, img_height)\n",
    "else:\n",
    "    input_shape = (img_width, img_height, 3)\n",
    "    \n",
    "input_a = Input(shape=(img_height, img_width, 3))\n",
    "base_model = resnet34(input_tensor=input_a, include_top=False, input_shape=(img_height, img_width,3), weights='imagenet')\n",
    "\n",
    "x = GlobalAveragePooling2D()(base_model.output)\n",
    "x = layers.Dense(num_classes, name='dense_logits')(x)\n",
    "output = layers.Activation('softmax', dtype='float32', name='predictions')(x)\n",
    "model = Model(inputs=[input_a], outputs=[output])\n",
    "\n",
    "adam_opt = Adam(lr=0.000001)\n",
    "reduce_lr = ReduceLROnPlateau(monitor='val_loss', mode='min', factor=0.1, patience=2, min_lr=1e-6, verbose=1)\n",
    "model.compile(optimizer=adam_opt, loss=tf.losses.CategoricalCrossentropy(),\n",
    "                    metrics=[\n",
    "                        tf.keras.metrics.AUC(curve='ROC', name='ROC-AUC'),\n",
    "                        tf.keras.metrics.AUC(curve='PR', name='PR-AUC')\n",
    "                    ],\n",
    "    )"
   ]
  },
  {
   "cell_type": "code",
   "execution_count": 12,
   "metadata": {
    "scrolled": false
   },
   "outputs": [
    {
     "name": "stderr",
     "output_type": "stream",
     "text": [
      "Using TensorFlow backend.\n"
     ]
    }
   ],
   "source": [
    "from keras.utils import to_categorical\n",
    "y_train_cat = to_categorical(y_train)\n",
    "y_test_cat = to_categorical(y_test)\n",
    "y_val_cat = to_categorical(y_val)"
   ]
  },
  {
   "cell_type": "markdown",
   "metadata": {},
   "source": [
    "## Model Training"
   ]
  },
  {
   "cell_type": "code",
   "execution_count": 13,
   "metadata": {
    "scrolled": true
   },
   "outputs": [
    {
     "name": "stdout",
     "output_type": "stream",
     "text": [
      "Train on 483 samples, validate on 69 samples\n",
      "Epoch 1/100\n",
      "483/483 [==============================] - 13s 28ms/sample - loss: 0.8530 - ROC-AUC: 0.5170 - PR-AUC: 0.5202 - val_loss: 0.8033 - val_ROC-AUC: 0.5259 - val_PR-AUC: 0.5226\n",
      "Epoch 2/100\n",
      "483/483 [==============================] - 6s 12ms/sample - loss: 0.8205 - ROC-AUC: 0.5498 - PR-AUC: 0.5496 - val_loss: 0.7961 - val_ROC-AUC: 0.5203 - val_PR-AUC: 0.5207\n",
      "Epoch 3/100\n",
      "483/483 [==============================] - 6s 12ms/sample - loss: 0.7914 - ROC-AUC: 0.5807 - PR-AUC: 0.5846 - val_loss: 0.7901 - val_ROC-AUC: 0.5270 - val_PR-AUC: 0.5337\n",
      "Epoch 4/100\n",
      "483/483 [==============================] - 6s 12ms/sample - loss: 0.7741 - ROC-AUC: 0.5939 - PR-AUC: 0.6018 - val_loss: 0.7825 - val_ROC-AUC: 0.5362 - val_PR-AUC: 0.5576\n",
      "Epoch 5/100\n",
      "483/483 [==============================] - 6s 12ms/sample - loss: 0.7514 - ROC-AUC: 0.6131 - PR-AUC: 0.6278 - val_loss: 0.7767 - val_ROC-AUC: 0.5507 - val_PR-AUC: 0.5733\n",
      "Epoch 6/100\n",
      "483/483 [==============================] - 6s 12ms/sample - loss: 0.7285 - ROC-AUC: 0.6360 - PR-AUC: 0.6581 - val_loss: 0.7704 - val_ROC-AUC: 0.5623 - val_PR-AUC: 0.5874\n",
      "Epoch 7/100\n",
      "483/483 [==============================] - 6s 12ms/sample - loss: 0.7112 - ROC-AUC: 0.6457 - PR-AUC: 0.6645 - val_loss: 0.7588 - val_ROC-AUC: 0.5776 - val_PR-AUC: 0.5995\n",
      "Epoch 8/100\n",
      "483/483 [==============================] - 6s 12ms/sample - loss: 0.6906 - ROC-AUC: 0.6626 - PR-AUC: 0.6897 - val_loss: 0.7490 - val_ROC-AUC: 0.5950 - val_PR-AUC: 0.6137\n",
      "Epoch 9/100\n",
      "483/483 [==============================] - 6s 12ms/sample - loss: 0.6733 - ROC-AUC: 0.6762 - PR-AUC: 0.6981 - val_loss: 0.7345 - val_ROC-AUC: 0.6184 - val_PR-AUC: 0.6383\n",
      "Epoch 10/100\n",
      "483/483 [==============================] - 6s 12ms/sample - loss: 0.6592 - ROC-AUC: 0.6841 - PR-AUC: 0.7073 - val_loss: 0.7210 - val_ROC-AUC: 0.6425 - val_PR-AUC: 0.6603\n",
      "Epoch 11/100\n",
      "483/483 [==============================] - 6s 12ms/sample - loss: 0.6323 - ROC-AUC: 0.7048 - PR-AUC: 0.7343 - val_loss: 0.7060 - val_ROC-AUC: 0.6654 - val_PR-AUC: 0.6848\n",
      "Epoch 12/100\n",
      "483/483 [==============================] - 6s 12ms/sample - loss: 0.6308 - ROC-AUC: 0.7062 - PR-AUC: 0.7305 - val_loss: 0.6935 - val_ROC-AUC: 0.6814 - val_PR-AUC: 0.6975\n",
      "Epoch 13/100\n",
      "483/483 [==============================] - 6s 12ms/sample - loss: 0.5964 - ROC-AUC: 0.7329 - PR-AUC: 0.7597 - val_loss: 0.6859 - val_ROC-AUC: 0.6921 - val_PR-AUC: 0.7053\n",
      "Epoch 14/100\n",
      "483/483 [==============================] - 6s 12ms/sample - loss: 0.5932 - ROC-AUC: 0.7416 - PR-AUC: 0.7650 - val_loss: 0.6800 - val_ROC-AUC: 0.7007 - val_PR-AUC: 0.7152\n",
      "Epoch 15/100\n",
      "483/483 [==============================] - 6s 12ms/sample - loss: 0.5699 - ROC-AUC: 0.7608 - PR-AUC: 0.7836 - val_loss: 0.6729 - val_ROC-AUC: 0.7055 - val_PR-AUC: 0.7211\n",
      "Epoch 16/100\n",
      "483/483 [==============================] - 6s 12ms/sample - loss: 0.5454 - ROC-AUC: 0.7871 - PR-AUC: 0.8096 - val_loss: 0.6661 - val_ROC-AUC: 0.7148 - val_PR-AUC: 0.7304\n",
      "Epoch 17/100\n",
      "483/483 [==============================] - 6s 12ms/sample - loss: 0.5366 - ROC-AUC: 0.7994 - PR-AUC: 0.8161 - val_loss: 0.6613 - val_ROC-AUC: 0.7179 - val_PR-AUC: 0.7336\n",
      "Epoch 18/100\n",
      "483/483 [==============================] - 6s 12ms/sample - loss: 0.5229 - ROC-AUC: 0.8194 - PR-AUC: 0.8322 - val_loss: 0.6538 - val_ROC-AUC: 0.7196 - val_PR-AUC: 0.7350\n",
      "Epoch 19/100\n",
      "483/483 [==============================] - 6s 12ms/sample - loss: 0.4911 - ROC-AUC: 0.8529 - PR-AUC: 0.8625 - val_loss: 0.6712 - val_ROC-AUC: 0.7056 - val_PR-AUC: 0.7290\n",
      "Epoch 20/100\n",
      "483/483 [==============================] - 6s 12ms/sample - loss: 0.4815 - ROC-AUC: 0.8652 - PR-AUC: 0.8748 - val_loss: 0.6596 - val_ROC-AUC: 0.7101 - val_PR-AUC: 0.7327\n",
      "Epoch 21/100\n",
      "483/483 [==============================] - 6s 12ms/sample - loss: 0.4777 - ROC-AUC: 0.8714 - PR-AUC: 0.8794 - val_loss: 0.6493 - val_ROC-AUC: 0.7204 - val_PR-AUC: 0.7422\n",
      "Epoch 22/100\n",
      "483/483 [==============================] - 6s 12ms/sample - loss: 0.4570 - ROC-AUC: 0.8946 - PR-AUC: 0.9005 - val_loss: 0.6431 - val_ROC-AUC: 0.7274 - val_PR-AUC: 0.7483\n",
      "Epoch 23/100\n",
      "483/483 [==============================] - 6s 12ms/sample - loss: 0.4429 - ROC-AUC: 0.9125 - PR-AUC: 0.9173 - val_loss: 0.6364 - val_ROC-AUC: 0.7366 - val_PR-AUC: 0.7570\n",
      "Epoch 24/100\n",
      "483/483 [==============================] - 6s 12ms/sample - loss: 0.4260 - ROC-AUC: 0.9244 - PR-AUC: 0.9285 - val_loss: 0.6302 - val_ROC-AUC: 0.7375 - val_PR-AUC: 0.7564\n",
      "Epoch 25/100\n",
      "483/483 [==============================] - 6s 12ms/sample - loss: 0.4150 - ROC-AUC: 0.9376 - PR-AUC: 0.9404 - val_loss: 0.6210 - val_ROC-AUC: 0.7461 - val_PR-AUC: 0.7659\n",
      "Epoch 26/100\n",
      "483/483 [==============================] - 6s 12ms/sample - loss: 0.4031 - ROC-AUC: 0.9492 - PR-AUC: 0.9509 - val_loss: 0.6070 - val_ROC-AUC: 0.7535 - val_PR-AUC: 0.7698\n",
      "Epoch 27/100\n",
      "483/483 [==============================] - 6s 12ms/sample - loss: 0.3922 - ROC-AUC: 0.9527 - PR-AUC: 0.9540 - val_loss: 0.5958 - val_ROC-AUC: 0.7614 - val_PR-AUC: 0.7788\n",
      "Epoch 28/100\n",
      "483/483 [==============================] - 6s 12ms/sample - loss: 0.3883 - ROC-AUC: 0.9558 - PR-AUC: 0.9580 - val_loss: 0.5877 - val_ROC-AUC: 0.7671 - val_PR-AUC: 0.7851\n",
      "Epoch 29/100\n",
      "483/483 [==============================] - 6s 12ms/sample - loss: 0.3697 - ROC-AUC: 0.9668 - PR-AUC: 0.9680 - val_loss: 0.5814 - val_ROC-AUC: 0.7692 - val_PR-AUC: 0.7876\n",
      "Epoch 30/100\n",
      "483/483 [==============================] - 6s 12ms/sample - loss: 0.3596 - ROC-AUC: 0.9684 - PR-AUC: 0.9695 - val_loss: 0.5755 - val_ROC-AUC: 0.7731 - val_PR-AUC: 0.7905\n",
      "Epoch 31/100\n",
      "483/483 [==============================] - 6s 12ms/sample - loss: 0.3467 - ROC-AUC: 0.9763 - PR-AUC: 0.9768 - val_loss: 0.5682 - val_ROC-AUC: 0.7781 - val_PR-AUC: 0.7950\n",
      "Epoch 32/100\n",
      "483/483 [==============================] - 6s 12ms/sample - loss: 0.3351 - ROC-AUC: 0.9821 - PR-AUC: 0.9827 - val_loss: 0.5653 - val_ROC-AUC: 0.7792 - val_PR-AUC: 0.7952\n",
      "Epoch 33/100\n",
      "483/483 [==============================] - 6s 12ms/sample - loss: 0.3316 - ROC-AUC: 0.9762 - PR-AUC: 0.9765 - val_loss: 0.5606 - val_ROC-AUC: 0.7824 - val_PR-AUC: 0.7982\n",
      "Epoch 34/100\n",
      "483/483 [==============================] - 6s 12ms/sample - loss: 0.3092 - ROC-AUC: 0.9887 - PR-AUC: 0.9891 - val_loss: 0.5601 - val_ROC-AUC: 0.7843 - val_PR-AUC: 0.7991\n",
      "Epoch 35/100\n",
      "483/483 [==============================] - 6s 12ms/sample - loss: 0.3083 - ROC-AUC: 0.9881 - PR-AUC: 0.9885 - val_loss: 0.5546 - val_ROC-AUC: 0.7900 - val_PR-AUC: 0.8031\n",
      "Epoch 36/100\n",
      "483/483 [==============================] - 6s 12ms/sample - loss: 0.2856 - ROC-AUC: 0.9923 - PR-AUC: 0.9926 - val_loss: 0.5498 - val_ROC-AUC: 0.7927 - val_PR-AUC: 0.8057\n",
      "Epoch 37/100\n",
      "483/483 [==============================] - 6s 12ms/sample - loss: 0.2782 - ROC-AUC: 0.9927 - PR-AUC: 0.9928 - val_loss: 0.5458 - val_ROC-AUC: 0.7972 - val_PR-AUC: 0.8111\n",
      "Epoch 38/100\n",
      "483/483 [==============================] - 6s 12ms/sample - loss: 0.2737 - ROC-AUC: 0.9937 - PR-AUC: 0.9939 - val_loss: 0.5402 - val_ROC-AUC: 0.8013 - val_PR-AUC: 0.8142\n",
      "Epoch 39/100\n",
      "483/483 [==============================] - 6s 12ms/sample - loss: 0.2720 - ROC-AUC: 0.9899 - PR-AUC: 0.9900 - val_loss: 0.5339 - val_ROC-AUC: 0.8061 - val_PR-AUC: 0.8179\n",
      "Epoch 40/100\n",
      "483/483 [==============================] - 6s 12ms/sample - loss: 0.2480 - ROC-AUC: 0.9964 - PR-AUC: 0.9965 - val_loss: 0.5270 - val_ROC-AUC: 0.8089 - val_PR-AUC: 0.8186\n",
      "Epoch 41/100\n",
      "483/483 [==============================] - 6s 12ms/sample - loss: 0.2484 - ROC-AUC: 0.9960 - PR-AUC: 0.9961 - val_loss: 0.5222 - val_ROC-AUC: 0.8127 - val_PR-AUC: 0.8215\n",
      "Epoch 42/100\n",
      "483/483 [==============================] - 6s 12ms/sample - loss: 0.2401 - ROC-AUC: 0.9967 - PR-AUC: 0.9967 - val_loss: 0.5217 - val_ROC-AUC: 0.8126 - val_PR-AUC: 0.8203\n",
      "Epoch 43/100\n",
      "483/483 [==============================] - 6s 12ms/sample - loss: 0.2222 - ROC-AUC: 0.9986 - PR-AUC: 0.9987 - val_loss: 0.5177 - val_ROC-AUC: 0.8175 - val_PR-AUC: 0.8252\n",
      "Epoch 44/100\n",
      "483/483 [==============================] - 6s 12ms/sample - loss: 0.2287 - ROC-AUC: 0.9986 - PR-AUC: 0.9987 - val_loss: 0.5131 - val_ROC-AUC: 0.8221 - val_PR-AUC: 0.8297\n",
      "Epoch 45/100\n",
      "483/483 [==============================] - 6s 12ms/sample - loss: 0.2191 - ROC-AUC: 0.9969 - PR-AUC: 0.9970 - val_loss: 0.5105 - val_ROC-AUC: 0.8229 - val_PR-AUC: 0.8303\n",
      "Epoch 46/100\n",
      "483/483 [==============================] - 6s 12ms/sample - loss: 0.2045 - ROC-AUC: 0.9980 - PR-AUC: 0.9981 - val_loss: 0.5061 - val_ROC-AUC: 0.8250 - val_PR-AUC: 0.8311\n",
      "Epoch 47/100\n",
      "483/483 [==============================] - 6s 12ms/sample - loss: 0.2115 - ROC-AUC: 0.9985 - PR-AUC: 0.9985 - val_loss: 0.5042 - val_ROC-AUC: 0.8269 - val_PR-AUC: 0.8340\n",
      "Epoch 48/100\n",
      "483/483 [==============================] - 6s 12ms/sample - loss: 0.1948 - ROC-AUC: 0.9997 - PR-AUC: 0.9997 - val_loss: 0.4991 - val_ROC-AUC: 0.8282 - val_PR-AUC: 0.8356\n",
      "Epoch 49/100\n",
      "483/483 [==============================] - 6s 12ms/sample - loss: 0.1918 - ROC-AUC: 0.9999 - PR-AUC: 0.9999 - val_loss: 0.4940 - val_ROC-AUC: 0.8351 - val_PR-AUC: 0.8419\n",
      "Epoch 50/100\n",
      "483/483 [==============================] - 6s 12ms/sample - loss: 0.1730 - ROC-AUC: 0.9985 - PR-AUC: 0.9986 - val_loss: 0.4935 - val_ROC-AUC: 0.8360 - val_PR-AUC: 0.8427\n",
      "Epoch 51/100\n",
      "483/483 [==============================] - 6s 12ms/sample - loss: 0.1766 - ROC-AUC: 0.9995 - PR-AUC: 0.9996 - val_loss: 0.4899 - val_ROC-AUC: 0.8396 - val_PR-AUC: 0.8453\n",
      "Epoch 52/100\n",
      "483/483 [==============================] - 6s 12ms/sample - loss: 0.1679 - ROC-AUC: 0.9992 - PR-AUC: 0.9993 - val_loss: 0.4903 - val_ROC-AUC: 0.8389 - val_PR-AUC: 0.8440\n",
      "Epoch 53/100\n",
      "483/483 [==============================] - 6s 12ms/sample - loss: 0.1616 - ROC-AUC: 0.9985 - PR-AUC: 0.9985 - val_loss: 0.4875 - val_ROC-AUC: 0.8402 - val_PR-AUC: 0.8458\n",
      "Epoch 54/100\n",
      "483/483 [==============================] - 6s 12ms/sample - loss: 0.1509 - ROC-AUC: 1.0000 - PR-AUC: 1.0000 - val_loss: 0.4826 - val_ROC-AUC: 0.8452 - val_PR-AUC: 0.8507\n",
      "Epoch 55/100\n",
      "483/483 [==============================] - 6s 12ms/sample - loss: 0.1581 - ROC-AUC: 0.9994 - PR-AUC: 0.9995 - val_loss: 0.4803 - val_ROC-AUC: 0.8477 - val_PR-AUC: 0.8540\n",
      "Epoch 56/100\n",
      "483/483 [==============================] - 6s 12ms/sample - loss: 0.1492 - ROC-AUC: 0.9998 - PR-AUC: 0.9998 - val_loss: 0.4760 - val_ROC-AUC: 0.8520 - val_PR-AUC: 0.8578\n",
      "Epoch 57/100\n",
      "483/483 [==============================] - 6s 12ms/sample - loss: 0.1323 - ROC-AUC: 1.0000 - PR-AUC: 1.0000 - val_loss: 0.4740 - val_ROC-AUC: 0.8526 - val_PR-AUC: 0.8576\n",
      "Epoch 58/100\n",
      "483/483 [==============================] - 6s 12ms/sample - loss: 0.1376 - ROC-AUC: 0.9998 - PR-AUC: 0.9998 - val_loss: 0.4707 - val_ROC-AUC: 0.8563 - val_PR-AUC: 0.8611\n",
      "Epoch 59/100\n",
      "483/483 [==============================] - 6s 12ms/sample - loss: 0.1312 - ROC-AUC: 0.9999 - PR-AUC: 0.9999 - val_loss: 0.4701 - val_ROC-AUC: 0.8563 - val_PR-AUC: 0.8614\n",
      "Epoch 60/100\n",
      "483/483 [==============================] - 6s 12ms/sample - loss: 0.1218 - ROC-AUC: 0.9998 - PR-AUC: 0.9998 - val_loss: 0.4661 - val_ROC-AUC: 0.8607 - val_PR-AUC: 0.8654\n",
      "Epoch 61/100\n",
      "483/483 [==============================] - 6s 12ms/sample - loss: 0.1214 - ROC-AUC: 0.9998 - PR-AUC: 0.9998 - val_loss: 0.4601 - val_ROC-AUC: 0.8633 - val_PR-AUC: 0.8682\n",
      "Epoch 62/100\n",
      "483/483 [==============================] - 6s 12ms/sample - loss: 0.1176 - ROC-AUC: 0.9999 - PR-AUC: 0.9999 - val_loss: 0.4581 - val_ROC-AUC: 0.8639 - val_PR-AUC: 0.8684\n",
      "Epoch 63/100\n",
      "483/483 [==============================] - 6s 12ms/sample - loss: 0.1028 - ROC-AUC: 1.0000 - PR-AUC: 1.0000 - val_loss: 0.4611 - val_ROC-AUC: 0.8622 - val_PR-AUC: 0.8666\n",
      "Epoch 64/100\n",
      "483/483 [==============================] - 6s 12ms/sample - loss: 0.1135 - ROC-AUC: 0.9993 - PR-AUC: 0.9993 - val_loss: 0.4576 - val_ROC-AUC: 0.8647 - val_PR-AUC: 0.8690\n",
      "Epoch 65/100\n",
      "483/483 [==============================] - 6s 12ms/sample - loss: 0.1106 - ROC-AUC: 0.9998 - PR-AUC: 0.9998 - val_loss: 0.4553 - val_ROC-AUC: 0.8664 - val_PR-AUC: 0.8717\n",
      "Epoch 66/100\n",
      "483/483 [==============================] - 6s 12ms/sample - loss: 0.1047 - ROC-AUC: 0.9999 - PR-AUC: 0.9999 - val_loss: 0.4498 - val_ROC-AUC: 0.8702 - val_PR-AUC: 0.8757\n",
      "Epoch 67/100\n",
      "483/483 [==============================] - 6s 12ms/sample - loss: 0.1011 - ROC-AUC: 0.9998 - PR-AUC: 0.9998 - val_loss: 0.4488 - val_ROC-AUC: 0.8700 - val_PR-AUC: 0.8746\n",
      "Epoch 68/100\n",
      "483/483 [==============================] - 6s 12ms/sample - loss: 0.0973 - ROC-AUC: 0.9998 - PR-AUC: 0.9998 - val_loss: 0.4515 - val_ROC-AUC: 0.8696 - val_PR-AUC: 0.8746\n",
      "Epoch 69/100\n",
      "483/483 [==============================] - 6s 12ms/sample - loss: 0.1168 - ROC-AUC: 0.9991 - PR-AUC: 0.9991 - val_loss: 0.4478 - val_ROC-AUC: 0.8738 - val_PR-AUC: 0.8788\n",
      "Epoch 70/100\n",
      "483/483 [==============================] - 6s 12ms/sample - loss: 0.0879 - ROC-AUC: 1.0000 - PR-AUC: 1.0000 - val_loss: 0.4490 - val_ROC-AUC: 0.8715 - val_PR-AUC: 0.8775\n",
      "Epoch 71/100\n",
      "483/483 [==============================] - 6s 12ms/sample - loss: 0.0889 - ROC-AUC: 1.0000 - PR-AUC: 1.0000 - val_loss: 0.4512 - val_ROC-AUC: 0.8719 - val_PR-AUC: 0.8776\n",
      "Epoch 72/100\n",
      "483/483 [==============================] - 6s 12ms/sample - loss: 0.0878 - ROC-AUC: 1.0000 - PR-AUC: 1.0000 - val_loss: 0.4494 - val_ROC-AUC: 0.8727 - val_PR-AUC: 0.8784\n",
      "Epoch 73/100\n",
      "483/483 [==============================] - 6s 12ms/sample - loss: 0.0776 - ROC-AUC: 1.0000 - PR-AUC: 1.0000 - val_loss: 0.4450 - val_ROC-AUC: 0.8744 - val_PR-AUC: 0.8804\n",
      "Epoch 74/100\n",
      "483/483 [==============================] - 6s 12ms/sample - loss: 0.0809 - ROC-AUC: 0.9999 - PR-AUC: 0.9999 - val_loss: 0.4399 - val_ROC-AUC: 0.8786 - val_PR-AUC: 0.8836\n",
      "Epoch 75/100\n",
      "483/483 [==============================] - 6s 12ms/sample - loss: 0.0857 - ROC-AUC: 1.0000 - PR-AUC: 1.0000 - val_loss: 0.4337 - val_ROC-AUC: 0.8828 - val_PR-AUC: 0.8871\n",
      "Epoch 76/100\n",
      "483/483 [==============================] - 6s 12ms/sample - loss: 0.0701 - ROC-AUC: 1.0000 - PR-AUC: 1.0000 - val_loss: 0.4344 - val_ROC-AUC: 0.8830 - val_PR-AUC: 0.8877\n",
      "Epoch 77/100\n",
      "483/483 [==============================] - 6s 12ms/sample - loss: 0.0781 - ROC-AUC: 1.0000 - PR-AUC: 1.0000 - val_loss: 0.4348 - val_ROC-AUC: 0.8828 - val_PR-AUC: 0.8872\n",
      "Epoch 78/100\n",
      "483/483 [==============================] - 6s 12ms/sample - loss: 0.0716 - ROC-AUC: 0.9999 - PR-AUC: 0.9999 - val_loss: 0.4388 - val_ROC-AUC: 0.8807 - val_PR-AUC: 0.8845\n",
      "Epoch 79/100\n",
      "483/483 [==============================] - 6s 12ms/sample - loss: 0.0721 - ROC-AUC: 0.9999 - PR-AUC: 0.9999 - val_loss: 0.4448 - val_ROC-AUC: 0.8768 - val_PR-AUC: 0.8823\n",
      "Epoch 80/100\n",
      "483/483 [==============================] - 6s 12ms/sample - loss: 0.0671 - ROC-AUC: 0.9999 - PR-AUC: 0.9999 - val_loss: 0.4436 - val_ROC-AUC: 0.8763 - val_PR-AUC: 0.8812\n",
      "Epoch 81/100\n",
      "483/483 [==============================] - 6s 12ms/sample - loss: 0.0636 - ROC-AUC: 1.0000 - PR-AUC: 1.0000 - val_loss: 0.4431 - val_ROC-AUC: 0.8766 - val_PR-AUC: 0.8808\n",
      "Epoch 82/100\n",
      "483/483 [==============================] - 6s 12ms/sample - loss: 0.0611 - ROC-AUC: 1.0000 - PR-AUC: 1.0000 - val_loss: 0.4384 - val_ROC-AUC: 0.8795 - val_PR-AUC: 0.8841\n",
      "Epoch 83/100\n",
      "483/483 [==============================] - 6s 12ms/sample - loss: 0.0549 - ROC-AUC: 1.0000 - PR-AUC: 1.0000 - val_loss: 0.4403 - val_ROC-AUC: 0.8794 - val_PR-AUC: 0.8846\n",
      "Epoch 84/100\n",
      "483/483 [==============================] - 6s 12ms/sample - loss: 0.0627 - ROC-AUC: 1.0000 - PR-AUC: 1.0000 - val_loss: 0.4430 - val_ROC-AUC: 0.8772 - val_PR-AUC: 0.8827\n",
      "Epoch 85/100\n",
      "483/483 [==============================] - 6s 12ms/sample - loss: 0.0608 - ROC-AUC: 1.0000 - PR-AUC: 1.0000 - val_loss: 0.4429 - val_ROC-AUC: 0.8788 - val_PR-AUC: 0.8848\n",
      "Epoch 86/100\n",
      "483/483 [==============================] - 6s 12ms/sample - loss: 0.0562 - ROC-AUC: 1.0000 - PR-AUC: 1.0000 - val_loss: 0.4413 - val_ROC-AUC: 0.8788 - val_PR-AUC: 0.8848\n",
      "Epoch 87/100\n",
      "483/483 [==============================] - 6s 12ms/sample - loss: 0.0444 - ROC-AUC: 1.0000 - PR-AUC: 1.0000 - val_loss: 0.4374 - val_ROC-AUC: 0.8817 - val_PR-AUC: 0.8877\n",
      "Epoch 88/100\n",
      "483/483 [==============================] - 6s 12ms/sample - loss: 0.0562 - ROC-AUC: 0.9999 - PR-AUC: 0.9999 - val_loss: 0.4356 - val_ROC-AUC: 0.8828 - val_PR-AUC: 0.8892\n",
      "Epoch 89/100\n",
      "483/483 [==============================] - 6s 12ms/sample - loss: 0.0475 - ROC-AUC: 1.0000 - PR-AUC: 1.0000 - val_loss: 0.4304 - val_ROC-AUC: 0.8897 - val_PR-AUC: 0.8963\n",
      "Epoch 90/100\n",
      "483/483 [==============================] - 6s 12ms/sample - loss: 0.0509 - ROC-AUC: 1.0000 - PR-AUC: 1.0000 - val_loss: 0.4290 - val_ROC-AUC: 0.8914 - val_PR-AUC: 0.8979\n",
      "Epoch 91/100\n",
      "483/483 [==============================] - 6s 12ms/sample - loss: 0.0581 - ROC-AUC: 1.0000 - PR-AUC: 1.0000 - val_loss: 0.4334 - val_ROC-AUC: 0.8874 - val_PR-AUC: 0.8934\n",
      "Epoch 92/100\n",
      "483/483 [==============================] - 6s 12ms/sample - loss: 0.0477 - ROC-AUC: 1.0000 - PR-AUC: 1.0000 - val_loss: 0.4322 - val_ROC-AUC: 0.8897 - val_PR-AUC: 0.8946\n",
      "Epoch 93/100\n",
      "483/483 [==============================] - 6s 12ms/sample - loss: 0.0537 - ROC-AUC: 1.0000 - PR-AUC: 1.0000 - val_loss: 0.4346 - val_ROC-AUC: 0.8870 - val_PR-AUC: 0.8931\n",
      "Epoch 94/100\n",
      "483/483 [==============================] - 6s 12ms/sample - loss: 0.0490 - ROC-AUC: 1.0000 - PR-AUC: 1.0000 - val_loss: 0.4338 - val_ROC-AUC: 0.8866 - val_PR-AUC: 0.8926\n",
      "Epoch 95/100\n",
      "483/483 [==============================] - 6s 12ms/sample - loss: 0.0500 - ROC-AUC: 1.0000 - PR-AUC: 1.0000 - val_loss: 0.4376 - val_ROC-AUC: 0.8835 - val_PR-AUC: 0.8895\n",
      "Epoch 96/100\n",
      "483/483 [==============================] - 6s 12ms/sample - loss: 0.0465 - ROC-AUC: 1.0000 - PR-AUC: 1.0000 - val_loss: 0.4384 - val_ROC-AUC: 0.8836 - val_PR-AUC: 0.8894\n",
      "Epoch 97/100\n",
      "483/483 [==============================] - 6s 12ms/sample - loss: 0.0514 - ROC-AUC: 1.0000 - PR-AUC: 1.0000 - val_loss: 0.4380 - val_ROC-AUC: 0.8878 - val_PR-AUC: 0.8934\n",
      "Epoch 98/100\n",
      "483/483 [==============================] - 6s 12ms/sample - loss: 0.0394 - ROC-AUC: 1.0000 - PR-AUC: 1.0000 - val_loss: 0.4290 - val_ROC-AUC: 0.8907 - val_PR-AUC: 0.8957\n",
      "Epoch 99/100\n",
      "483/483 [==============================] - 6s 12ms/sample - loss: 0.0358 - ROC-AUC: 1.0000 - PR-AUC: 1.0000 - val_loss: 0.4251 - val_ROC-AUC: 0.8933 - val_PR-AUC: 0.8982\n",
      "Epoch 100/100\n",
      "483/483 [==============================] - 6s 12ms/sample - loss: 0.0345 - ROC-AUC: 1.0000 - PR-AUC: 1.0000 - val_loss: 0.4230 - val_ROC-AUC: 0.8935 - val_PR-AUC: 0.8983\n",
      "WARNING:tensorflow:From /home/jupyter-anbhimi/.local/lib/python3.6/site-packages/tensorflow_core/python/ops/resource_variable_ops.py:1786: calling BaseResourceVariable.__init__ (from tensorflow.python.ops.resource_variable_ops) with constraint is deprecated and will be removed in a future version.\n",
      "Instructions for updating:\n",
      "If using Keras pass *_constraint arguments to layers.\n",
      "INFO:tensorflow:Assets written to: ./classification_model_2_classes/assets\n"
     ]
    }
   ],
   "source": [
    "model_path = './classification_model_2_classes'\n",
    "history = model.fit(X_train,y_train_cat, validation_data=(X_val, y_val_cat), epochs=100, callbacks=[reduce_lr])\n",
    "tf.keras.models.save_model(model = model, filepath = model_path)"
   ]
  },
  {
   "cell_type": "code",
   "execution_count": 14,
   "metadata": {},
   "outputs": [
    {
     "data": {
      "text/plain": [
       "(139, 320, 320, 3)"
      ]
     },
     "execution_count": 14,
     "metadata": {},
     "output_type": "execute_result"
    }
   ],
   "source": [
    "X_test.shape"
   ]
  },
  {
   "cell_type": "code",
   "execution_count": 15,
   "metadata": {},
   "outputs": [],
   "source": [
    "from sklearn.metrics import classification_report,confusion_matrix, roc_auc_score\n",
    "\n",
    "model = tf.keras.models.load_model(filepath = model_path)\n",
    "predictions = model.predict(X_test)\n",
    "predictions_rounded = np.argmax(predictions, axis=1)"
   ]
  },
  {
   "cell_type": "code",
   "execution_count": 16,
   "metadata": {},
   "outputs": [
    {
     "data": {
      "text/plain": [
       "[0, 1]"
      ]
     },
     "execution_count": 16,
     "metadata": {},
     "output_type": "execute_result"
    }
   ],
   "source": [
    "list(set(predictions_rounded))"
   ]
  },
  {
   "cell_type": "code",
   "execution_count": 17,
   "metadata": {},
   "outputs": [
    {
     "name": "stdout",
     "output_type": "stream",
     "text": [
      "0 - 0.87\n",
      "1 - 0.87\n"
     ]
    }
   ],
   "source": [
    "from sklearn.metrics import roc_curve, auc\n",
    "\n",
    "for p in list(set(predictions_rounded)):\n",
    "    fpr, tpr, thresholds = roc_curve(y_test, model.predict(X_test)[:,p], pos_label = p)\n",
    "    auroc = round(auc(fpr, tpr), 2)\n",
    "    print ('{} - {}'.format(p, auroc))"
   ]
  },
  {
   "cell_type": "code",
   "execution_count": 19,
   "metadata": {},
   "outputs": [
    {
     "data": {
      "text/plain": [
       "array([[74,  8],\n",
       "       [20, 37]])"
      ]
     },
     "execution_count": 19,
     "metadata": {},
     "output_type": "execute_result"
    }
   ],
   "source": [
    "confusion_matrix(y_test, predictions_rounded)"
   ]
  },
  {
   "cell_type": "code",
   "execution_count": 20,
   "metadata": {},
   "outputs": [
    {
     "name": "stdout",
     "output_type": "stream",
     "text": [
      "              precision    recall  f1-score   support\n",
      "\n",
      "           0       0.79      0.90      0.84        82\n",
      "           1       0.82      0.65      0.73        57\n",
      "\n",
      "    accuracy                           0.80       139\n",
      "   macro avg       0.80      0.78      0.78       139\n",
      "weighted avg       0.80      0.80      0.79       139\n",
      "\n"
     ]
    }
   ],
   "source": [
    "print (classification_report(y_test, predictions_rounded))"
   ]
  },
  {
   "cell_type": "code",
   "execution_count": null,
   "metadata": {},
   "outputs": [],
   "source": []
  }
 ],
 "metadata": {
  "kernelspec": {
   "display_name": "Python 3",
   "language": "python",
   "name": "python3"
  },
  "language_info": {
   "codemirror_mode": {
    "name": "ipython",
    "version": 3
   },
   "file_extension": ".py",
   "mimetype": "text/x-python",
   "name": "python",
   "nbconvert_exporter": "python",
   "pygments_lexer": "ipython3",
   "version": "3.6.8"
  }
 },
 "nbformat": 4,
 "nbformat_minor": 5
}
