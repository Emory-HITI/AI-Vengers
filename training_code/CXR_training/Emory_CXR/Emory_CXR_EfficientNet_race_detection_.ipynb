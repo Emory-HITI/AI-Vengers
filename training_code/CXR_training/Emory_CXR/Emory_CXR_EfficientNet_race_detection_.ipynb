{
 "cells": [
  {
   "cell_type": "code",
   "execution_count": 1,
   "metadata": {},
   "outputs": [],
   "source": [
    "import os\n",
    "import copy\n",
    "import keras\n",
    "import matplotlib.image as mpimg\n",
    "import matplotlib.pyplot as plt\n",
    "import numpy as np\n",
    "import pandas as pd\n",
    "import tensorflow as tf\n",
    "from PIL import ImageFile\n",
    "from keras.callbacks import ModelCheckpoint, EarlyStopping, ReduceLROnPlateau, CSVLogger\n",
    "from keras.layers import GlobalMaxPooling2D,Input\n",
    "from keras.models import Model\n",
    "from keras.preprocessing.image import ImageDataGenerator\n",
    "from tensorflow.keras import optimizers\n",
    "from tensorflow.keras.applications import EfficientNetB0\n",
    "from sklearn.model_selection import train_test_split"
   ]
  },
  {
   "cell_type": "code",
   "execution_count": 2,
   "metadata": {},
   "outputs": [],
   "source": [
    "# random seed\n",
    "np.random.seed(2021)\n",
    "tf.random.set_seed(2021)"
   ]
  },
  {
   "cell_type": "code",
   "execution_count": 3,
   "metadata": {},
   "outputs": [],
   "source": [
    "# fix error with truncated image files\n",
    "ImageFile.LOAD_TRUNCATED_IMAGES = True"
   ]
  },
  {
   "cell_type": "code",
   "execution_count": 4,
   "metadata": {},
   "outputs": [],
   "source": [
    "train_df = pd.read_csv('/home/jupyter-chima/data/correa/train_censored.csv')\n",
    "validate_df = pd.read_csv('/home/jupyter-chima/data/correa/val_censored.csv')"
   ]
  },
  {
   "cell_type": "code",
   "execution_count": 5,
   "metadata": {},
   "outputs": [],
   "source": [
    "train_df = train_df[train_df.Race.isin(['ASIAN','BLACK/AFRICAN AMERICAN','WHITE'])]\n",
    "validate_df = validate_df[validate_df.Race.isin(['ASIAN','BLACK/AFRICAN AMERICAN','WHITE'])]"
   ]
  },
  {
   "cell_type": "code",
   "execution_count": 6,
   "metadata": {},
   "outputs": [],
   "source": [
    "train_df.hiti_path = train_df.hiti_path.astype(str)\n",
    "validate_df.hiti_path = validate_df.hiti_path.astype(str)"
   ]
  },
  {
   "cell_type": "code",
   "execution_count": 7,
   "metadata": {},
   "outputs": [],
   "source": [
    "#remove 0 byte images\n",
    "train_df = train_df[~train_df.hiti_path.str.contains('406e0996e5f1cf082487d7d096574d10b46c0c52710222a4884db1cc|dd97e997cc2a4166dc6e192cb62e29553aa28f4671d98c9577e32cfd|6224290209c45bb2b3e07b3b3a27778d1d10f7953567b3c59158e099')]\n",
    "validate_df = validate_df[~validate_df.hiti_path.str.contains('406e0996e5f1cf082487d7d096574d10b46c0c52710222a4884db1cc|dd97e997cc2a4166dc6e192cb62e29553aa28f4671d98c9577e32cfd|6224290209c45bb2b3e07b3b3a27778d1d10f7953567b3c59158e099')]"
   ]
  },
  {
   "cell_type": "code",
   "execution_count": 8,
   "metadata": {},
   "outputs": [
    {
     "data": {
      "text/plain": [
       "WHITE                     91369\n",
       "BLACK/AFRICAN AMERICAN    87139\n",
       "ASIAN                      6457\n",
       "Name: Race, dtype: int64"
      ]
     },
     "execution_count": 8,
     "metadata": {},
     "output_type": "execute_result"
    }
   ],
   "source": [
    "train_df.Race.value_counts()"
   ]
  },
  {
   "cell_type": "code",
   "execution_count": 9,
   "metadata": {},
   "outputs": [
    {
     "data": {
      "text/plain": [
       "BLACK/AFRICAN AMERICAN    7540\n",
       "WHITE                     6656\n",
       "ASIAN                      530\n",
       "Name: Race, dtype: int64"
      ]
     },
     "execution_count": 9,
     "metadata": {},
     "output_type": "execute_result"
    }
   ],
   "source": [
    "validate_df.Race.value_counts()"
   ]
  },
  {
   "cell_type": "code",
   "execution_count": 10,
   "metadata": {},
   "outputs": [],
   "source": [
    "IMAGE_WIDTH, IMAGE_HEIGHT = (224, 224)\n",
    "EPOCHS = 20\n",
    "BATCH_SIZE = 256\n",
    "learning_rate = 1e-3\n",
    "decay_val= 0.0 \n",
    "image_shape = (IMAGE_HEIGHT, IMAGE_WIDTH, 3)"
   ]
  },
  {
   "cell_type": "code",
   "execution_count": 11,
   "metadata": {},
   "outputs": [],
   "source": [
    "# setup train, valid, and test image data generators\n",
    "train_gen = ImageDataGenerator(\n",
    "            rotation_range=15, \n",
    "            fill_mode='constant',\n",
    "            zoom_range=0.1,\n",
    "            horizontal_flip=True\n",
    ")\n",
    "\n",
    "validate_gen = ImageDataGenerator()"
   ]
  },
  {
   "cell_type": "code",
   "execution_count": 12,
   "metadata": {},
   "outputs": [
    {
     "name": "stdout",
     "output_type": "stream",
     "text": [
      "Found 184965 validated image filenames belonging to 3 classes.\n",
      "Found 14726 validated image filenames belonging to 3 classes.\n"
     ]
    }
   ],
   "source": [
    "train_batches = train_gen.flow_from_dataframe(\n",
    "    train_df, \n",
    "    x_col=\"hiti_path\", \n",
    "    y_col=\"Race\", \n",
    "    class_mode=\"categorical\",\n",
    "    target_size=(IMAGE_HEIGHT, IMAGE_WIDTH),\n",
    "    shuffle=True,\n",
    "    seed=2021,\n",
    "    batch_size=BATCH_SIZE, \n",
    "    dtype='float32'\n",
    ")\n",
    "\n",
    "validate_batches = validate_gen.flow_from_dataframe(\n",
    "    validate_df,\n",
    "    x_col=\"hiti_path\", \n",
    "    y_col=\"Race\", \n",
    "    class_mode=\"categorical\",\n",
    "    target_size=(IMAGE_HEIGHT, IMAGE_WIDTH),\n",
    "    shuffle=False,\n",
    "    batch_size=BATCH_SIZE, \n",
    "    dtype='float32'\n",
    ")        "
   ]
  },
  {
   "cell_type": "code",
   "execution_count": 13,
   "metadata": {},
   "outputs": [
    {
     "data": {
      "text/plain": [
       "['ASIAN', 'BLACK/AFRICAN AMERICAN', 'WHITE']"
      ]
     },
     "execution_count": 13,
     "metadata": {},
     "output_type": "execute_result"
    }
   ],
   "source": [
    "# see the class names\n",
    "class_names = train_df.Race.value_counts().index.tolist()\n",
    "class_names.sort()\n",
    "class_names"
   ]
  },
  {
   "cell_type": "code",
   "execution_count": 14,
   "metadata": {},
   "outputs": [
    {
     "name": "stdout",
     "output_type": "stream",
     "text": [
      "Model: \"functional_1\"\n",
      "_________________________________________________________________\n",
      "Layer (type)                 Output Shape              Param #   \n",
      "=================================================================\n",
      "input_2 (InputLayer)         [(None, 224, 224, 3)]     0         \n",
      "_________________________________________________________________\n",
      "efficientnetb0 (Functional)  (None, 7, 7, 1280)        4049571   \n",
      "_________________________________________________________________\n",
      "global_average_pooling2d (Gl (None, 1280)              0         \n",
      "_________________________________________________________________\n",
      "dense_logits (Dense)         (None, 3)                 3843      \n",
      "_________________________________________________________________\n",
      "predictions (Activation)     (None, 3)                 0         \n",
      "=================================================================\n",
      "Total params: 4,053,414\n",
      "Trainable params: 4,011,391\n",
      "Non-trainable params: 42,023\n",
      "_________________________________________________________________\n"
     ]
    }
   ],
   "source": [
    "# create model\n",
    "n_labels = len(class_names)\n",
    "\n",
    "base_model = EfficientNetB0( \n",
    "    input_shape=image_shape,\n",
    "    include_top=False,\n",
    "    weights='imagenet',\n",
    "    drop_connect_rate=0.4\n",
    ")\n",
    "\n",
    "inputs = Input(image_shape)\n",
    "x = base_model(inputs)\n",
    "x = tf.keras.layers.GlobalAveragePooling2D()(x)\n",
    "x = tf.keras.layers.Dense(n_labels, name='dense_logits')(x)\n",
    "output = tf.keras.layers.Activation('softmax', dtype='float32', name='predictions')(x)\n",
    "model = Model(inputs= inputs, outputs=output)\n",
    "model.summary()"
   ]
  },
  {
   "cell_type": "code",
   "execution_count": 15,
   "metadata": {},
   "outputs": [],
   "source": [
    "adam_opt = optimizers.Adam(lr=learning_rate, decay=decay_val)\n",
    "\n",
    "model.compile(\n",
    "    optimizer=adam_opt,\n",
    "    loss=tf.losses.CategoricalCrossentropy(),\n",
    "    metrics=[\n",
    "        tf.keras.metrics.AUC(curve='ROC', name='ROC-AUC'),\n",
    "        tf.keras.metrics.AUC(curve='PR', name='PR-AUC')\n",
    "    ],\n",
    ")"
   ]
  },
  {
   "cell_type": "code",
   "execution_count": null,
   "metadata": {
    "scrolled": false
   },
   "outputs": [
    {
     "name": "stdout",
     "output_type": "stream",
     "text": [
      "Epoch 1/20\n",
      "723/723 [==============================] - ETA: 0s - loss: 0.3796 - ROC-AUC: 0.9605 - PR-AUC: 0.9298 \n",
      "Epoch 00001: val_PR-AUC improved from -inf to 0.80751, saving model to /home/jupyter-chima/Bias/Emory_CXR/Three_classes/EfficientNet/Checkpoint/\n",
      "723/723 [==============================] - 18244s 25s/step - loss: 0.3796 - ROC-AUC: 0.9605 - PR-AUC: 0.9298 - val_loss: 0.8233 - val_ROC-AUC: 0.8814 - val_PR-AUC: 0.8075\n",
      "Epoch 2/20\n",
      "723/723 [==============================] - ETA: 0s - loss: 0.2799 - ROC-AUC: 0.9778 - PR-AUC: 0.9599 \n",
      "Epoch 00002: val_PR-AUC improved from 0.80751 to 0.97295, saving model to /home/jupyter-chima/Bias/Emory_CXR/Three_classes/EfficientNet/Checkpoint/\n",
      "723/723 [==============================] - 19234s 27s/step - loss: 0.2799 - ROC-AUC: 0.9778 - PR-AUC: 0.9599 - val_loss: 0.2301 - val_ROC-AUC: 0.9847 - val_PR-AUC: 0.9729\n",
      "Epoch 3/20\n",
      "723/723 [==============================] - ETA: 0s - loss: 0.2480 - ROC-AUC: 0.9823 - PR-AUC: 0.9677 \n",
      "Epoch 00003: val_PR-AUC did not improve from 0.97295\n",
      "723/723 [==============================] - 21957s 30s/step - loss: 0.2480 - ROC-AUC: 0.9823 - PR-AUC: 0.9677 - val_loss: 0.3398 - val_ROC-AUC: 0.9692 - val_PR-AUC: 0.9459\n",
      "Epoch 4/20\n",
      "723/723 [==============================] - ETA: 0s - loss: 0.2278 - ROC-AUC: 0.9848 - PR-AUC: 0.9722 \n",
      "Epoch 00004: val_PR-AUC did not improve from 0.97295\n",
      "723/723 [==============================] - 25133s 35s/step - loss: 0.2278 - ROC-AUC: 0.9848 - PR-AUC: 0.9722 - val_loss: 0.3495 - val_ROC-AUC: 0.9691 - val_PR-AUC: 0.9440\n",
      "Epoch 5/20\n",
      "723/723 [==============================] - ETA: 0s - loss: 0.2130 - ROC-AUC: 0.9866 - PR-AUC: 0.9753 \n",
      "Epoch 00005: val_PR-AUC did not improve from 0.97295\n",
      "\n",
      "Epoch 00005: ReduceLROnPlateau reducing learning rate to 0.00010000000474974513.\n",
      "723/723 [==============================] - 31463s 44s/step - loss: 0.2130 - ROC-AUC: 0.9866 - PR-AUC: 0.9753 - val_loss: 0.2373 - val_ROC-AUC: 0.9838 - val_PR-AUC: 0.9712\n",
      "Epoch 6/20\n",
      "723/723 [==============================] - ETA: 0s - loss: 0.1683 - ROC-AUC: 0.9912 - PR-AUC: 0.9838 \n",
      "Epoch 00006: val_PR-AUC did not improve from 0.97295\n",
      "723/723 [==============================] - 31495s 44s/step - loss: 0.1683 - ROC-AUC: 0.9912 - PR-AUC: 0.9838 - val_loss: 0.2289 - val_ROC-AUC: 0.9847 - val_PR-AUC: 0.9724\n",
      "Epoch 7/20\n",
      "723/723 [==============================] - ETA: 0s - loss: 0.1530 - ROC-AUC: 0.9926 - PR-AUC: 0.9862 \n",
      "Epoch 00007: val_PR-AUC did not improve from 0.97295\n",
      "723/723 [==============================] - 28315s 39s/step - loss: 0.1530 - ROC-AUC: 0.9926 - PR-AUC: 0.9862 - val_loss: 0.2299 - val_ROC-AUC: 0.9847 - val_PR-AUC: 0.9723\n",
      "Epoch 8/20\n",
      "723/723 [==============================] - ETA: 0s - loss: 0.1452 - ROC-AUC: 0.9933 - PR-AUC: 0.9875 \n",
      "Epoch 00008: val_PR-AUC did not improve from 0.97295\n",
      "723/723 [==============================] - 27037s 37s/step - loss: 0.1452 - ROC-AUC: 0.9933 - PR-AUC: 0.9875 - val_loss: 0.2410 - val_ROC-AUC: 0.9838 - val_PR-AUC: 0.9707\n",
      "Epoch 9/20\n",
      "723/723 [==============================] - ETA: 0s - loss: 0.1382 - ROC-AUC: 0.9938 - PR-AUC: 0.9884 \n",
      "Epoch 00009: val_PR-AUC did not improve from 0.97295\n",
      "\n",
      "Epoch 00009: ReduceLROnPlateau reducing learning rate to 1.0000000474974514e-05.\n",
      "723/723 [==============================] - 27350s 38s/step - loss: 0.1382 - ROC-AUC: 0.9938 - PR-AUC: 0.9884 - val_loss: 0.2699 - val_ROC-AUC: 0.9813 - val_PR-AUC: 0.9657\n",
      "Epoch 10/20\n",
      "283/723 [==========>...................] - ETA: 4:41:01 - loss: 0.1300 - ROC-AUC: 0.9944 - PR-AUC: 0.9895"
     ]
    }
   ],
   "source": [
    "save = ModelCheckpoint(\n",
    "    '/home/jupyter-chima/Bias/Emory_CXR/Three_classes/EfficientNet/Checkpoint/', \n",
    "    monitor=\"val_PR-AUC\", \n",
    "    save_best_only=True,\n",
    "    save_weights_only=True, \n",
    "    mode='max',\n",
    "    verbose=1\n",
    ")\n",
    "# stop = EarlyStopping(monitor='val_loss', mode='min', patience=6, restore_best_weights=True)\n",
    "scheduler = ReduceLROnPlateau(\n",
    "    monitor=\"val_loss\", \n",
    "    mode='min', \n",
    "    factor=0.1, \n",
    "    patience=3, \n",
    "    min_lr=1e-6, \n",
    "    verbose=1\n",
    ")\n",
    "logger = CSVLogger('/home/jupyter-chima/Bias/Emory_CXR/Three_classes/EfficientNet/training.log')\n",
    "history = model.fit(\n",
    "    train_batches, \n",
    "    epochs=EPOCHS, \n",
    "    validation_data=validate_batches, \n",
    "    verbose=1, \n",
    "    callbacks=[save, scheduler, logger]\n",
    ")"
   ]
  },
  {
   "cell_type": "code",
   "execution_count": 18,
   "metadata": {},
   "outputs": [],
   "source": [
    "model.save('/home/jupyter-chima/Bias/Emory_CXR/Three_classes/EfficientNet/Emory_CXR_three_classes_EfficientNet.h5')"
   ]
  },
  {
   "cell_type": "code",
   "execution_count": 19,
   "metadata": {},
   "outputs": [
    {
     "data": {
      "image/png": "[encoded data removed]",
      "text/plain": [
       "<Figure size 432x288 with 1 Axes>"
      ]
     },
     "metadata": {
      "needs_background": "light"
     },
     "output_type": "display_data"
    },
    {
     "data": {
      "image/png": "[encoded data removed]",
      "text/plain": [
       "<Figure size 432x288 with 1 Axes>"
      ]
     },
     "metadata": {
      "needs_background": "light"
     },
     "output_type": "display_data"
    },
    {
     "data": {
      "image/png": "[encoded data removed]",
      "text/plain": [
       "<Figure size 432x288 with 1 Axes>"
      ]
     },
     "metadata": {
      "needs_background": "light"
     },
     "output_type": "display_data"
    }
   ],
   "source": [
    "# summarize history for loss\n",
    "plt.plot(history.history['loss'])\n",
    "plt.plot(history.history['val_loss'])\n",
    "plt.title('model loss')\n",
    "plt.ylabel('loss')\n",
    "plt.xlabel('epoch')\n",
    "plt.legend(['train', 'valid'], loc='lower right')\n",
    "plt.show()\n",
    "    \n",
    "# summarize history for ROC auc\n",
    "plt.plot(history.history['ROC-AUC'])\n",
    "plt.plot(history.history['val_ROC-AUC'])\n",
    "plt.title('ROC model AUC')\n",
    "plt.ylabel('AUC')\n",
    "plt.xlabel('epoch')\n",
    "plt.legend(['train', 'valid'], loc='lower right')\n",
    "plt.show()\n",
    "\n",
    "# summarize history for ROC auc\n",
    "plt.plot(history.history['PR-AUC'])\n",
    "plt.plot(history.history['val_PR-AUC'])\n",
    "plt.title('PR model AUC')\n",
    "plt.ylabel('AUC')\n",
    "plt.xlabel('epoch')\n",
    "plt.legend(['train', 'valid'], loc='lower right')\n",
    "plt.show()"
   ]
  },
  {
   "cell_type": "code",
   "execution_count": null,
   "metadata": {},
   "outputs": [],
   "source": []
  }
 ],
 "metadata": {
  "kernelspec": {
   "display_name": "Python 3",
   "language": "python",
   "name": "python3"
  },
  "language_info": {
   "codemirror_mode": {
    "name": "ipython",
    "version": 3
   },
   "file_extension": ".py",
   "mimetype": "text/x-python",
   "name": "python",
   "nbconvert_exporter": "python",
   "pygments_lexer": "ipython3",
   "version": "3.7.3"
  }
 },
 "nbformat": 4,
 "nbformat_minor": 4
}
