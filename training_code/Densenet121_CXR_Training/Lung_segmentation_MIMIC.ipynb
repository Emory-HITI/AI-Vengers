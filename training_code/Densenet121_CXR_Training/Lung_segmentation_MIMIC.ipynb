{
  "nbformat": 4,
  "nbformat_minor": 5,
  "metadata": {
    "colab": {
      "name": "Lung_segmentation_MIMIC.ipynb",
      "provenance": [],
      "collapsed_sections": [
        "PCeEas5e0dgM"
      ],
      "machine_shape": "hm"
    },
    "kernelspec": {
      "display_name": "Python 3",
      "language": "python",
      "name": "python3"
    },
    "language_info": {
      "codemirror_mode": {
        "name": "ipython",
        "version": 3
      },
      "file_extension": ".py",
      "mimetype": "text/x-python",
      "name": "python",
      "nbconvert_exporter": "python",
      "pygments_lexer": "ipython3",
      "version": "3.7.10"
    }
  },
  "cells": [
    {
      "cell_type": "code",
      "metadata": {
        "id": "demographic-wagon"
      },
      "source": [
        "# Generating segmentation images for testing model"
      ],
      "id": "demographic-wagon",
      "execution_count": null,
      "outputs": []
    },
    {
      "cell_type": "code",
      "metadata": {
        "id": "sitting-reserve"
      },
      "source": [
        "import torch\n",
        "import torchvision\n",
        "import os\n",
        "import glob\n",
        "import time \n",
        "import pickle\n",
        "\n",
        "import skimage.transform as st\n",
        "import cv2 as cv\n",
        "from PIL import Image\n",
        "\n",
        "import tensorflow as tf\n",
        "import pandas as pd\n",
        "import numpy as np\n",
        "import matplotlib.pyplot as plt\n",
        "\n",
        "from pathlib import Path\n",
        "from sklearn.model_selection import train_test_split\n",
        "from sklearn.metrics import plot_precision_recall_curve, average_precision_score, roc_curve, auc, accuracy_score\n",
        "import seaborn as sns"
      ],
      "id": "sitting-reserve",
      "execution_count": null,
      "outputs": []
    },
    {
      "cell_type": "code",
      "metadata": {
        "id": "touched-consumption"
      },
      "source": [
        "import tensorflow as tf\n",
        "physical_devices = tf.config.list_physical_devices('GPU') \n",
        "tf.config.experimental.set_memory_growth(physical_devices[0], True)"
      ],
      "id": "touched-consumption",
      "execution_count": null,
      "outputs": []
    },
    {
      "cell_type": "code",
      "metadata": {
        "id": "furnished-learning"
      },
      "source": [
        "gpus = tf.config.list_physical_devices(device_type='GPU')\n",
        "tf.config.set_visible_devices(devices=gpus[0], device_type='GPU')"
      ],
      "id": "furnished-learning",
      "execution_count": null,
      "outputs": []
    },
    {
      "cell_type": "code",
      "metadata": {
        "id": "figured-census"
      },
      "source": [
        "import torch\n",
        "torch.cuda.empty_cache()"
      ],
      "id": "figured-census",
      "execution_count": null,
      "outputs": []
    },
    {
      "cell_type": "markdown",
      "metadata": {
        "id": "rough-stanley"
      },
      "source": [
        "# class data"
      ],
      "id": "rough-stanley"
    },
    {
      "cell_type": "code",
      "metadata": {
        "id": "outer-journalist"
      },
      "source": [
        "class LungDataset(torch.utils.data.Dataset):\n",
        "    def __init__(self, origin_mask_list, origins_folder, masks_folder, transforms=None):\n",
        "        self.origin_mask_list = origin_mask_list\n",
        "        self.origins_folder = origins_folder\n",
        "        self.masks_folder = masks_folder\n",
        "        self.transforms = transforms\n",
        "    \n",
        "    def __getitem__(self, idx):\n",
        "        origin_name, mask_name = self.origin_mask_list[idx]\n",
        "        origin = Image.open(self.origins_folder / (origin_name + \".png\")).convert(\"P\")\n",
        "        mask = Image.open(self.masks_folder / (mask_name + \".png\"))\n",
        "        if self.transforms is not None:\n",
        "            origin, mask = self.transforms((origin, mask))\n",
        "            \n",
        "        origin = torchvision.transforms.functional.to_tensor(origin) - 0.5\n",
        "    \n",
        "        mask = np.array(mask)\n",
        "        mask = (torch.tensor(mask) > 128).long() \n",
        "        return origin, mask\n",
        "        \n",
        "    \n",
        "    def __len__(self):\n",
        "        return len(self.origin_mask_list)\n",
        "\n",
        "    \n",
        "class Pad():\n",
        "    def __init__(self, max_padding):\n",
        "        self.max_padding = max_padding\n",
        "        \n",
        "    def __call__(self, sample):\n",
        "        origin, mask = sample\n",
        "        padding = np.random.randint(0, self.max_padding)\n",
        "#         origin = torchvision.transforms.functional.pad(origin, padding=padding, padding_mode=\"symmetric\")\n",
        "        origin = torchvision.transforms.functional.pad(origin, padding=padding, fill=0)\n",
        "        mask = torchvision.transforms.functional.pad(mask, padding=padding, fill=0)\n",
        "        return origin, mask\n",
        "\n",
        "\n",
        "class Crop():\n",
        "    def __init__(self, max_shift):\n",
        "        self.max_shift = max_shift\n",
        "        \n",
        "    def __call__(self, sample):\n",
        "        origin, mask = sample\n",
        "        tl_shift = np.random.randint(0, self.max_shift)\n",
        "        br_shift = np.random.randint(0, self.max_shift)\n",
        "        origin_w, origin_h = origin.size\n",
        "        crop_w = origin_w - tl_shift - br_shift\n",
        "        crop_h = origin_h - tl_shift - br_shift\n",
        "        \n",
        "        origin = torchvision.transforms.functional.crop(origin, tl_shift, tl_shift,\n",
        "                                                        crop_h, crop_w)\n",
        "        mask = torchvision.transforms.functional.crop(mask, tl_shift, tl_shift,\n",
        "                                                        crop_h, crop_w)\n",
        "        return origin, mask\n",
        "\n",
        "\n",
        "class Resize():\n",
        "    def __init__(self, output_size):\n",
        "        self.output_size = output_size\n",
        "        \n",
        "    def __call__(self, sample):\n",
        "        origin, mask = sample\n",
        "        origin = torchvision.transforms.functional.resize(origin, self.output_size)\n",
        "        mask = torchvision.transforms.functional.resize(mask, self.output_size)\n",
        "        \n",
        "        return origin, mask\n",
        "\n",
        "\n",
        "def blend(origin, mask1=None, mask2=None, mask3=None):\n",
        "    img = torchvision.transforms.functional.to_pil_image(origin + 0.5).convert(\"RGB\")\n",
        "    if mask1 is not None:\n",
        "        mask1 = torchvision.transforms.functional.to_pil_image(torch.cat([\n",
        "            torch.zeros_like(origin),\n",
        "            torch.stack([mask1.float()]),\n",
        "            torch.zeros_like(origin)\n",
        "        ]))\n",
        "        img = Image.blend(img, mask1, 0.2)\n",
        "        \n",
        "    if mask2 is not None:\n",
        "        mask2 = torchvision.transforms.functional.to_pil_image(torch.cat([\n",
        "            torch.stack([mask2.float()]),\n",
        "            torch.zeros_like(origin),\n",
        "            torch.zeros_like(origin)\n",
        "        ]))\n",
        "        img = Image.blend(img, mask2, 0.2)\n",
        "\n",
        "    if mask3 is not None:\n",
        "        mask3 = torchvision.transforms.functional.to_pil_image(torch.cat([\n",
        "            torch.zeros_like(origin),\n",
        "            torch.stack([mask3.float()]),\n",
        "            torch.zeros_like(origin)\n",
        "        ]))\n",
        "        img = mask3\n",
        "\n",
        "    return img"
      ],
      "id": "outer-journalist",
      "execution_count": null,
      "outputs": []
    },
    {
      "cell_type": "markdown",
      "metadata": {
        "id": "attended-september"
      },
      "source": [
        "# class model"
      ],
      "id": "attended-september"
    },
    {
      "cell_type": "code",
      "metadata": {
        "id": "cooked-episode"
      },
      "source": [
        "class Block(torch.nn.Module):\n",
        "    def __init__(self, in_channels, mid_channel, out_channels, batch_norm=False):\n",
        "        super().__init__()\n",
        "        \n",
        "        self.conv1 = torch.nn.Conv2d(in_channels=in_channels, out_channels=mid_channel, kernel_size=3, padding=1)\n",
        "        self.conv2 = torch.nn.Conv2d(in_channels=mid_channel, out_channels=out_channels, kernel_size=3, padding=1)\n",
        "        \n",
        "        self.batch_norm = batch_norm\n",
        "        if batch_norm:\n",
        "            self.bn1 = torch.nn.BatchNorm2d(mid_channel)\n",
        "            self.bn2 = torch.nn.BatchNorm2d(out_channels)\n",
        "            \n",
        "    def forward(self, x):\n",
        "        x = self.conv1(x)\n",
        "        if self.batch_norm:\n",
        "            x = self.bn1(x)\n",
        "        x = torch.nn.functional.relu(x, inplace=True)\n",
        "        \n",
        "        x = self.conv2(x)\n",
        "        if self.batch_norm:\n",
        "            x = self.bn2(x)\n",
        "        out = torch.nn.functional.relu(x, inplace=True)\n",
        "        return out\n",
        "    \n",
        "\n",
        "class UNet(torch.nn.Module):\n",
        "    def up(self, x, size):\n",
        "        return torch.nn.functional.interpolate(x, size=size, mode=self.upscale_mode)\n",
        "    \n",
        "    def down(self, x):\n",
        "        return torch.nn.functional.max_pool2d(x, kernel_size=2)\n",
        "    \n",
        "    def __init__(self, in_channels, out_channels, batch_norm=False, upscale_mode=\"nearest\"):\n",
        "        super().__init__()\n",
        "        \n",
        "        self.in_channels = in_channels\n",
        "        self.out_channels = out_channels\n",
        "        self.batch_norm = batch_norm\n",
        "        self.upscale_mode = upscale_mode\n",
        "        \n",
        "        self.enc1 = Block(in_channels, 64, 64, batch_norm)\n",
        "        self.enc2 = Block(64, 128, 128, batch_norm)\n",
        "        self.enc3 = Block(128, 256, 256, batch_norm)\n",
        "        self.enc4 = Block(256, 512, 512, batch_norm)\n",
        "        \n",
        "        self.center = Block(512, 1024, 512, batch_norm)\n",
        "        \n",
        "        self.dec4 = Block(1024, 512, 256, batch_norm)\n",
        "        self.dec3 = Block(512, 256, 128, batch_norm)\n",
        "        self.dec2 = Block(256, 128, 64, batch_norm)\n",
        "        self.dec1 = Block(128, 64, 64, batch_norm)\n",
        "        \n",
        "        self.out = torch.nn.Conv2d(in_channels=64, out_channels=out_channels, kernel_size=1)\n",
        "\n",
        "    def forward(self, x):\n",
        "        enc1 = self.enc1(x)\n",
        "        enc2 = self.enc2(self.down(enc1))\n",
        "        enc3 = self.enc3(self.down(enc2))\n",
        "        enc4 = self.enc4(self.down(enc3))\n",
        "        \n",
        "        center = self.center(self.down(enc4))\n",
        "        \n",
        "        dec4 = self.dec4(torch.cat([self.up(center, enc4.size()[-2:]), enc4], 1))\n",
        "        dec3 = self.dec3(torch.cat([self.up(dec4, enc3.size()[-2:]), enc3], 1))\n",
        "        dec2 = self.dec2(torch.cat([self.up(dec3, enc2.size()[-2:]), enc2], 1))\n",
        "        dec1 = self.dec1(torch.cat([self.up(dec2, enc1.size()[-2:]), enc1], 1))\n",
        "        \n",
        "        out = self.out(dec1)\n",
        "        \n",
        "        return out\n",
        "    \n",
        "\n",
        "class PretrainedUNet(torch.nn.Module):\n",
        "    def up(self, x, size):\n",
        "        return torch.nn.functional.interpolate(x, size=size, mode=self.upscale_mode)\n",
        "    \n",
        "    def down(self, x):\n",
        "        return torch.nn.functional.max_pool2d(x, kernel_size=2)\n",
        "    \n",
        "    def __init__(self, in_channels, out_channels, batch_norm=False, upscale_mode=\"nearest\"):\n",
        "        super().__init__()\n",
        "        \n",
        "        self.in_channels = in_channels\n",
        "        self.out_channels = out_channels\n",
        "        self.batch_norm = batch_norm\n",
        "        self.upscale_mode = upscale_mode\n",
        "        \n",
        "        self.init_conv = torch.nn.Conv2d(in_channels, 3, 1)\n",
        "        \n",
        "        endcoder = torchvision.models.vgg11(pretrained=True).features\n",
        "        self.conv1 = endcoder[0]   # 64\n",
        "        self.conv2 = endcoder[3]   # 128\n",
        "        self.conv3 = endcoder[6]   # 256\n",
        "        self.conv3s = endcoder[8]  # 256\n",
        "        self.conv4 = endcoder[11]   # 512\n",
        "        self.conv4s = endcoder[13]  # 512\n",
        "        self.conv5 = endcoder[16]  # 512\n",
        "        self.conv5s = endcoder[18] # 512\n",
        "    \n",
        "        self.center = Block(512, 512, 256, batch_norm)\n",
        "        \n",
        "        self.dec5 = Block(512 + 256, 512, 256, batch_norm)\n",
        "        self.dec4 = Block(512 + 256, 512, 128, batch_norm)\n",
        "        self.dec3 = Block(256 + 128, 256, 64, batch_norm)\n",
        "        self.dec2 = Block(128 + 64, 128, 32, batch_norm)\n",
        "        self.dec1 = Block(64 + 32, 64, 32, batch_norm)\n",
        "        \n",
        "        self.out = torch.nn.Conv2d(in_channels=32, out_channels=out_channels, kernel_size=1)\n",
        "\n",
        "    def forward(self, x):  \n",
        "        init_conv = torch.nn.functional.relu(self.init_conv(x), inplace=True)\n",
        "\n",
        "        enc1 = torch.nn.functional.relu(self.conv1(init_conv), inplace=True)\n",
        "        enc2 = torch.nn.functional.relu(self.conv2(self.down(enc1)), inplace=True)\n",
        "        enc3 = torch.nn.functional.relu(self.conv3(self.down(enc2)), inplace=True)\n",
        "        enc3 = torch.nn.functional.relu(self.conv3s(enc3), inplace=True)\n",
        "        enc4 = torch.nn.functional.relu(self.conv4(self.down(enc3)), inplace=True)\n",
        "        enc4 = torch.nn.functional.relu(self.conv4s(enc4), inplace=True)\n",
        "        enc5 = torch.nn.functional.relu(self.conv5(self.down(enc4)), inplace=True)\n",
        "        enc5 = torch.nn.functional.relu(self.conv5s(enc5), inplace=True)\n",
        "        \n",
        "        center = self.center(self.down(enc5))\n",
        "        \n",
        "        dec5 = self.dec5(torch.cat([self.up(center, enc5.size()[-2:]), enc5], 1))\n",
        "        dec4 = self.dec4(torch.cat([self.up(dec5, enc4.size()[-2:]), enc4], 1))\n",
        "        dec3 = self.dec3(torch.cat([self.up(dec4, enc3.size()[-2:]), enc3], 1))\n",
        "        dec2 = self.dec2(torch.cat([self.up(dec3, enc2.size()[-2:]), enc2], 1))\n",
        "        dec1 = self.dec1(torch.cat([self.up(dec2, enc1.size()[-2:]), enc1], 1))\n",
        "        \n",
        "        out = self.out(dec1)\n",
        "        \n",
        "        return out"
      ],
      "id": "cooked-episode",
      "execution_count": null,
      "outputs": []
    },
    {
      "cell_type": "code",
      "metadata": {
        "colab": {
          "base_uri": "https://localhost:8080/"
        },
        "id": "postal-white",
        "outputId": "0c60413c-021d-4264-b008-d788579366c5"
      },
      "source": [
        "device = torch.device(\"cuda:0\" if torch.cuda.is_available() else \"cpu\")\n",
        "device"
      ],
      "id": "postal-white",
      "execution_count": null,
      "outputs": [
        {
          "output_type": "execute_result",
          "data": {
            "text/plain": [
              "device(type='cuda', index=0)"
            ]
          },
          "metadata": {
            "tags": []
          },
          "execution_count": 9
        }
      ]
    },
    {
      "cell_type": "code",
      "metadata": {
        "id": "considered-audio"
      },
      "source": [
        "unet = PretrainedUNet(\n",
        "    in_channels=1,\n",
        "    out_channels=2, \n",
        "    batch_norm=True, \n",
        "    upscale_mode=\"bilinear\"\n",
        ")"
      ],
      "id": "considered-audio",
      "execution_count": null,
      "outputs": []
    },
    {
      "cell_type": "code",
      "metadata": {
        "id": "romance-chaos",
        "outputId": "92234a0e-cf3f-4adf-8b67-dde322344462"
      },
      "source": [
        "torch.cuda.device_count()\n",
        "cuda0 = torch.cuda.set_device(0)\n",
        "torch.cuda.current_device() "
      ],
      "id": "romance-chaos",
      "execution_count": null,
      "outputs": [
        {
          "output_type": "execute_result",
          "data": {
            "text/plain": [
              "0"
            ]
          },
          "metadata": {
            "tags": []
          },
          "execution_count": 11
        }
      ]
    },
    {
      "cell_type": "code",
      "metadata": {
        "id": "logical-alaska"
      },
      "source": [
        "model_name = \"unet-6v.pt\"\n",
        "\n",
        "unet.load_state_dict(torch.load(model_name, map_location=torch.device(\"cpu\")), strict=False)\n",
        "\n",
        "device = torch.cuda.set_device(0)\n",
        "unet.to(device)\n",
        "unet.eval();"
      ],
      "id": "logical-alaska",
      "execution_count": null,
      "outputs": []
    },
    {
      "cell_type": "code",
      "metadata": {
        "id": "permanent-encyclopedia"
      },
      "source": [
        "def transform(img, lung=True):\n",
        "  origin = torchvision.transforms.functional.resize(img, (512, 512))\n",
        "  origin = torchvision.transforms.functional.to_tensor(origin) - 0.5\n",
        "  with torch.no_grad():\n",
        "      origin = torch.stack([origin])\n",
        "      origin = origin.to(device)\n",
        "      out = unet(origin)\n",
        "      softmax = torch.nn.functional.log_softmax(out, dim=1)\n",
        "      out = torch.argmax(softmax, dim=1)\n",
        "      origin = origin[0].to(\"cpu\")\n",
        "      out = out[0].to(\"cpu\")\n",
        "\n",
        "  return masked(origin, lung, out)"
      ],
      "id": "permanent-encyclopedia",
      "execution_count": null,
      "outputs": []
    },
    {
      "cell_type": "code",
      "metadata": {
        "id": "dress-slovak"
      },
      "source": [
        "def masked(origin, lung=True, out=None):\n",
        "  color = (0, 0, 0)\n",
        "  masked_img = np.array(blend(origin))\n",
        "  masked_part = np.array(blend(origin, mask3=out))\n",
        "  for x in range(masked_img.shape[0]):\n",
        "      for y in range(masked_img.shape[1]):\n",
        "          r, g, b = masked_part[y][x]\n",
        "          if (lung == True and (r,g,b) == color):\n",
        "            masked_img[y][x] = 0\n",
        "          elif lung == False and (r,g,b) != color:\n",
        "            masked_img[y][x] = 0\n",
        "  return masked_img"
      ],
      "id": "dress-slovak",
      "execution_count": null,
      "outputs": []
    },
    {
      "cell_type": "markdown",
      "metadata": {
        "id": "northern-geometry"
      },
      "source": [
        "# Plot example image"
      ],
      "id": "northern-geometry"
    },
    {
      "cell_type": "code",
      "metadata": {
        "id": "honest-activation"
      },
      "source": [
        "filename = '../TFrecords/mimic-tf-record9.tfrecords'\n",
        "raw_dataset = tf.data.TFRecordDataset(filename)\n",
        "for raw_record in raw_dataset:\n",
        "    example = tf.train.Example()\n",
        "    example.ParseFromString(raw_record.numpy()) \n",
        "\n",
        "    ethnicity = example.features.feature['ethnicity'].int64_list.value[0]\n",
        "    subject_id = example.features.feature['subject_id'].int64_list.value[0]\n",
        "    nparr = np.fromstring(example.features.feature['jpg_bytes'].bytes_list.value[0], np.uint8)\n",
        "    img_np = cv.imdecode(nparr, cv.IMREAD_GRAYSCALE)\n",
        "    img_np = Image.fromarray(img_np).convert(\"P\")\n",
        "    transformed_bg = transform(img_np, lung=False)\n",
        "    transformed_lung = transform(img_np, lung=True)\n",
        "    gray_image_bg = cv.cvtColor(transformed_bg, cv.COLOR_BGR2GRAY)\n",
        "    gray_image_lung = cv.cvtColor(transformed_lung, cv.COLOR_BGR2GRAY)\n",
        "    break"
      ],
      "id": "honest-activation",
      "execution_count": null,
      "outputs": []
    },
    {
      "cell_type": "code",
      "metadata": {
        "id": "greater-courtesy",
        "outputId": "0be03377-6750-4ab9-e865-d0cd71f3bc43"
      },
      "source": [
        "plt.imshow(gray_image_bg, cmap='gray')"
      ],
      "id": "greater-courtesy",
      "execution_count": null,
      "outputs": [
        {
          "output_type": "execute_result",
          "data": {
            "text/plain": [
              "<matplotlib.image.AxesImage at 0x7f16203ba990>"
            ]
          },
          "metadata": {
            "tags": []
          },
          "execution_count": 159
        },
        {
          "output_type": "display_data",
          "data": {
            "image/png": "[encoded data removed]",
            "text/plain": [
              "<Figure size 432x288 with 1 Axes>"
            ]
          },
          "metadata": {
            "tags": [],
            "needs_background": "light"
          }
        }
      ]
    },
    {
      "cell_type": "code",
      "metadata": {
        "id": "classical-september",
        "outputId": "1cd32e56-52a4-47b8-8aad-fa65ded1938b"
      },
      "source": [
        "plt.imshow(gray_image_lung, cmap='gray')"
      ],
      "id": "classical-september",
      "execution_count": null,
      "outputs": [
        {
          "output_type": "execute_result",
          "data": {
            "text/plain": [
              "<matplotlib.image.AxesImage at 0x7f16201a2bd0>"
            ]
          },
          "metadata": {
            "tags": []
          },
          "execution_count": 56
        },
        {
          "output_type": "display_data",
          "data": {
            "image/png": "[encoded data removed]",
            "text/plain": [
              "<Figure size 432x288 with 1 Axes>"
            ]
          },
          "metadata": {
            "tags": [],
            "needs_background": "light"
          }
        }
      ]
    },
    {
      "cell_type": "markdown",
      "metadata": {
        "id": "maritime-genome"
      },
      "source": [
        "# Test"
      ],
      "id": "maritime-genome"
    },
    {
      "cell_type": "code",
      "metadata": {
        "id": "fluid-perception"
      },
      "source": [
        "INPUT_SHAPE = (224, 224, 1)\n",
        "X_test = []\n",
        "X_test_bg = []\n",
        "y_test = []\n",
        "filename = 'mimic_test.tfrecords'\n",
        "raw_dataset = tf.data.TFRecordDataset(filename)\n",
        "for raw_record in raw_dataset:\n",
        "    example = tf.train.Example()\n",
        "    example.ParseFromString(raw_record.numpy()) \n",
        "    ethnicity = example.features.feature['ethnicity'].int64_list.value[0]\n",
        "    if (ethnicity == 0):\n",
        "      sub_y = [1, 0, 0]\n",
        "    elif (ethnicity == 1):\n",
        "      sub_y = [0, 1, 0]\n",
        "    elif (ethnicity == 4):\n",
        "      sub_y = [0, 0, 1]\n",
        "    else:\n",
        "      continue\n",
        "    nparr = np.fromstring(example.features.feature['jpg_bytes'].bytes_list.value[0], np.uint8)\n",
        "    img_np = cv.imdecode(nparr, cv.IMREAD_GRAYSCALE)\n",
        "    img_np = Image.fromarray(img_np).convert(\"P\")\n",
        "\n",
        "    transformed_bg = transform(img_np, lung=False)\n",
        "    transformed = transform(img_np, lung=True)\n",
        "    \n",
        "    gray_image_bg = cv.cvtColor(transformed_bg, cv.COLOR_BGR2GRAY)\n",
        "    gray_image = cv.cvtColor(transformed, cv.COLOR_BGR2GRAY)\n",
        "    \n",
        "    image_bg = np.float16(st.resize(gray_image_bg, INPUT_SHAPE))\n",
        "    image = np.float16(st.resize(gray_image, INPUT_SHAPE))\n",
        "\n",
        "    X_test_bg.append(np.float16(image_bg))\n",
        "    X_test.append(np.float16(image))\n",
        "\n",
        "    y_test.append(sub_y)\n",
        "\n",
        "    del sub_y\n",
        "    del img_np\n",
        "\n",
        "X_test = np.array(X_test)\n",
        "X_test_bg = np.array(X_test_bg)\n",
        "y_test = np.array(y_test)"
      ],
      "id": "fluid-perception",
      "execution_count": null,
      "outputs": []
    }
  ]
}